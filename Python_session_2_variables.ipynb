{
 "cells": [
  {
   "cell_type": "markdown",
   "id": "8f73b42a-10b1-41d0-a27f-629c762b0246",
   "metadata": {},
   "source": [
    "## Variables"
   ]
  },
  {
   "cell_type": "markdown",
   "id": "2e3dc220-06f5-4a30-94c7-576130702b78",
   "metadata": {},
   "source": [
    "Variables are used to store the values, and the variables can be change."
   ]
  },
  {
   "cell_type": "code",
   "execution_count": 6,
   "id": "ca2a8e79-a52b-4dff-8c68-fd90b5eee13f",
   "metadata": {},
   "outputs": [
    {
     "name": "stdout",
     "output_type": "stream",
     "text": [
      "100\n"
     ]
    }
   ],
   "source": [
    "num=100\n",
    "#value 100 Stored in a variable called: num\n",
    "print(num)"
   ]
  },
  {
   "cell_type": "code",
   "execution_count": 8,
   "id": "e55b485a-4ba0-4262-9749-500b61e7585e",
   "metadata": {},
   "outputs": [
    {
     "data": {
      "text/plain": [
       "300"
      ]
     },
     "execution_count": 8,
     "metadata": {},
     "output_type": "execute_result"
    }
   ],
   "source": [
    "number=300\n",
    "number"
   ]
  },
  {
   "cell_type": "code",
   "execution_count": 10,
   "id": "f74bdad2-49c5-45aa-92e2-92a6929b6071",
   "metadata": {},
   "outputs": [
    {
     "data": {
      "text/plain": [
       "200"
      ]
     },
     "execution_count": 10,
     "metadata": {},
     "output_type": "execute_result"
    }
   ],
   "source": [
    "NUMBER=200\n",
    "NUMBER"
   ]
  },
  {
   "cell_type": "code",
   "execution_count": 12,
   "id": "d5f892b6-06c4-4ac7-a9ad-1aba00c08548",
   "metadata": {},
   "outputs": [
    {
     "data": {
      "text/plain": [
       "(300, 200)"
      ]
     },
     "execution_count": 12,
     "metadata": {},
     "output_type": "execute_result"
    }
   ],
   "source": [
    "number,NUMBER"
   ]
  },
  {
   "cell_type": "code",
   "execution_count": null,
   "id": "5b54d7bb-c18e-4bb1-8c8a-2c828763eefa",
   "metadata": {},
   "outputs": [],
   "source": [
    "number # works\n",
    "NUMBER # works\n",
    "123number # Doesn't work\n",
    "number123 # works"
   ]
  },
  {
   "cell_type": "code",
   "execution_count": 15,
   "id": "0cc11be1-3f78-4290-bec0-b6e0d4ebf59b",
   "metadata": {},
   "outputs": [
    {
     "data": {
      "text/plain": [
       "10"
      ]
     },
     "execution_count": 15,
     "metadata": {},
     "output_type": "execute_result"
    }
   ],
   "source": [
    "Number_one=(10) #Exception\n",
    "Number_one"
   ]
  },
  {
   "cell_type": "code",
   "execution_count": null,
   "id": "e65f1ca4-dc47-41cf-a959-3fe82ae95349",
   "metadata": {},
   "outputs": [],
   "source": [
    "Number  =200 ## space also a special character\n",
    "Number  \n"
   ]
  },
  {
   "cell_type": "markdown",
   "id": "c581f580-f499-4bd2-a483-99b2fd82498d",
   "metadata": {},
   "source": [
    "- variables can be a capital letters\n",
    "- variables can be a small letters\n",
    "- variables can be a mix of both cap and small \n",
    "- variables can be a mix of letters and numbers as **Suffix**\n",
    "- variables cannot be a mix of letters and numbers as **prefix**\n",
    "- keywords can not be a variable (if, else, true,false, while,do)\n",
    "\n"
   ]
  },
  {
   "cell_type": "code",
   "execution_count": 1,
   "id": "1eab232d-5f39-48ae-ab76-b76b57094e32",
   "metadata": {},
   "outputs": [
    {
     "data": {
      "text/plain": [
       "100"
      ]
     },
     "execution_count": 1,
     "metadata": {},
     "output_type": "execute_result"
    }
   ],
   "source": [
    "_ =100 # If we give only underscore it will work\n",
    "_"
   ]
  },
  {
   "cell_type": "code",
   "execution_count": null,
   "id": "6a93ae27-29b2-4cac-9cf6-10c85ee3b03d",
   "metadata": {},
   "outputs": [],
   "source": []
  }
 ],
 "metadata": {
  "kernelspec": {
   "display_name": "Python 3 (ipykernel)",
   "language": "python",
   "name": "python3"
  },
  "language_info": {
   "codemirror_mode": {
    "name": "ipython",
    "version": 3
   },
   "file_extension": ".py",
   "mimetype": "text/x-python",
   "name": "python",
   "nbconvert_exporter": "python",
   "pygments_lexer": "ipython3",
   "version": "3.11.7"
  }
 },
 "nbformat": 4,
 "nbformat_minor": 5
}
