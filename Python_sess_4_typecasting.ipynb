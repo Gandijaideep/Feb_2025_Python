{
 "cells": [
  {
   "cell_type": "markdown",
   "id": "5d91719d-95c7-4b88-8138-c4b7a0c2bb69",
   "metadata": {},
   "source": [
    "# Type Cast"
   ]
  },
  {
   "cell_type": "markdown",
   "id": "5409e3c9-21bb-4c9a-906f-87aa95ae98c1",
   "metadata": {},
   "source": [
    "- changing one datatype to another datatype\n"
   ]
  },
  {
   "cell_type": "markdown",
   "id": "f2bcd2db-30ef-4cfd-9e8a-07276be52c97",
   "metadata": {},
   "source": [
    "- int to float\n",
    "- int to str\n",
    "- int to bool"
   ]
  },
  {
   "cell_type": "code",
   "execution_count": 7,
   "id": "152f2c20-4bc8-479d-9f82-f80fdd901a37",
   "metadata": {},
   "outputs": [
    {
     "data": {
      "text/plain": [
       "int"
      ]
     },
     "execution_count": 7,
     "metadata": {},
     "output_type": "execute_result"
    }
   ],
   "source": [
    "num=100\n",
    "type(num)"
   ]
  },
  {
   "cell_type": "code",
   "execution_count": 9,
   "id": "378e7494-11fe-4156-84a6-18f63ba4b6ea",
   "metadata": {},
   "outputs": [
    {
     "data": {
      "text/plain": [
       "100.0"
      ]
     },
     "execution_count": 9,
     "metadata": {},
     "output_type": "execute_result"
    }
   ],
   "source": [
    "float_num=float(num)"
   ]
  },
  {
   "cell_type": "code",
   "execution_count": 17,
   "id": "9070cdfb-c410-4e5c-b0ca-1d85699e3fbd",
   "metadata": {},
   "outputs": [
    {
     "data": {
      "text/plain": [
       "('10', str)"
      ]
     },
     "execution_count": 17,
     "metadata": {},
     "output_type": "execute_result"
    }
   ],
   "source": [
    "num1=10\n",
    "str_num1=str(num1)\n",
    "str_num1,type(str_num1)"
   ]
  },
  {
   "cell_type": "code",
   "execution_count": 25,
   "id": "adf50dc0-703d-4df6-9cbb-a7ebd247b44b",
   "metadata": {},
   "outputs": [
    {
     "data": {
      "text/plain": [
       "True"
      ]
     },
     "execution_count": 25,
     "metadata": {},
     "output_type": "execute_result"
    }
   ],
   "source": [
    "num2=-199\n",
    "bool(num2)"
   ]
  },
  {
   "cell_type": "code",
   "execution_count": 33,
   "id": "db2371f0-9f0a-448d-b2a3-5aba369a76cf",
   "metadata": {},
   "outputs": [
    {
     "name": "stdout",
     "output_type": "stream",
     "text": [
      "100.0\n",
      "100\n",
      "False\n"
     ]
    }
   ],
   "source": [
    "print(float(100))\n",
    "print(str(100))\n",
    "print(bool(0))\n",
    "\n"
   ]
  },
  {
   "cell_type": "code",
   "execution_count": 39,
   "id": "8d664552-dfc2-470d-bea2-fd7557cd6457",
   "metadata": {},
   "outputs": [
    {
     "name": "stdout",
     "output_type": "stream",
     "text": [
      "10\n"
     ]
    }
   ],
   "source": [
    "# Float to other datatypes\n",
    "float1=10.23\n",
    "print(int(float1))"
   ]
  },
  {
   "cell_type": "code",
   "execution_count": 41,
   "id": "e598f239-70aa-420b-8c2c-e5ad1afdfc00",
   "metadata": {},
   "outputs": [
    {
     "name": "stdout",
     "output_type": "stream",
     "text": [
      "True\n"
     ]
    }
   ],
   "source": [
    "float2=344.55\n",
    "print(bool(float2))"
   ]
  },
  {
   "cell_type": "markdown",
   "id": "db503e5f-9026-4947-9764-de6169435671",
   "metadata": {},
   "source": [
    "# String to others"
   ]
  },
  {
   "cell_type": "code",
   "execution_count": 47,
   "id": "08092408-309f-467f-a27d-bdf716e9cedc",
   "metadata": {},
   "outputs": [
    {
     "data": {
      "text/plain": [
       "True"
      ]
     },
     "execution_count": 47,
     "metadata": {},
     "output_type": "execute_result"
    }
   ],
   "source": [
    "#int('apple')\n",
    "#float('apple')\n",
    "bool(\"apple\")"
   ]
  },
  {
   "cell_type": "code",
   "execution_count": 51,
   "id": "ea03fe69-f3c9-4db5-96c9-d1f43c7551bd",
   "metadata": {},
   "outputs": [
    {
     "data": {
      "text/plain": [
       "False"
      ]
     },
     "execution_count": 51,
     "metadata": {},
     "output_type": "execute_result"
    }
   ],
   "source": [
    "bool('')"
   ]
  },
  {
   "cell_type": "code",
   "execution_count": 55,
   "id": "02a0bb98-b33b-4ec2-a3b2-83789d33b162",
   "metadata": {},
   "outputs": [
    {
     "ename": "ValueError",
     "evalue": "invalid literal for int() with base 10: '10.5'",
     "output_type": "error",
     "traceback": [
      "\u001b[1;31m---------------------------------------------------------------------------\u001b[0m",
      "\u001b[1;31mValueError\u001b[0m                                Traceback (most recent call last)",
      "Cell \u001b[1;32mIn[55], line 1\u001b[0m\n\u001b[1;32m----> 1\u001b[0m \u001b[38;5;28mint\u001b[39m(\u001b[38;5;124m'\u001b[39m\u001b[38;5;124m10.5\u001b[39m\u001b[38;5;124m'\u001b[39m)\n",
      "\u001b[1;31mValueError\u001b[0m: invalid literal for int() with base 10: '10.5'"
     ]
    }
   ],
   "source": [
    "int('10.5') #10\n",
    "# float('10') #10.0 \n",
    "# bool('10') "
   ]
  },
  {
   "cell_type": "markdown",
   "id": "affa45c3-b087-4a97-b3f9-743c93051226",
   "metadata": {},
   "source": [
    "- integer * integer = works\n",
    "- Int * float = error\n",
    "- Float can works with all datatypes"
   ]
  },
  {
   "cell_type": "markdown",
   "id": "844751e8-589d-4e37-be10-5680e7207020",
   "metadata": {},
   "source": [
    "# bool to other"
   ]
  },
  {
   "cell_type": "code",
   "execution_count": 63,
   "id": "03bcf4c8-2a85-458c-a73b-e1fa40c6d8e5",
   "metadata": {},
   "outputs": [
    {
     "name": "stdout",
     "output_type": "stream",
     "text": [
      "1\n",
      "True\n",
      "0.0\n"
     ]
    }
   ],
   "source": [
    "print(int(True))\n",
    "print(str(True))\n",
    "print(float(False))"
   ]
  },
  {
   "cell_type": "code",
   "execution_count": 69,
   "id": "6b4da415-f8bd-48a3-93ff-ba1f24031055",
   "metadata": {},
   "outputs": [
    {
     "data": {
      "text/plain": [
       "10"
      ]
     },
     "execution_count": 69,
     "metadata": {},
     "output_type": "execute_result"
    }
   ],
   "source": [
    "#how to convert 10.5===>10\n",
    "int(float(10.5))"
   ]
  },
  {
   "cell_type": "code",
   "execution_count": null,
   "id": "7de7aa0d-9e3f-4b0e-ab00-a5874e1fa6a9",
   "metadata": {},
   "outputs": [],
   "source": []
  }
 ],
 "metadata": {
  "kernelspec": {
   "display_name": "Python 3 (ipykernel)",
   "language": "python",
   "name": "python3"
  },
  "language_info": {
   "codemirror_mode": {
    "name": "ipython",
    "version": 3
   },
   "file_extension": ".py",
   "mimetype": "text/x-python",
   "name": "python",
   "nbconvert_exporter": "python",
   "pygments_lexer": "ipython3",
   "version": "3.11.7"
  }
 },
 "nbformat": 4,
 "nbformat_minor": 5
}
