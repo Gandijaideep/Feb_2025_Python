{
 "cells": [
  {
   "cell_type": "code",
   "execution_count": 2,
   "id": "a5f628b2-11a1-427d-a362-884b81fb97ef",
   "metadata": {},
   "outputs": [
    {
     "name": "stdout",
     "output_type": "stream",
     "text": [
      "10 20\n"
     ]
    }
   ],
   "source": [
    "a=10\n",
    "b=20\n",
    "print(a,b)"
   ]
  },
  {
   "cell_type": "code",
   "execution_count": 4,
   "id": "aa51405a-9017-415a-94a3-44b7f1ea0f25",
   "metadata": {
    "collapsed": true,
    "jupyter": {
     "outputs_hidden": true
    }
   },
   "outputs": [
    {
     "name": "stdout",
     "output_type": "stream",
     "text": [
      "10\n",
      "20\n"
     ]
    },
    {
     "data": {
      "text/plain": [
       "(None, None)"
      ]
     },
     "execution_count": 4,
     "metadata": {},
     "output_type": "execute_result"
    }
   ],
   "source": [
    "print(a),print(b)"
   ]
  },
  {
   "cell_type": "code",
   "execution_count": 6,
   "id": "af377aa6-19f3-4c91-b5ab-c587231f5b49",
   "metadata": {},
   "outputs": [
    {
     "data": {
      "text/plain": [
       "(10, 20)"
      ]
     },
     "execution_count": 6,
     "metadata": {},
     "output_type": "execute_result"
    }
   ],
   "source": [
    "a,b"
   ]
  },
  {
   "cell_type": "code",
   "execution_count": 8,
   "id": "b8140e8e-c771-47b7-831a-68de8370c02d",
   "metadata": {},
   "outputs": [
    {
     "data": {
      "text/plain": [
       "20"
      ]
     },
     "execution_count": 8,
     "metadata": {},
     "output_type": "execute_result"
    }
   ],
   "source": [
    "a #here it gives only the last values for that we are using print() statements.\n",
    "b"
   ]
  },
  {
   "cell_type": "code",
   "execution_count": 10,
   "id": "a19cc3c0-2905-4d9f-8e0a-44d78263f01e",
   "metadata": {},
   "outputs": [
    {
     "name": "stdout",
     "output_type": "stream",
     "text": [
      "the addition of 100 and 200 is 300\n"
     ]
    }
   ],
   "source": [
    "a=100\n",
    "b=200\n",
    "c=a+b\n",
    "print(\"the addition of\",a,\"and\",b,\"is\", c) "
   ]
  },
  {
   "cell_type": "code",
   "execution_count": 26,
   "id": "8000a47b-992d-480b-8299-d4fd503d6ddf",
   "metadata": {},
   "outputs": [
    {
     "name": "stdout",
     "output_type": "stream",
     "text": [
      "My name is  jai  im 19  yrs old and from hyd\n"
     ]
    }
   ],
   "source": [
    "name=\"jai\"\n",
    "age=19\n",
    "city=\"hyd\"\n",
    "print(\"My name is \", name,\" I'm\", age,\" yrs old and from\", city)"
   ]
  },
  {
   "cell_type": "markdown",
   "id": "5f8291e8-183a-42ae-8315-ae6c0c42f40c",
   "metadata": {},
   "source": [
    "# format"
   ]
  },
  {
   "cell_type": "code",
   "execution_count": 31,
   "id": "81339293-bb86-4221-8d2e-5f9246c7885f",
   "metadata": {},
   "outputs": [
    {
     "name": "stdout",
     "output_type": "stream",
     "text": [
      "the addition of 100 and 200 is 300\n",
      "the addition of100 and 200 is 300\n"
     ]
    }
   ],
   "source": [
    "a=100\n",
    "b=200\n",
    "c=a+b\n",
    "print(\"the addition of\",a,\"and\",b,\"is\", c)\n",
    "print(\"the addition of{} and {} is {}\".format(a,b,c))"
   ]
  },
  {
   "cell_type": "code",
   "execution_count": 39,
   "id": "7b99077d-9799-4319-a1e5-f9b9706c4f69",
   "metadata": {},
   "outputs": [
    {
     "name": "stdout",
     "output_type": "stream",
     "text": [
      "My name is Jai my height is 159 and weight is 75\n"
     ]
    }
   ],
   "source": [
    "name=\"Jai\"\n",
    "height=159\n",
    "weight=75\n",
    "print(\"My name is {} my height is {} and weight is {}\".format(name,height,weight))\n"
   ]
  },
  {
   "cell_type": "code",
   "execution_count": 54,
   "id": "3af69b2c-0bfb-4458-a682-fc1a204013bc",
   "metadata": {},
   "outputs": [
    {
     "name": "stdout",
     "output_type": "stream",
     "text": [
      "the addition of 200 and 300 is 500\n",
      "the subtraction of 200 and 300 is -100\n",
      "the multiplication of 200 and 300 is 60000\n",
      "the division of 200 and 300 is 0.6666666666666666\n"
     ]
    }
   ],
   "source": [
    "n1=200\n",
    "n2=300\n",
    "add=n1+n2\n",
    "sub=n1-n2\n",
    "mult=n1*n2\n",
    "div=n1/n2\n",
    "print(\"the addition of {} and {} is {}\".format(n1,n2,add))\n",
    "print(\"the subtraction of {} and {} is {}\".format(n1,n2,sub))\n",
    "print(\"the multiplication of {} and {} is {}\".format(n1,n2,mult))\n",
    "print(\"the division of {} and {} is {}\".format(n1,n2,div))\n",
    "\n",
    "\n",
    "\n",
    "\n"
   ]
  },
  {
   "cell_type": "markdown",
   "id": "0ed92001-dad9-4ac5-9cd2-c32c586669b0",
   "metadata": {},
   "source": [
    "# Fstring - use f before the \" \""
   ]
  },
  {
   "cell_type": "code",
   "execution_count": 76,
   "id": "745d5361-88f1-48dd-8aa7-d8eff2bd024d",
   "metadata": {},
   "outputs": [
    {
     "name": "stdout",
     "output_type": "stream",
     "text": [
      "the addition of 100 and 300 is 400\n",
      "the subtraction of 100 and 300 is -200\n",
      "the multiplication of 100 and 300 is 30000\n",
      "the division of 100 and 300 is 0.3333333333333333\n"
     ]
    }
   ],
   "source": [
    "n1=100\n",
    "n2=300\n",
    "add=n1+n2\n",
    "sub=n1-n2\n",
    "mult=n1*n2\n",
    "div=n1/n2\n",
    "print(f\"the addition of {n1} and {n2} is {add}\")\n",
    "print(f\"the subtraction of {n1} and {n2} is {sub}\")\n",
    "print(f\"the multiplication of {n1} and {n2} is {mult}\")\n",
    "print(f\"the division of {n1} and {n2} is {div}\")"
   ]
  },
  {
   "cell_type": "markdown",
   "id": "37949013-92bb-4baf-a60f-2ba30b11d205",
   "metadata": {},
   "source": [
    "- we have a situation want to combine two print statements"
   ]
  },
  {
   "cell_type": "markdown",
   "id": "7b9f37db-fccb-4182-af13-59e326159bcd",
   "metadata": {},
   "source": [
    "$end$ \n",
    "- $ used to change the font\n",
    "- end operator used to combine multiple print statements"
   ]
  },
  {
   "cell_type": "code",
   "execution_count": 82,
   "id": "a07ed78f-afe3-4347-b4d9-68ab7b3171ce",
   "metadata": {},
   "outputs": [
    {
     "name": "stdout",
     "output_type": "stream",
     "text": [
      "20\n",
      "24\n"
     ]
    }
   ],
   "source": [
    "print(20)\n",
    "print(24)"
   ]
  },
  {
   "cell_type": "code",
   "execution_count": 109,
   "id": "2c059833-fcfe-4c17-91cd-4f416647e1e1",
   "metadata": {},
   "outputs": [
    {
     "name": "stdout",
     "output_type": "stream",
     "text": [
      "20 value\n"
     ]
    }
   ],
   "source": [
    "print(20, end=\" \")\n",
    "print(\"value\")"
   ]
  },
  {
   "cell_type": "code",
   "execution_count": 104,
   "id": "bf08605e-8516-42e6-9b29-ace37453ab81",
   "metadata": {},
   "outputs": [
    {
     "name": "stdout",
     "output_type": "stream",
     "text": [
      "233 244 255\n"
     ]
    }
   ],
   "source": [
    "print(233, end=\" \")\n",
    "print(244, end=\" \")\n",
    "print(255)"
   ]
  },
  {
   "cell_type": "markdown",
   "id": "d152278a-4e50-4d6a-bc0d-c98730fcc72c",
   "metadata": {},
   "source": [
    "- we want to separate multiple variables in one print statement  we use below separate operate "
   ]
  },
  {
   "cell_type": "markdown",
   "id": "1d3eba20-bf0b-4c13-a31f-67f448e768fc",
   "metadata": {},
   "source": [
    "$ Separater $"
   ]
  },
  {
   "cell_type": "code",
   "execution_count": 115,
   "id": "d95fdff9-d6e0-4309-bcab-1c9d427081c2",
   "metadata": {},
   "outputs": [
    {
     "name": "stdout",
     "output_type": "stream",
     "text": [
      "20=!30\n"
     ]
    }
   ],
   "source": [
    "print(20,30,sep=\"=!\")"
   ]
  },
  {
   "cell_type": "code",
   "execution_count": 4,
   "id": "a3de7651-6848-4e76-b817-3605b8065b49",
   "metadata": {},
   "outputs": [
    {
     "name": "stdout",
     "output_type": "stream",
     "text": [
      "the addition of 3+4 is 7 .\n"
     ]
    }
   ],
   "source": [
    "print('the addition of 3+4 is',3+4,\".\")"
   ]
  },
  {
   "cell_type": "code",
   "execution_count": 127,
   "id": "360e88ff-f2c7-42dc-9c59-3d78c72da5a1",
   "metadata": {},
   "outputs": [
    {
     "name": "stdout",
     "output_type": "stream",
     "text": [
      "addition of 3 and4 is 7.\n"
     ]
    }
   ],
   "source": [
    "a=3\n",
    "b=4\n",
    "c=a+b\n",
    "print(\"addition of {} and {} is {}.\".format(a,b,c))"
   ]
  },
  {
   "cell_type": "code",
   "execution_count": 131,
   "id": "bf3a0863-637d-4d37-9937-8928ce523000",
   "metadata": {},
   "outputs": [
    {
     "name": "stdout",
     "output_type": "stream",
     "text": [
      "addition of 3 and 4 is 7.\n"
     ]
    }
   ],
   "source": [
    "print(f\"addition of {a} and {b} is {c}.\")"
   ]
  },
  {
   "cell_type": "code",
   "execution_count": 163,
   "id": "b49e1b4d-a03e-4caa-9d37-a34497b39914",
   "metadata": {},
   "outputs": [
    {
     "name": "stdout",
     "output_type": "stream",
     "text": [
      "the addition of 3+4 is =7\n"
     ]
    }
   ],
   "source": [
    "print(\"the addition of 3+4 is\",3+4 ,sep=\" =\")"
   ]
  },
  {
   "cell_type": "code",
   "execution_count": 167,
   "id": "c0e46b5d-563a-44f3-a94e-ef81849aa037",
   "metadata": {},
   "outputs": [
    {
     "name": "stdin",
     "output_type": "stream",
     "text": [
      "enter a num 20\n"
     ]
    },
    {
     "data": {
      "text/plain": [
       "'20'"
      ]
     },
     "execution_count": 167,
     "metadata": {},
     "output_type": "execute_result"
    }
   ],
   "source": [
    "input(\"enter a num\")"
   ]
  },
  {
   "cell_type": "code",
   "execution_count": 171,
   "id": "aa9bafbc-5d80-4af3-a46f-eb873644f0cc",
   "metadata": {},
   "outputs": [
    {
     "name": "stdin",
     "output_type": "stream",
     "text": [
      "enter your name Jai\n",
      "enter age: 20\n",
      "city: hyd\n"
     ]
    },
    {
     "data": {
      "text/plain": [
       "'hyd'"
      ]
     },
     "execution_count": 171,
     "metadata": {},
     "output_type": "execute_result"
    }
   ],
   "source": [
    "input(\"enter your name\")\n",
    "input(\"enter age:\")\n",
    "input(\"city:\")"
   ]
  },
  {
   "cell_type": "code",
   "execution_count": 183,
   "id": "cc08807a-deab-4b4c-a994-f0267e80f2fa",
   "metadata": {},
   "outputs": [
    {
     "name": "stdin",
     "output_type": "stream",
     "text": [
      "enter value of a: 10\n",
      "enter value of b: 20\n"
     ]
    },
    {
     "data": {
      "text/plain": [
       "30"
      ]
     },
     "execution_count": 183,
     "metadata": {},
     "output_type": "execute_result"
    }
   ],
   "source": [
    "a=int(input('enter value of a:'))\n",
    "b=int(input('enter value of b:'))\n",
    "a+b"
   ]
  },
  {
   "cell_type": "code",
   "execution_count": null,
   "id": "e8d4bab9-775c-40a7-b13d-e48bb4a7e147",
   "metadata": {},
   "outputs": [],
   "source": []
  }
 ],
 "metadata": {
  "kernelspec": {
   "display_name": "Python 3 (ipykernel)",
   "language": "python",
   "name": "python3"
  },
  "language_info": {
   "codemirror_mode": {
    "name": "ipython",
    "version": 3
   },
   "file_extension": ".py",
   "mimetype": "text/x-python",
   "name": "python",
   "nbconvert_exporter": "python",
   "pygments_lexer": "ipython3",
   "version": "3.11.7"
  }
 },
 "nbformat": 4,
 "nbformat_minor": 5
}
