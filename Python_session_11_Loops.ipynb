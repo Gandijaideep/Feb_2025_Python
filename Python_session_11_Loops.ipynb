{
 "cells": [
  {
   "cell_type": "raw",
   "id": "ecf6d180-2fea-4c6f-b41e-19802201e73f",
   "metadata": {},
   "source": [
    "# Loops:"
   ]
  },
  {
   "cell_type": "markdown",
   "id": "cce70dcd-680d-47ee-a94d-55f886eaab9d",
   "metadata": {},
   "source": [
    "- Iterating code\n",
    "  - For Loops\n",
    "  - while Loops"
   ]
  },
  {
   "cell_type": "markdown",
   "id": "05b8f9d0-b529-4aa8-81ca-7871128dcdec",
   "metadata": {},
   "source": [
    "- intialization (intial point to start the loop)\n",
    "- increment/decrement\n",
    "- condition to stop the loop"
   ]
  },
  {
   "cell_type": "markdown",
   "id": "2b4696b6-de91-4ab9-8785-b4eb519cc80b",
   "metadata": {},
   "source": [
    "**For Loop**\n",
    "- for <variable> in range(<value)>:\n",
    "-     <write your code here!>"
   ]
  },
  {
   "cell_type": "code",
   "execution_count": 4,
   "id": "f93765fb-08f4-4704-b861-e258b03f8dc1",
   "metadata": {},
   "outputs": [
    {
     "name": "stdout",
     "output_type": "stream",
     "text": [
      "0\n",
      "1\n",
      "2\n",
      "3\n",
      "4\n"
     ]
    }
   ],
   "source": [
    "for i in range(5):\n",
    "    print(i)"
   ]
  },
  {
   "cell_type": "markdown",
   "id": "f8705b71-c036-4b4e-bd39-cac2a96a5175",
   "metadata": {},
   "source": [
    "**Case-1**\n",
    "**range(stop)**\n",
    "- by default start value is :0 \n",
    "- step size= +1\n",
    "- last=stop-1\n",
    "- range(3)\n",
    "    -start value=0\n",
    "    - increment=1\n",
    "    - last=stop-1=3-1=2 "
   ]
  },
  {
   "cell_type": "code",
   "execution_count": 6,
   "id": "bc1813d8-659f-4368-a7dd-a2905f99a8ee",
   "metadata": {},
   "outputs": [
    {
     "name": "stdout",
     "output_type": "stream",
     "text": [
      "Hell0 Hell0 Hell0 Hell0 Hell0 "
     ]
    }
   ],
   "source": [
    "for i in range(5):\n",
    "    print(\"Hell0\",end=\" \")\n",
    "\n",
    "# start=0 increment=1 stop=stop-1=5-1=4"
   ]
  },
  {
   "cell_type": "markdown",
   "id": "674ffac9-33fc-452b-bcaa-a11bf9e58558",
   "metadata": {},
   "source": [
    "**Case-2: range(start,stop)**\n",
    "-  start value=start\n",
    "- step size= 1\n",
    "- last=stop-1\n"
   ]
  },
  {
   "cell_type": "code",
   "execution_count": 8,
   "id": "ddad7378-0273-4bc1-9f3e-831b8f12b554",
   "metadata": {},
   "outputs": [
    {
     "name": "stdout",
     "output_type": "stream",
     "text": [
      "3\n",
      "4\n",
      "5\n",
      "6\n",
      "7\n"
     ]
    }
   ],
   "source": [
    "for i in range(3,8):\n",
    "    print(i)\n",
    "\n",
    "#start=3 increment=2 stop=8-1=7"
   ]
  },
  {
   "cell_type": "code",
   "execution_count": 2,
   "id": "46e1633c-744b-41cf-a003-aebd7aba3eca",
   "metadata": {},
   "outputs": [
    {
     "name": "stdout",
     "output_type": "stream",
     "text": [
      "1\n",
      "4\n",
      "9\n",
      "16\n",
      "25\n"
     ]
    }
   ],
   "source": [
    "for i in range(1,6):\n",
    "    print(i*i)"
   ]
  },
  {
   "cell_type": "code",
   "execution_count": 10,
   "id": "b7d2aa69-8e89-479d-872f-48e83af5f580",
   "metadata": {},
   "outputs": [
    {
     "name": "stdin",
     "output_type": "stream",
     "text": [
      "enter the 5 numbers 1\n"
     ]
    },
    {
     "name": "stdout",
     "output_type": "stream",
     "text": [
      "1\n"
     ]
    },
    {
     "name": "stdin",
     "output_type": "stream",
     "text": [
      "enter the 5 numbers 2\n"
     ]
    },
    {
     "name": "stdout",
     "output_type": "stream",
     "text": [
      "4\n"
     ]
    },
    {
     "name": "stdin",
     "output_type": "stream",
     "text": [
      "enter the 5 numbers 3\n"
     ]
    },
    {
     "name": "stdout",
     "output_type": "stream",
     "text": [
      "9\n"
     ]
    },
    {
     "name": "stdin",
     "output_type": "stream",
     "text": [
      "enter the 5 numbers 4\n"
     ]
    },
    {
     "name": "stdout",
     "output_type": "stream",
     "text": [
      "16\n"
     ]
    },
    {
     "name": "stdin",
     "output_type": "stream",
     "text": [
      "enter the 5 numbers 5\n"
     ]
    },
    {
     "name": "stdout",
     "output_type": "stream",
     "text": [
      "25\n"
     ]
    }
   ],
   "source": [
    "for i in range(1,6):\n",
    "    num=eval(input(\"enter the 5 numbers\"))\n",
    "    print(num*num)"
   ]
  },
  {
   "cell_type": "code",
   "execution_count": 12,
   "id": "a72b6185-3faa-4929-9e97-a22d2ef9ce54",
   "metadata": {},
   "outputs": [
    {
     "name": "stdout",
     "output_type": "stream",
     "text": [
      "196\n",
      "256\n",
      "361\n",
      "256\n",
      "121\n"
     ]
    }
   ],
   "source": [
    "import random\n",
    "for i in range(1,6):\n",
    "    num=random.randint(2,20)\n",
    "    print(num*num)\n"
   ]
  },
  {
   "cell_type": "markdown",
   "id": "1fd79191-9ff8-4630-903c-b916cb99cf90",
   "metadata": {},
   "source": [
    "**case-3:range(start,stop,step)**\n",
    "- start= start\n",
    "- stop= postive mean (+ sign)\n",
    "    - gap=positive step\n",
    "    - last=stop-1\n",
    "- step= negative means (- sign)\n",
    "    - gap=negative step\n",
    "    - last =stop+1"
   ]
  },
  {
   "cell_type": "code",
   "execution_count": 14,
   "id": "f8e966a2-1922-4ea3-b4e4-2ce3dc3cda09",
   "metadata": {},
   "outputs": [
    {
     "name": "stdout",
     "output_type": "stream",
     "text": [
      "2\n",
      "5\n",
      "8\n",
      "11\n",
      "14\n",
      "17\n"
     ]
    }
   ],
   "source": [
    "for i in range(2,20,3):\n",
    "    print(i)"
   ]
  },
  {
   "cell_type": "code",
   "execution_count": 16,
   "id": "9539a91b-c63a-476d-8dd2-5d3b2a8bdd43",
   "metadata": {},
   "outputs": [],
   "source": [
    "for i in range(-2,20,-2):\n",
    "    print(i)"
   ]
  },
  {
   "cell_type": "code",
   "execution_count": 18,
   "id": "dcba9943-3899-4936-b934-7f4a947646ca",
   "metadata": {},
   "outputs": [
    {
     "name": "stdout",
     "output_type": "stream",
     "text": [
      "2 -1 -4 -7 -10 -13 -16 -19 "
     ]
    }
   ],
   "source": [
    "for i in range(2,-20,-3):\n",
    "    print(i,end=\" \")"
   ]
  },
  {
   "cell_type": "code",
   "execution_count": 20,
   "id": "c20d764d-8eb4-468e-85a9-6d25b53f6018",
   "metadata": {},
   "outputs": [],
   "source": [
    "for i in range(-2,20,-2):\n",
    "    print(i)\n",
    "\n",
    "#not possible"
   ]
  },
  {
   "cell_type": "code",
   "execution_count": 22,
   "id": "00e8bc6e-5a0c-4547-903e-642e1e44c732",
   "metadata": {},
   "outputs": [
    {
     "name": "stdin",
     "output_type": "stream",
     "text": [
      "enter the number 1\n"
     ]
    },
    {
     "name": "stdout",
     "output_type": "stream",
     "text": [
      "odd\n"
     ]
    },
    {
     "name": "stdin",
     "output_type": "stream",
     "text": [
      "enter the number 2\n"
     ]
    },
    {
     "name": "stdout",
     "output_type": "stream",
     "text": [
      "even\n"
     ]
    },
    {
     "name": "stdin",
     "output_type": "stream",
     "text": [
      "enter the number 3\n"
     ]
    },
    {
     "name": "stdout",
     "output_type": "stream",
     "text": [
      "odd\n"
     ]
    },
    {
     "name": "stdin",
     "output_type": "stream",
     "text": [
      "enter the number 4\n"
     ]
    },
    {
     "name": "stdout",
     "output_type": "stream",
     "text": [
      "even\n"
     ]
    },
    {
     "name": "stdin",
     "output_type": "stream",
     "text": [
      "enter the number 5\n"
     ]
    },
    {
     "name": "stdout",
     "output_type": "stream",
     "text": [
      "odd\n"
     ]
    }
   ],
   "source": [
    "for i in range(5):\n",
    "    num=eval(input(\"enter the number\"))\n",
    "    if num%2==0:\n",
    "        print(\"even\")\n",
    "    else:\n",
    "        print(\"odd\")"
   ]
  },
  {
   "cell_type": "code",
   "execution_count": 24,
   "id": "4d474170-057b-42c8-abff-51f19637e3f8",
   "metadata": {},
   "outputs": [
    {
     "name": "stdin",
     "output_type": "stream",
     "text": [
      "enter the 7th table: 1\n"
     ]
    },
    {
     "name": "stdout",
     "output_type": "stream",
     "text": [
      "7\n"
     ]
    },
    {
     "name": "stdin",
     "output_type": "stream",
     "text": [
      "enter the 7th table: 2\n"
     ]
    },
    {
     "name": "stdout",
     "output_type": "stream",
     "text": [
      "14\n"
     ]
    },
    {
     "name": "stdin",
     "output_type": "stream",
     "text": [
      "enter the 7th table: 3\n"
     ]
    },
    {
     "name": "stdout",
     "output_type": "stream",
     "text": [
      "21\n"
     ]
    },
    {
     "name": "stdin",
     "output_type": "stream",
     "text": [
      "enter the 7th table: 4\n"
     ]
    },
    {
     "name": "stdout",
     "output_type": "stream",
     "text": [
      "28\n"
     ]
    },
    {
     "name": "stdin",
     "output_type": "stream",
     "text": [
      "enter the 7th table: 5\n"
     ]
    },
    {
     "name": "stdout",
     "output_type": "stream",
     "text": [
      "35\n"
     ]
    },
    {
     "name": "stdin",
     "output_type": "stream",
     "text": [
      "enter the 7th table: 6\n"
     ]
    },
    {
     "name": "stdout",
     "output_type": "stream",
     "text": [
      "42\n"
     ]
    },
    {
     "name": "stdin",
     "output_type": "stream",
     "text": [
      "enter the 7th table: 7\n"
     ]
    },
    {
     "name": "stdout",
     "output_type": "stream",
     "text": [
      "49\n"
     ]
    },
    {
     "name": "stdin",
     "output_type": "stream",
     "text": [
      "enter the 7th table: 8\n"
     ]
    },
    {
     "name": "stdout",
     "output_type": "stream",
     "text": [
      "56\n"
     ]
    },
    {
     "name": "stdin",
     "output_type": "stream",
     "text": [
      "enter the 7th table: 9\n"
     ]
    },
    {
     "name": "stdout",
     "output_type": "stream",
     "text": [
      "63\n"
     ]
    },
    {
     "name": "stdin",
     "output_type": "stream",
     "text": [
      "enter the 7th table: 10\n"
     ]
    },
    {
     "name": "stdout",
     "output_type": "stream",
     "text": [
      "70\n"
     ]
    }
   ],
   "source": [
    "for i in range(10):\n",
    "    n1=eval(input(\"enter the 7th table:\"))\n",
    "    print(n1*7)  # print(f\"7x{i}={7*i}\")\n",
    "  "
   ]
  },
  {
   "cell_type": "code",
   "execution_count": 2,
   "id": "f49f743f-696b-426a-8cce-a4b468c5ef7d",
   "metadata": {},
   "outputs": [
    {
     "name": "stdin",
     "output_type": "stream",
     "text": [
      "enter which divisior you want 44\n"
     ]
    },
    {
     "name": "stdout",
     "output_type": "stream",
     "text": [
      "1 is division for 44\n",
      "2 is division for 44\n",
      "4 is division for 44\n",
      "11 is division for 44\n",
      "22 is division for 44\n",
      "44 is division for 44\n"
     ]
    }
   ],
   "source": [
    "num=eval(input(\"enter which divisior you want\"))\n",
    "for i in range(1,num+1):\n",
    "    if num%i==0:\n",
    "        print(f\"{i} is division for {num}\")\n",
    "    \n",
    "    "
   ]
  },
  {
   "cell_type": "code",
   "execution_count": 4,
   "id": "dde0e87b-9837-46dc-90de-4c34f44d1bae",
   "metadata": {},
   "outputs": [
    {
     "name": "stdout",
     "output_type": "stream",
     "text": [
      "1 is division for 80\n",
      "2 is division for 80\n",
      "4 is division for 80\n",
      "5 is division for 80\n",
      "8 is division for 80\n",
      "10 is division for 80\n",
      "16 is division for 80\n",
      "20 is division for 80\n",
      "40 is division for 80\n",
      "80 is division for 80\n"
     ]
    }
   ],
   "source": [
    "def divisor(num):\n",
    "    for i in range(1,num+1):\n",
    "        if num%i==0:\n",
    "            print(f\"{i} is division for {num}\")\n",
    "\n",
    "divisor(80)"
   ]
  },
  {
   "cell_type": "code",
   "execution_count": null,
   "id": "94756b13-44b4-42fd-852e-243e6ac8a7bc",
   "metadata": {},
   "outputs": [],
   "source": [
    "def divisor1(num):\n",
    "    for i in range(1,num+1):\n",
    "        if num%i==0:\n",
    "            print(f\"{i} is division for {num}\")\n",
    "        return(i)\n",
    "\n",
    "div=divisor1(89)\n",
    "div"
   ]
  },
  {
   "cell_type": "code",
   "execution_count": null,
   "id": "18ff66e7-b74a-46a6-bf92-11b24191bbdd",
   "metadata": {},
   "outputs": [],
   "source": [
    "for i in range(5):\n",
    "    print(i,end=' ')"
   ]
  },
  {
   "cell_type": "code",
   "execution_count": null,
   "id": "a3d27c64-c488-453b-8c70-864110dd031b",
   "metadata": {},
   "outputs": [],
   "source": [
    "i\n",
    "# i variable will give always last value\n",
    "# do not print i outside the for loop"
   ]
  },
  {
   "cell_type": "code",
   "execution_count": null,
   "id": "b65a18ba-0e9e-4593-8f2b-6a9896d47a74",
   "metadata": {},
   "outputs": [],
   "source": [
    "num=eval(input(\"enter the first 10 numbers\"))\n",
    "for i in range(1,11):\n",
    "    num=num+i\n",
    "    print(f\"the sum of first natural number are:{num}\")"
   ]
  },
  {
   "cell_type": "markdown",
   "id": "0cc0d49c-0f4d-4f91-a330-eeaebe66ee2b",
   "metadata": {},
   "source": [
    "**summation wrapper**\n",
    "- always initize the summ=0 before the loop\n",
    "- inside loop summ=summ+i\n",
    "- then print summ value otside the loop"
   ]
  },
  {
   "cell_type": "markdown",
   "id": "14538b99-6c93-4f61-81ed-3eb03b01d47c",
   "metadata": {},
   "source": [
    "**counter wrapper**\n",
    "- before the loop count=0\n",
    "- inside the loop count=count+1,but this line under the successful operation.\n",
    "- then the print the count outside the loop"
   ]
  },
  {
   "cell_type": "code",
   "execution_count": 18,
   "id": "07ba1b96-2c5c-4c9a-bdc7-56fbe6bfedc7",
   "metadata": {},
   "outputs": [
    {
     "name": "stdin",
     "output_type": "stream",
     "text": [
      "enter which divisior you want 80\n"
     ]
    },
    {
     "name": "stdout",
     "output_type": "stream",
     "text": [
      "1 is division for 80\n",
      "2 is division for 80\n",
      "4 is division for 80\n",
      "5 is division for 80\n",
      "8 is division for 80\n",
      "10 is division for 80\n",
      "16 is division for 80\n",
      "20 is division for 80\n",
      "40 is division for 80\n",
      "80 is division for 80\n",
      "10\n"
     ]
    }
   ],
   "source": [
    "count=0\n",
    "num=eval(input(\"enter which divisior you want\"))\n",
    "for i in range(1,num+1):\n",
    "    #count=count+1\n",
    "    if num%i==0:\n",
    "        count=count+1\n",
    "        print(f\"{i} is division for {num}\")\n",
    "print(count)\n",
    "\n",
    "#for i in range(1,10+1)\n",
    "# in phone."
   ]
  },
  {
   "cell_type": "code",
   "execution_count": 14,
   "id": "7b29d8e0-9c13-47e7-9906-0f78f0518ea7",
   "metadata": {},
   "outputs": [
    {
     "name": "stdin",
     "output_type": "stream",
     "text": [
      "enter the number 1\n",
      "enter the number 2\n",
      "enter the number 3\n",
      "enter the number 4\n",
      "enter the number 5\n"
     ]
    },
    {
     "name": "stdout",
     "output_type": "stream",
     "text": [
      "the no of even are: 2\n",
      "the no of odd are: 3\n"
     ]
    }
   ],
   "source": [
    "even_count=0\n",
    "odd_count=0\n",
    "for i in range(5):\n",
    "    num=eval(input(\"enter the number\"))\n",
    "    if num%2==0:\n",
    "        even_count=even_count+1\n",
    "\n",
    "    else:\n",
    "        odd_count=odd_count+1\n",
    "print(\"the no of even are:\",even_count)\n",
    "print(\"the no of odd are:\",odd_count)\n"
   ]
  },
  {
   "cell_type": "code",
   "execution_count": null,
   "id": "e54ce619-97f8-4cd1-847f-9940c59c0196",
   "metadata": {},
   "outputs": [],
   "source": [
    "count=0\n",
    "summ=0\n",
    "num=eval(input(\"enter which divisior you want\"))\n",
    "for i in range(1,num+1):\n",
    "    #count=count+1\n",
    "    if num%i==0:\n",
    "        summ=summ+i\n",
    "        count=count+1\n",
    "        print(f\"{i} is division for {num}\")\n",
    "print(count)\n",
    "print(summ)"
   ]
  },
  {
   "cell_type": "code",
   "execution_count": 30,
   "id": "7981aabb-f7d9-42f3-83c9-9601452e0d01",
   "metadata": {},
   "outputs": [
    {
     "name": "stdin",
     "output_type": "stream",
     "text": [
      "enter the number 1\n",
      "enter the number 2\n",
      "enter the number 3\n",
      "enter the number 4\n",
      "enter the number 5\n"
     ]
    },
    {
     "name": "stdout",
     "output_type": "stream",
     "text": [
      "the no of even are: 2\n",
      "the no of odd are: 3\n",
      "the sum of no of even are: 6\n",
      "the sum of no of odd are: 9\n"
     ]
    }
   ],
   "source": [
    "even_count=0\n",
    "even_summ=0\n",
    "odd_count=0\n",
    "odd_summ=0\n",
    "for i in range(5):\n",
    "    num=eval(input(\"enter the number\"))\n",
    "    if num%2==0:\n",
    "        even_count=even_count+1\n",
    "        even_summ=even_summ+num\n",
    "\n",
    "    else:\n",
    "        odd_count=odd_count+1\n",
    "        odd_summ=odd_summ+num #not use the i always\n",
    "print(\"the no of even are:\",even_count)\n",
    "print(\"the no of odd are:\",odd_count)\n",
    "print(\"the sum of no of even are:\",even_summ)\n",
    "print(\"the sum of no of odd are:\",odd_summ)"
   ]
  },
  {
   "cell_type": "code",
   "execution_count": null,
   "id": "34882429-016e-459f-a955-43a2967bc099",
   "metadata": {},
   "outputs": [],
   "source": [
    "from random import randint\n",
    "for i in range(0,3):\n",
    "    n1=randint(1,10)\n",
    "    n2=eval(input(\"enter the number\"))\n",
    "    if n1==n2:\n",
    "        print(\"won\")\n",
    "        break\n",
    "    else:\n",
    "        print(\"lost\")"
   ]
  },
  {
   "cell_type": "code",
   "execution_count": null,
   "id": "f97ea121-e6b5-48ac-840e-f102cb2002f2",
   "metadata": {},
   "outputs": [],
   "source": [
    "from random import randint\n",
    "for i in range(3):\n",
    "    n1=randint(1,10)\n",
    "    n2=eval(input(\"enter the number\"))\n",
    "    if n1==n2:\n",
    "        print(f\"you have won the game:{n1==n2}\")\n",
    "        break\n",
    "    else:\n",
    "        print(f\"the number of chances:{3-i-1} are done\")"
   ]
  },
  {
   "cell_type": "code",
   "execution_count": null,
   "id": "a41fbf0b-dd34-4b0d-996e-3d61641c01be",
   "metadata": {},
   "outputs": [],
   "source": [
    "from random import randint\n",
    "for i in range(3):\n",
    "    n1=randint(1,10)\n",
    "    n2=eval(input(\"enter the number\"))\n",
    "    if n1==n2:\n",
    "        print(f\"you have won the game:{n1==n2}\")\n",
    "        break\n",
    "    else:\n",
    "        print(f\"the number of chances:{3-i-1} are done\")\n",
    "print(\"All the chances are lost try after 24hours\")"
   ]
  },
  {
   "cell_type": "code",
   "execution_count": null,
   "id": "1ad298ef-6734-486c-8bf0-30b642fe0d03",
   "metadata": {},
   "outputs": [],
   "source": [
    "from random import randint\n",
    "num=eval(input(\"enter the no of chances you want to give\"))\n",
    "for i in range(1,num+1):\n",
    "    n1=randint(1,10)\n",
    "    print(n1)\n",
    "    n2=eval(input(\"enter the number\"))\n",
    "    if n1==n2:\n",
    "        print(\"won\")\n",
    "        break\n",
    "    else:\n",
    "        print(\"the chances left is:\",num-i)\n",
    "        print(\"lost\")"
   ]
  },
  {
   "cell_type": "code",
   "execution_count": null,
   "id": "db27fef1-5d20-495d-89e9-1ef6acdaf38d",
   "metadata": {},
   "outputs": [],
   "source": [
    "from random import randint\n",
    "num=eval(input(\"enter the no of chances you want to give\"))\n",
    "for i in range(1,num+1):\n",
    "    n1=randint(1,10)\n",
    "    print(n1)\n",
    "    n2=eval(input(\"enter the number\"))\n",
    "    if n1==n2:\n",
    "        print(\"won\")\n",
    "        break\n",
    "    elif num-i==0:\n",
    "        print(\"lost\")\n",
    "        print(\"All the chances are lost try after 24hours\")\n",
    "    else:\n",
    "        print(\"lost\")\n",
    "        print(\"the chances left is:\",num-i)"
   ]
  },
  {
   "cell_type": "markdown",
   "id": "ade20f50-b78f-4846-a769-05098d048a51",
   "metadata": {},
   "source": [
    "**in**"
   ]
  },
  {
   "cell_type": "markdown",
   "id": "ae29a370-681d-44a7-bb39-d1c8f3a04d6a",
   "metadata": {},
   "source": [
    "- range operator excpect a value inside\n",
    "\n",
    "- in operator access the value directly"
   ]
  },
  {
   "cell_type": "code",
   "execution_count": null,
   "id": "a9eda011-2528-4541-a753-be85c4c5ce5e",
   "metadata": {},
   "outputs": [],
   "source": [
    "'p' in 'python'\n",
    "'y' in 'python'\n",
    "'t' in 'python'\n",
    "'h' in 'python'\n",
    "'o' in 'python'\n",
    "'n' in 'python'\n",
    "\n",
    "for i in \"python\":\n",
    "    print(i,end=\"\")"
   ]
  },
  {
   "cell_type": "code",
   "execution_count": null,
   "id": "4e10a972-ddbd-43fc-aa09-f33fccefe60b",
   "metadata": {},
   "outputs": [],
   "source": [
    "'p' == 'P'\n"
   ]
  },
  {
   "cell_type": "code",
   "execution_count": null,
   "id": "bab4e0a0-8933-4ac2-ac2a-215a36c34716",
   "metadata": {},
   "outputs": [],
   "source": [
    "'p' == 'p'"
   ]
  },
  {
   "cell_type": "code",
   "execution_count": null,
   "id": "972357df-ecf1-45fd-af22-01d033ced295",
   "metadata": {},
   "outputs": [],
   "source": [
    "\n",
    "'p' < 'P'"
   ]
  },
  {
   "cell_type": "code",
   "execution_count": null,
   "id": "bc47e872-5ee0-46c2-8dd7-c6652bfb40c5",
   "metadata": {},
   "outputs": [],
   "source": [
    "\n",
    "'p' > 'P'"
   ]
  },
  {
   "cell_type": "code",
   "execution_count": null,
   "id": "395fed6a-4b98-48fd-8f97-452443cb75de",
   "metadata": {},
   "outputs": [],
   "source": [
    "#ASCII : American standard code for information interchange.\n",
    "\n"
   ]
  },
  {
   "cell_type": "markdown",
   "id": "4b87ca56-4290-4855-9afa-0f139e028504",
   "metadata": {},
   "source": [
    "**ord-chr**"
   ]
  },
  {
   "cell_type": "code",
   "execution_count": null,
   "id": "0d16d780-aef5-4483-ac86-f40fa3e69b79",
   "metadata": {},
   "outputs": [],
   "source": [
    "ord(65)"
   ]
  },
  {
   "cell_type": "code",
   "execution_count": null,
   "id": "4b0f15ea-98ea-4956-81f6-ec44a2daf44a",
   "metadata": {},
   "outputs": [],
   "source": [
    "ord(\"A\")"
   ]
  },
  {
   "cell_type": "code",
   "execution_count": null,
   "id": "78c616ae-2496-4fac-968d-289d68d264dc",
   "metadata": {},
   "outputs": [],
   "source": [
    "chr(65)"
   ]
  },
  {
   "cell_type": "code",
   "execution_count": null,
   "id": "d5c85144-c699-4868-928b-79b48672ed30",
   "metadata": {},
   "outputs": [],
   "source": [
    "ord(\"a\")"
   ]
  },
  {
   "cell_type": "code",
   "execution_count": null,
   "id": "e3b52fe2-406d-4f9e-9a1e-44db00f41c36",
   "metadata": {},
   "outputs": [],
   "source": [
    "for i in range(32,123):\n",
    "    print(i,\"-->\",chr(i))"
   ]
  },
  {
   "cell_type": "code",
   "execution_count": null,
   "id": "d5b68732-8c65-430a-b2f6-b2c7514f7cb3",
   "metadata": {},
   "outputs": [],
   "source": [
    "# we can change to any language."
   ]
  },
  {
   "cell_type": "code",
   "execution_count": null,
   "id": "75a0f93d-85c0-45b2-9bb3-ee1f02139927",
   "metadata": {},
   "outputs": [],
   "source": [
    "import string\n",
    "for i in string.ascii_uppercase:\n",
    "    print(i,ord(i))\n"
   ]
  },
  {
   "cell_type": "code",
   "execution_count": null,
   "id": "c5f7f526-2f4b-4e74-bb4c-a18894cb71a6",
   "metadata": {},
   "outputs": [],
   "source": [
    "import string\n",
    "dir(string)"
   ]
  },
  {
   "cell_type": "markdown",
   "id": "59d4dcdd-dbc3-4916-9580-b30288742289",
   "metadata": {},
   "source": [
    "**Iterator**\n",
    "- in operator access direct elements which is called iterator\n",
    "- iterator means\n",
    "      - string\n",
    "     - list\n",
    "    - tuple\n",
    "    - dictionary\n",
    "- Iterator means which can be print by using for loop\n",
    "- in operator don't use a numbers\n",
    "- range operator uses only numbers"
   ]
  },
  {
   "cell_type": "code",
   "execution_count": null,
   "id": "f85c9b85-890a-441d-afa8-376de1a3c4d7",
   "metadata": {},
   "outputs": [],
   "source": [
    "sorted(\"Jai\")"
   ]
  },
  {
   "cell_type": "code",
   "execution_count": null,
   "id": "de471cb8-bbad-4543-a706-b8871f2c89d4",
   "metadata": {},
   "outputs": [],
   "source": [
    "chr(400)"
   ]
  },
  {
   "cell_type": "code",
   "execution_count": null,
   "id": "f0af1057-cb73-4124-a179-ffed61e98607",
   "metadata": {},
   "outputs": [],
   "source": [
    "for i in():\n",
    "    ord(\"A\")"
   ]
  },
  {
   "cell_type": "code",
   "execution_count": null,
   "id": "0434aef6-8901-4e14-bc49-76e179f8c23a",
   "metadata": {},
   "outputs": [],
   "source": [
    "import string\n",
    "for i in string.ascii_lowercase:\n",
    "    print(i,ord(i))"
   ]
  },
  {
   "cell_type": "markdown",
   "id": "405f4cf5-ed98-451f-88d0-b22b8859fc33",
   "metadata": {},
   "source": [
    "**While loop**"
   ]
  },
  {
   "cell_type": "markdown",
   "id": "4e800c2d-e923-4a3e-bb06-9111b1ae5c53",
   "metadata": {},
   "source": [
    "**but in while loop all 3 are happend in 3 lines**"
   ]
  },
  {
   "cell_type": "code",
   "execution_count": null,
   "id": "2adfbe50-af58-4ba0-b761-d4609313622e",
   "metadata": {},
   "outputs": [],
   "source": [
    "#intial value\n",
    "\n",
    "# condition\n",
    "    # write your code\n",
    "    #increment/decrement\n",
    "\n",
    "\n",
    "<intial value>\n",
    "while <condition>:\n",
    "    <write in code here>\n",
    "    <increment/decrement>\n",
    "\n",
    "\n",
    "    \n"
   ]
  },
  {
   "cell_type": "code",
   "execution_count": 2,
   "id": "73bf2f7d-9f47-47ca-ac40-4370ff9f4f95",
   "metadata": {},
   "outputs": [
    {
     "name": "stdout",
     "output_type": "stream",
     "text": [
      "2 4 6 8 10 12 14 16 18 "
     ]
    }
   ],
   "source": [
    "i=2\n",
    "while i<=18:\n",
    "    print(i,end=\" \")\n",
    "    i=i+2\n",
    "\n",
    "\n",
    "    \n",
    "# step-1: i=2 while 2<=18 True print(2) i=2+2=4\n",
    "# step-2: i=4 while 4<=18 True print(4) i=2+4=6\n",
    "# step-3: i=6 while 6<=18 True print(6) i=2+6=8\n",
    "# step-4: i=8 while 8<=18 True print(8) i=2+8=10\n",
    "#.\n",
    "#.\n",
    "#.\n",
    "# step-1: i=18 while 18<=18 True print(18) i=2+18=20\n",
    "# step-1: i=20 while 20<=18 False print(20) i=2+18=22"
   ]
  },
  {
   "cell_type": "code",
   "execution_count": null,
   "id": "c1a55cd8-8666-464c-be4c-25bf488f7e3d",
   "metadata": {},
   "outputs": [],
   "source": [
    "i=2\n",
    "while i<18:\n",
    "    print(i,end=\" \")\n",
    "    i=i+2"
   ]
  },
  {
   "cell_type": "code",
   "execution_count": null,
   "id": "bc16c792-dd80-48ec-baae-3d1f5fc8a4e4",
   "metadata": {},
   "outputs": [],
   "source": [
    "i=2\n",
    "while i!=18:\n",
    "    print(i,end=\" \")\n",
    "    i=i+2"
   ]
  },
  {
   "cell_type": "code",
   "execution_count": 4,
   "id": "1934ccf9-818e-4bab-8308-8f3362ed9c61",
   "metadata": {},
   "outputs": [
    {
     "name": "stdout",
     "output_type": "stream",
     "text": [
      "10 9 8 7 6 5 4 3 2 1 "
     ]
    }
   ],
   "source": [
    "i=10\n",
    "while i>=1:\n",
    "    print(i,end=\" \")\n",
    "    i=i-1"
   ]
  },
  {
   "cell_type": "code",
   "execution_count": null,
   "id": "76a67530-802f-4c4c-9f28-8651fd71fe0c",
   "metadata": {},
   "outputs": [],
   "source": []
  },
  {
   "cell_type": "code",
   "execution_count": null,
   "id": "26d04a17-5924-4fee-bc44-8e72fea2401b",
   "metadata": {},
   "outputs": [],
   "source": [
    "i=-1\n",
    "while i>-11:\n",
    "    print(i,end=\" \")\n",
    "    i=i-1"
   ]
  },
  {
   "cell_type": "code",
   "execution_count": null,
   "id": "279fc904-f79c-4fc4-b1df-178924f29435",
   "metadata": {},
   "outputs": [],
   "source": [
    "i=10\n",
    "while i!=0:\n",
    "    print(i,end=\" \")\n",
    "    i=i-1"
   ]
  },
  {
   "cell_type": "markdown",
   "id": "5dbadf5a-2daa-4d06-bb19-557f75e86d55",
   "metadata": {},
   "source": [
    "**True**"
   ]
  },
  {
   "cell_type": "markdown",
   "id": "fd8832ac-0480-487b-abe2-70c38f275c14",
   "metadata": {},
   "source": [
    "- True is the condition always give a permission to enter inside the loop\n",
    "\n",
    "- Some time we can not fix the condition to enter inside the loop\n",
    "\n",
    "- but we know stop condition"
   ]
  },
  {
   "cell_type": "code",
   "execution_count": null,
   "id": "b7558123-b740-416a-a225-1a9024b6617f",
   "metadata": {},
   "outputs": [],
   "source": [
    "i=-1\n",
    "while True:\n",
    "    print(i,end=\" \")\n",
    "    i=i-1\n",
    "    if i==-10:\n",
    "        print(i)\n",
    "        break"
   ]
  },
  {
   "cell_type": "code",
   "execution_count": null,
   "id": "af749a6f-4466-4192-b996-4f9636e04d4b",
   "metadata": {},
   "outputs": [],
   "source": [
    "i=2\n",
    "while True:\n",
    "    print(i,end=\" \")\n",
    "    i=i+2\n",
    "    if i==20:\n",
    "        break\n",
    "    "
   ]
  },
  {
   "cell_type": "code",
   "execution_count": null,
   "id": "b5c6498f-86eb-40e6-8c7f-176d121e4ef6",
   "metadata": {},
   "outputs": [],
   "source": [
    "i=10\n",
    "while True:\n",
    "    print(i,end=\" \")\n",
    "    i=i-1\n",
    "    if i==0:\n",
    "        break"
   ]
  },
  {
   "cell_type": "markdown",
   "id": "1403b185-a60a-4974-accd-038c27e2c137",
   "metadata": {},
   "source": [
    "**When to use for and while loop**\n",
    "\n",
    "- if we observe for loop **start stop step**\n",
    "\n",
    "- there is no infinite loop situation here\n",
    "\n",
    "- if we want to give infinite loop situation\n",
    "\n",
    "    - based on correct value we want to stop the loop then we goes for while loop "
   ]
  },
  {
   "cell_type": "code",
   "execution_count": 6,
   "id": "de680f11-dd76-4bd0-b030-b9bc87dc7b58",
   "metadata": {},
   "outputs": [
    {
     "name": "stdout",
     "output_type": "stream",
     "text": [
      "8\n"
     ]
    },
    {
     "name": "stdin",
     "output_type": "stream",
     "text": [
      "enter a number 7\n"
     ]
    },
    {
     "name": "stdout",
     "output_type": "stream",
     "text": [
      "you lost\n",
      "7\n"
     ]
    },
    {
     "name": "stdin",
     "output_type": "stream",
     "text": [
      "enter a number 7\n"
     ]
    },
    {
     "name": "stdout",
     "output_type": "stream",
     "text": [
      "you won\n"
     ]
    }
   ],
   "source": [
    "from random import randint\n",
    "while True:\n",
    "    n1=randint(1,10)\n",
    "    print(n1)\n",
    "    n2=eval(input(\"enter a number\"))\n",
    "    if n1==n2:\n",
    "        print(\"you won\")\n",
    "        break\n",
    "    else:\n",
    "        print(\"you lost\")\n",
    "        \n",
    "        \n",
    "    "
   ]
  },
  {
   "cell_type": "code",
   "execution_count": 3,
   "id": "911649fa-5e6b-41d8-906a-a116230a6fef",
   "metadata": {},
   "outputs": [
    {
     "name": "stdin",
     "output_type": "stream",
     "text": [
      "enter a number 4\n"
     ]
    },
    {
     "name": "stdout",
     "output_type": "stream",
     "text": [
      "16\n"
     ]
    }
   ],
   "source": [
    "while True: \n",
    "    num=eval(input(\"enter a number\"))\n",
    "    print(num*num)\n",
    "    break"
   ]
  },
  {
   "cell_type": "code",
   "execution_count": null,
   "id": "59099165-6099-40da-a059-b6ac5c382314",
   "metadata": {},
   "outputs": [],
   "source": []
  },
  {
   "cell_type": "code",
   "execution_count": null,
   "id": "ee99b774-7b1d-4395-af28-cc638c11682f",
   "metadata": {},
   "outputs": [],
   "source": []
  },
  {
   "cell_type": "code",
   "execution_count": null,
   "id": "f275e286-6862-4262-8943-324b870b325f",
   "metadata": {},
   "outputs": [],
   "source": []
  }
 ],
 "metadata": {
  "kernelspec": {
   "display_name": "Python 3 (ipykernel)",
   "language": "python",
   "name": "python3"
  },
  "language_info": {
   "codemirror_mode": {
    "name": "ipython",
    "version": 3
   },
   "file_extension": ".py",
   "mimetype": "text/x-python",
   "name": "python",
   "nbconvert_exporter": "python",
   "pygments_lexer": "ipython3",
   "version": "3.11.7"
  }
 },
 "nbformat": 4,
 "nbformat_minor": 5
}
