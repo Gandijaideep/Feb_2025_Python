{
 "cells": [
  {
   "cell_type": "markdown",
   "id": "18a06c02-3745-4e91-8a82-5590f1c5d6e9",
   "metadata": {},
   "source": [
    "- list comprehension is a way to write the code line in a single line\n",
    "- whenever we use for loops and if conditions the will be increase\n",
    "- lit comprehension will able to write for loop and if conditions in a single line\n",
    "- which reduce the timw to get the output"
   ]
  },
  {
   "cell_type": "code",
   "execution_count": 6,
   "id": "dc18506f-b683-476a-99ce-1b5780abfb8a",
   "metadata": {},
   "outputs": [
    {
     "data": {
      "text/plain": [
       "[0, 1, 2, 3, 4, 5, 6, 7, 8, 9]"
      ]
     },
     "execution_count": 6,
     "metadata": {},
     "output_type": "execute_result"
    }
   ],
   "source": [
    "l1=[]\n",
    "for i in range(10):\n",
    "    l1.append(i)\n",
    "\n",
    "l1"
   ]
  },
  {
   "cell_type": "markdown",
   "id": "5ef621bc-9f7c-4d7c-b061-440b95c709a7",
   "metadata": {},
   "source": [
    "**method:1-Only for loop**"
   ]
  },
  {
   "cell_type": "code",
   "execution_count": 12,
   "id": "b88021c8-e7a9-4ed3-a5bb-c229311b6fbb",
   "metadata": {},
   "outputs": [
    {
     "data": {
      "text/plain": [
       "[0, 1, 2, 3, 4, 5, 6, 7, 8, 9]"
      ]
     },
     "execution_count": 12,
     "metadata": {},
     "output_type": "execute_result"
    }
   ],
   "source": [
    "l1=[i for i in range(10)]\n",
    "l1"
   ]
  },
  {
   "cell_type": "code",
   "execution_count": 7,
   "id": "37ac9e5b-b6f4-4b70-944c-fcdde455f6df",
   "metadata": {},
   "outputs": [
    {
     "name": "stdout",
     "output_type": "stream",
     "text": [
      "['Hyd', 'Chennai', 'Mumbai', 'Pune']\n"
     ]
    }
   ],
   "source": [
    "l1=['hyd','chennai','mumbai','pune']\n",
    "l2=[]\n",
    "for i in(l1):\n",
    "    l2.append(i.capitalize())\n",
    "\n",
    "print(l2)"
   ]
  },
  {
   "cell_type": "code",
   "execution_count": 25,
   "id": "e73a1854-163e-46cc-862e-70cd622fe896",
   "metadata": {},
   "outputs": [
    {
     "data": {
      "text/plain": [
       "[['hyd', 'chennai', 'mumbai', 'pune'],\n",
       " ['hyd', 'chennai', 'mumbai', 'pune'],\n",
       " ['hyd', 'chennai', 'mumbai', 'pune'],\n",
       " ['hyd', 'chennai', 'mumbai', 'pune']]"
      ]
     },
     "execution_count": 25,
     "metadata": {},
     "output_type": "execute_result"
    }
   ],
   "source": [
    "l2=[l1 for i in l2]\n",
    "l2"
   ]
  },
  {
   "cell_type": "code",
   "execution_count": 39,
   "id": "3df5d03e-d02c-49a2-a128-689ea049101d",
   "metadata": {},
   "outputs": [
    {
     "name": "stdout",
     "output_type": "stream",
     "text": [
      "['HYD', 'CHENNAI', 'MUMBAI', 'PUNE']\n"
     ]
    }
   ],
   "source": [
    "#Q5)  l1=['hyd','chennai','mumbai','pune']\n",
    "#     ans=['HYD','CHENNAI','MUMBAI','PUNE']\n",
    "\n",
    "l1=['hyd','chennai','mumbai','pune']\n",
    "l2=[]\n",
    "for i in(l1):\n",
    "    l2.append(i.upper())\n",
    "\n",
    "print(l2)"
   ]
  },
  {
   "cell_type": "code",
   "execution_count": null,
   "id": "b59928d9-04a0-42d7-81d2-569f28d748ed",
   "metadata": {},
   "outputs": [],
   "source": []
  },
  {
   "cell_type": "code",
   "execution_count": 41,
   "id": "17be1b22-1f5f-4d36-af75-95aa3bc3bac4",
   "metadata": {},
   "outputs": [
    {
     "data": {
      "text/plain": [
       "[0, 10, 20, 30]"
      ]
     },
     "execution_count": 41,
     "metadata": {},
     "output_type": "execute_result"
    }
   ],
   "source": [
    "l1=['hyd','chennai','mumbai','pune']\n",
    "ans=[]\n",
    "for i in l1:\n",
    "    ans.append(l1.index(i)*10)\n",
    "\n",
    "ans"
   ]
  },
  {
   "cell_type": "code",
   "execution_count": 43,
   "id": "8b1c5b15-3567-4876-b463-756b6684fb45",
   "metadata": {},
   "outputs": [
    {
     "data": {
      "text/plain": [
       "<generator object <genexpr> at 0x0000020AEC0CE180>"
      ]
     },
     "execution_count": 43,
     "metadata": {},
     "output_type": "execute_result"
    }
   ],
   "source": [
    "l1=['hyd','chennai','mumbai','pune']\n",
    "ans=(l1.index(i)*10 for i in l1)\n",
    "ans"
   ]
  },
  {
   "cell_type": "code",
   "execution_count": 29,
   "id": "1f63804b-0761-4225-8ea4-04b61610498c",
   "metadata": {},
   "outputs": [
    {
     "data": {
      "text/plain": [
       "6"
      ]
     },
     "execution_count": 29,
     "metadata": {},
     "output_type": "execute_result"
    }
   ],
   "source": [
    "l1=['hyd','chennai','mumbai','pune']\n",
    "ans=[l1.index(i) for i in l1]\n",
    "sum(ans)"
   ]
  },
  {
   "cell_type": "markdown",
   "id": "f342c71e-9c93-4dbe-bbed-95576e6cf251",
   "metadata": {},
   "source": [
    "**Method-2:**\n",
    "- for loop with if condition"
   ]
  },
  {
   "cell_type": "code",
   "execution_count": 5,
   "id": "0b4f826c-5fb5-43f1-bd91-41acfa964f2d",
   "metadata": {},
   "outputs": [
    {
     "data": {
      "text/plain": [
       "['chen#ai', 'mu#bai']"
      ]
     },
     "execution_count": 5,
     "metadata": {},
     "output_type": "execute_result"
    }
   ],
   "source": [
    "l1=['hyd','chen#ai','mu#bai','pune']\n",
    "ans=[]\n",
    "for i in l1:\n",
    "    if \"#\" in i:\n",
    "        ans.append(i)\n",
    "\n",
    "ans"
   ]
  },
  {
   "cell_type": "code",
   "execution_count": 7,
   "id": "3331d633-ff12-476a-86be-06995ca0a7f4",
   "metadata": {},
   "outputs": [
    {
     "data": {
      "text/plain": [
       "['chen#ai', 'mu#bai']"
      ]
     },
     "execution_count": 7,
     "metadata": {},
     "output_type": "execute_result"
    }
   ],
   "source": [
    "ans=[i  for i in l1 if \"#\" in i]\n",
    "ans"
   ]
  },
  {
   "cell_type": "code",
   "execution_count": 9,
   "id": "c404552c-4149-4f96-96ab-ae31f63272e8",
   "metadata": {},
   "outputs": [
    {
     "data": {
      "text/plain": [
       "['hyd', 'pune']"
      ]
     },
     "execution_count": 9,
     "metadata": {},
     "output_type": "execute_result"
    }
   ],
   "source": [
    "l1=['hyd','chen#ai','mu#bai','pune']\n",
    "ans=[]\n",
    "for i in l1:\n",
    "    if \"#\" not in i:\n",
    "        ans.append(i)\n",
    "\n",
    "ans"
   ]
  },
  {
   "cell_type": "code",
   "execution_count": 11,
   "id": "b3ddd736-c73c-46fe-9e90-fd3b9489eb81",
   "metadata": {},
   "outputs": [
    {
     "data": {
      "text/plain": [
       "['hyd', 'pune']"
      ]
     },
     "execution_count": 11,
     "metadata": {},
     "output_type": "execute_result"
    }
   ],
   "source": [
    "ans=[i for i in l1 if \"#\" not in i]\n",
    "ans"
   ]
  },
  {
   "cell_type": "code",
   "execution_count": 37,
   "id": "aaaf5ca6-a243-454f-b885-6058a9780f57",
   "metadata": {},
   "outputs": [
    {
     "data": {
      "text/plain": [
       "[20, 38, 52, 100]"
      ]
     },
     "execution_count": 37,
     "metadata": {},
     "output_type": "execute_result"
    }
   ],
   "source": [
    "l1=[100,20,27,38,47,52,87]\n",
    "ans=[]\n",
    "for i in l1:\n",
    "    if i%2==0:\n",
    "        ans.append(i)\n",
    "\n",
    "l2=sorted(ans)\n",
    "l2"
   ]
  },
  {
   "cell_type": "code",
   "execution_count": 33,
   "id": "0cc8cd15-240a-44a0-b75d-d27fa5002c56",
   "metadata": {},
   "outputs": [
    {
     "data": {
      "text/plain": [
       "[100, 20, 38, 52]"
      ]
     },
     "execution_count": 33,
     "metadata": {},
     "output_type": "execute_result"
    }
   ],
   "source": [
    "ans=[i for i in l1   if i%2==0]\n",
    "ans"
   ]
  },
  {
   "cell_type": "code",
   "execution_count": 35,
   "id": "da97ed45-82c8-411f-a998-53842d5f23c7",
   "metadata": {},
   "outputs": [
    {
     "data": {
      "text/plain": [
       "[27, 47, 87]"
      ]
     },
     "execution_count": 35,
     "metadata": {},
     "output_type": "execute_result"
    }
   ],
   "source": [
    "ans=[i for i in l1   if i%2!=0]\n",
    "ans"
   ]
  },
  {
   "cell_type": "markdown",
   "id": "86043fa1-61bf-4856-9520-ddc94c9ca2c0",
   "metadata": {},
   "source": [
    "**Method-3: if and else**\n",
    "- [<if output> <if conditon> else <else output> <for loop>]"
   ]
  },
  {
   "cell_type": "code",
   "execution_count": 51,
   "id": "52467da1-6257-4c9f-82df-3d7c7701948f",
   "metadata": {},
   "outputs": [
    {
     "data": {
      "text/plain": [
       "['even:100', 'even:20', 'odd:27', 'even:38', 'odd:47', 'even:52', 'odd:87']"
      ]
     },
     "execution_count": 51,
     "metadata": {},
     "output_type": "execute_result"
    }
   ],
   "source": [
    "ans=[f\"even:{i}\" if i%2==0  else f\"odd:{i}\" for i in l1]\n",
    "ans"
   ]
  },
  {
   "cell_type": "code",
   "execution_count": 69,
   "id": "bdc700f2-7f4d-439b-aeb3-6a3ce57ceac0",
   "metadata": {},
   "outputs": [
    {
     "data": {
      "text/plain": [
       "[76, 89, 53, 67, 90, 82, 99]"
      ]
     },
     "execution_count": 69,
     "metadata": {},
     "output_type": "execute_result"
    }
   ],
   "source": [
    "l1=[45,76,89,53,67,90,82,49,33,99]\n",
    "pass1=[ i for i in l1 if i>=50 ]\n",
    "pass1"
   ]
  },
  {
   "cell_type": "markdown",
   "id": "8041f76f-2a71-49a0-a2ff-f7a307d363db",
   "metadata": {},
   "source": [
    "**Method-4: for if elif else**\n",
    "- there is no elif in list comprehension\n",
    "- [<if output> <if condition> else<elif out> <elif cond> else <else output> <for loop>]"
   ]
  },
  {
   "cell_type": "code",
   "execution_count": 90,
   "id": "5331e14e-fd15-4326-8640-32d95ab149bd",
   "metadata": {},
   "outputs": [
    {
     "data": {
      "text/plain": [
       "['C', 'B', 'A', 'C', 'C', 'A', 'B', 'C', 'C', 'A']"
      ]
     },
     "execution_count": 90,
     "metadata": {},
     "output_type": "execute_result"
    }
   ],
   "source": [
    "pass1=[\"A\" if i>85 else \"B\" if i>=70 else \"C\" for i in l1    ]\n",
    "pass1"
   ]
  },
  {
   "cell_type": "code",
   "execution_count": 100,
   "id": "9388cd27-8dea-4838-bf56-03dffc7a71eb",
   "metadata": {},
   "outputs": [
    {
     "name": "stdout",
     "output_type": "stream",
     "text": [
      "683\n",
      "avg 68.3\n"
     ]
    }
   ],
   "source": [
    "l1=[45,76,89,53,67,90,82,49,33,99]\n",
    "summ=0\n",
    "for i in l1:\n",
    "    summ=summ+i\n",
    "print(summ)\n",
    "print(\"avg\",summ/len(l1))    "
   ]
  },
  {
   "cell_type": "markdown",
   "id": "0243b8da-9167-487b-b76a-88cd17c247e8",
   "metadata": {},
   "source": [
    "**Walrus operator**\n",
    "- in list comprehension = will not work\n",
    "- if you want to write equal to(=),then will usw walrus operator:=\n"
   ]
  },
  {
   "cell_type": "code",
   "execution_count": 109,
   "id": "904875c8-77d4-4f44-8266-a711e5ffc29e",
   "metadata": {},
   "outputs": [
    {
     "data": {
      "text/plain": [
       "68.3"
      ]
     },
     "execution_count": 109,
     "metadata": {},
     "output_type": "execute_result"
    }
   ],
   "source": [
    "total=0\n",
    "ans=[total:=total+i for i in l1]\n",
    "total/len(ans)"
   ]
  },
  {
   "cell_type": "code",
   "execution_count": null,
   "id": "25100885-0f76-4541-a158-3a81b1796878",
   "metadata": {},
   "outputs": [],
   "source": []
  }
 ],
 "metadata": {
  "kernelspec": {
   "display_name": "Python 3 (ipykernel)",
   "language": "python",
   "name": "python3"
  },
  "language_info": {
   "codemirror_mode": {
    "name": "ipython",
    "version": 3
   },
   "file_extension": ".py",
   "mimetype": "text/x-python",
   "name": "python",
   "nbconvert_exporter": "python",
   "pygments_lexer": "ipython3",
   "version": "3.11.7"
  }
 },
 "nbformat": 4,
 "nbformat_minor": 5
}
