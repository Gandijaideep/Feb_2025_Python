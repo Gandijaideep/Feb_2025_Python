{
 "cells": [
  {
   "cell_type": "code",
   "execution_count": null,
   "id": "7b7b8209-4667-4291-bb17-d426745c1eeb",
   "metadata": {},
   "outputs": [],
   "source": [
    "num=10\n",
    "if num>0:\n",
    "    print(\"correct condition\")"
   ]
  },
  {
   "cell_type": "markdown",
   "id": "40d87a71-d9ad-48ff-a986-4be7632bbc8b",
   "metadata": {},
   "source": [
    "# conditional Statements"
   ]
  },
  {
   "cell_type": "markdown",
   "id": "5f3ae4a1-8279-4900-a33d-29ae43613b3b",
   "metadata": {},
   "source": [
    "- refers to excute the code based on the some conditions.\n",
    "- we have mainly three types\n",
    "- if\n",
    "- ifelse\n",
    "- if elif else\n",
    "- syntax\n",
    "if <condition>:\n",
    "    #write your code here."
   ]
  },
  {
   "cell_type": "code",
   "execution_count": null,
   "id": "1fc69568-13c3-4323-9298-b73a99d46ecb",
   "metadata": {},
   "outputs": [],
   "source": [
    "m=eval(input(\"enter m value\"))\n",
    "if m<100:\n",
    "    print(\"the answer is true\")\n",
    "else:\n",
    "    print(\"the answer is false\")\n"
   ]
  },
  {
   "cell_type": "code",
   "execution_count": null,
   "id": "9a2490c4-9d13-4409-973a-e3ffe4b000fc",
   "metadata": {},
   "outputs": [],
   "source": [
    "n1=int(input(\"enter the n1 value\"))\n",
    "n2=int(input(\"enter the n2 value\"))\n",
    "if n1>10:\n",
    "    print(\"I'm learning python\")\n",
    "else:\n",
    "    print(\"i will be learning python\")"
   ]
  },
  {
   "cell_type": "markdown",
   "id": "fb2ae3a4-ed7d-4d66-91c4-1e4b15accc21",
   "metadata": {},
   "source": [
    "- we can write any condition\n",
    "- the condition should be valid\n",
    "- in order to execute the if statement"
   ]
  },
  {
   "cell_type": "code",
   "execution_count": null,
   "id": "bef7513b-363d-454e-8b87-12a3a9f80bb1",
   "metadata": {},
   "outputs": [],
   "source": [
    "name=\"python\" #assigning\n",
    "name==\"python\" #condition checking"
   ]
  },
  {
   "cell_type": "code",
   "execution_count": null,
   "id": "d9b12740-dfad-4da4-8c7a-5f23c7d834e1",
   "metadata": {},
   "outputs": [],
   "source": [
    "name!=\"python\""
   ]
  },
  {
   "cell_type": "code",
   "execution_count": null,
   "id": "4baf1a62-c8b7-4e4a-9ade-e3fecf610bab",
   "metadata": {},
   "outputs": [],
   "source": [
    "name=\"python\"\n",
    "if name==\"python\":\n",
    "    print(\"hello\")\n",
    "    a=10\n",
    "    b=20\n",
    "    c=a+b\n",
    "    print(c)\n",
    "# step-1: name=\"python\"\n",
    "#step-2: if name==\"python\" if python==python if true\n",
    "#step-3: print hello\n",
    "#step-4: a=10\n",
    "#step-5: b=20\n",
    "#step-6: c=a+b\n",
    "#step-7: print c"
   ]
  },
  {
   "cell_type": "code",
   "execution_count": null,
   "id": "4b0d9693-4c03-401a-a20d-7a1019f6f864",
   "metadata": {},
   "outputs": [],
   "source": [
    "if 100>10:\n",
    "    print(\"correct\")\n",
    "#########################\n",
    "print(\"bye\")"
   ]
  },
  {
   "cell_type": "code",
   "execution_count": null,
   "id": "fc55f5a5-9d2d-4519-a11b-1cf5e9aedbd5",
   "metadata": {},
   "outputs": [],
   "source": [
    "if 100<10:\n",
    "    print(\"correct\")\n",
    "#########################\n",
    "print(\"bye\")"
   ]
  },
  {
   "cell_type": "code",
   "execution_count": null,
   "id": "f1f0fbad-6f54-4ad4-ae96-c48717154d31",
   "metadata": {},
   "outputs": [],
   "source": [
    "print(\"hello\")\n",
    "#########################\n",
    "if 100<10:\n",
    "    print(\"correct\")\n",
    "#########################\n",
    "print(\"bye\")"
   ]
  },
  {
   "cell_type": "code",
   "execution_count": null,
   "id": "81e39bee-c4cc-487d-b52e-ef66a4462994",
   "metadata": {
    "scrolled": true
   },
   "outputs": [],
   "source": [
    "print(\"hello\")\n",
    "#########################\n",
    "if 100>10:\n",
    "    print(\"correct\")\n",
    "#########################\n",
    "print(\"bye\")"
   ]
  },
  {
   "cell_type": "code",
   "execution_count": null,
   "id": "40e70140-a3a7-4adb-813a-3597dfcd0cb7",
   "metadata": {},
   "outputs": [],
   "source": [
    "if 100>10:\n",
    "    print(\"correct\")\n",
    "#########################\n",
    "print(\"bye\")"
   ]
  },
  {
   "cell_type": "markdown",
   "id": "f1cd2b1e-9b76-4946-86d9-414ed45582db",
   "metadata": {},
   "source": [
    "**if-else**\n",
    "- whenever if condition automatically it goes to else part\n",
    "- so else does not require any condition."
   ]
  },
  {
   "cell_type": "code",
   "execution_count": null,
   "id": "84f0afe7-1e44-426e-8439-ab6e30812659",
   "metadata": {},
   "outputs": [],
   "source": [
    "print(10)\n",
    "if 100>10: \n",
    "    print(\"correct statement\")\n",
    "    print(\"okay\")\n",
    "else:\n",
    "    print(\"wrong statement\")\n",
    "print(20)    "
   ]
  },
  {
   "cell_type": "code",
   "execution_count": null,
   "id": "f153b4d8-424f-437e-aa46-9d0c6d94980a",
   "metadata": {},
   "outputs": [],
   "source": [
    "print(10)\n",
    "if 100>10: \n",
    "    print(\"correct statement\")\n",
    "    print(\"okay\")\n",
    "else:\n",
    "    print(\"wrong statement\")\n",
    "    print(20)    "
   ]
  },
  {
   "cell_type": "code",
   "execution_count": null,
   "id": "5bd934d7-de9c-414f-895b-091a62a8658c",
   "metadata": {},
   "outputs": [],
   "source": [
    "print(10)\n",
    "if 100<10: \n",
    "    print(\"correct statement\")\n",
    "    print(\"okay\")\n",
    "else:\n",
    "    print(\"wrong statement\")\n",
    "print(20)    "
   ]
  },
  {
   "cell_type": "code",
   "execution_count": 30,
   "id": "34d85dc3-5e36-488c-9e96-be55091ca9e2",
   "metadata": {},
   "outputs": [
    {
     "ename": "SyntaxError",
     "evalue": "invalid syntax (2050518653.py, line 6)",
     "output_type": "error",
     "traceback": [
      "\u001b[1;36m  Cell \u001b[1;32mIn[30], line 6\u001b[1;36m\u001b[0m\n\u001b[1;33m    else:\u001b[0m\n\u001b[1;37m    ^\u001b[0m\n\u001b[1;31mSyntaxError\u001b[0m\u001b[1;31m:\u001b[0m invalid syntax\n"
     ]
    }
   ],
   "source": [
    "print(10)\n",
    "if 100>10: \n",
    "    print(\"correct statement\")\n",
    "    print(\"okay\")\n",
    "print(\"don't come in the middle\")    ## here it shows an error due to if and else come together, Don't come in middle==> shows error\n",
    "else:\n",
    "    print(\"wrong statement\")\n",
    "print(20)    "
   ]
  },
  {
   "cell_type": "code",
   "execution_count": 261,
   "id": "ecbb69c5-ca72-49b7-ad64-b974ee5231d6",
   "metadata": {},
   "outputs": [
    {
     "name": "stdout",
     "output_type": "stream",
     "text": [
      "6\n"
     ]
    },
    {
     "name": "stdin",
     "output_type": "stream",
     "text": [
      "enter the n2: 6\n"
     ]
    },
    {
     "name": "stdout",
     "output_type": "stream",
     "text": [
      "won\n"
     ]
    }
   ],
   "source": [
    "###### import random\n",
    "n1=random.randint(1,10)\n",
    "print(n1)\n",
    "n2=eval(input(\"enter the n2:\"))\n",
    "if n1==n2:\n",
    "    print(\"won\")\n",
    "else:\n",
    "    print(\"lost\")"
   ]
  },
  {
   "cell_type": "code",
   "execution_count": null,
   "id": "c4f4237a-3a7f-49f1-afb5-a9a7eda2a00b",
   "metadata": {},
   "outputs": [],
   "source": [
    "5/2"
   ]
  },
  {
   "cell_type": "code",
   "execution_count": null,
   "id": "7f4128bf-05be-48a7-80a8-1515def2a51b",
   "metadata": {},
   "outputs": [],
   "source": [
    "5//2"
   ]
  },
  {
   "cell_type": "code",
   "execution_count": null,
   "id": "6bfd70d7-6b4f-4193-971a-23181677fa83",
   "metadata": {},
   "outputs": [],
   "source": [
    "5%2"
   ]
  },
  {
   "cell_type": "code",
   "execution_count": null,
   "id": "5b64fab7-9856-4f37-ab36-8626fd5882d6",
   "metadata": {},
   "outputs": [],
   "source": [
    "num=eval(input(\"enter a number\"))\n",
    "if num%2==0:\n",
    "    print(\"even\")\n",
    "else:\n",
    "    print(\"odd\")"
   ]
  },
  {
   "cell_type": "code",
   "execution_count": null,
   "id": "93df524d-8865-4cb7-9ccc-6fc74304818f",
   "metadata": {},
   "outputs": [],
   "source": [
    "distance=eval(input(\"enter the distance\"))\n",
    "if distance>25:\n",
    "    charge=eval(input(\"enter the charge\"))\n",
    "    total_charge= (distance-25)*charge\n",
    "    print(f\"total charge is:{total_charge}\")\n",
    "else:\n",
    "    print(\"free ride\")"
   ]
  },
  {
   "cell_type": "code",
   "execution_count": null,
   "id": "05d7638c-f8e6-4670-bf74-afc9e57a9bc2",
   "metadata": {},
   "outputs": [],
   "source": [
    "distance=eval(input(\"enter the distance\"))\n",
    "cutoff_dis=eval(input(\"gov cutoff distance\")) \n",
    "if distance>cutoff_dis:\n",
    "    print(f\"the charge applicable only on:{distance-cutoff_dis} km\")\n",
    "    charge=eval(input(\"enter the charge\"))\n",
    "    total_charge= (distance-cutoff_dis)*charge\n",
    "    print(f\"total charge is:{total_charge} rs\")\n",
    "else:\n",
    "    print(\"free ride\")"
   ]
  },
  {
   "cell_type": "code",
   "execution_count": null,
   "id": "c4fdff0a-cc0b-4aae-af15-11202a1ef8aa",
   "metadata": {},
   "outputs": [],
   "source": [
    "import random\n",
    "n1=random.randint(1,100)\n",
    "n2=random.randint(1,100)\n",
    "if n1>n2:\n",
    "    print(f\"{n1} is greater\")\n",
    "else:\n",
    "    print(f\"{n2} is geater\") "
   ]
  },
  {
   "cell_type": "code",
   "execution_count": null,
   "id": "333a4e33-5609-4d1e-a2f7-c8de27e8ad30",
   "metadata": {},
   "outputs": [],
   "source": [
    "course_name=input(\"enter the course name\")\n",
    "institute_name=input(\"enter the institute name\")\n",
    "if course_name==\"data_science\" or institute_name==\"naresh_it\":\n",
    "    print(\"we are good\")\n",
    "else:\n",
    "    print(\"bye!!\")"
   ]
  },
  {
   "cell_type": "markdown",
   "id": "8090752b-efd4-4948-919e-3d9e4c138311",
   "metadata": {},
   "source": [
    "*if-elif-else*\n",
    "- when we have two solution based on one condition\n",
    "\n",
    "- then we can go for for if-else\n",
    "\n",
    "- when we have 3 solution based on two condition\n",
    "\n",
    "- then we have if-elif-else\n",
    "    \n",
    "- if need condition\n",
    "\n",
    "- elif needs condition\n",
    "\n",
    "- if both if and elif goes wrong it goes to else part    "
   ]
  },
  {
   "cell_type": "code",
   "execution_count": 9,
   "id": "53e8ed51-dcaa-4beb-a186-725c21bcd9e2",
   "metadata": {},
   "outputs": [
    {
     "name": "stdin",
     "output_type": "stream",
     "text": [
      "enter the number 3\n"
     ]
    },
    {
     "name": "stdout",
     "output_type": "stream",
     "text": [
      "Three\n"
     ]
    }
   ],
   "source": [
    "num=eval(input(\"enter the number\"))\n",
    "if num==1:\n",
    "    print(\"one\")\n",
    "elif num==2:\n",
    "    print(\"Two\")\n",
    "elif num==3:\n",
    "    print(\"Three\")\n",
    "else:\n",
    "    (\"valid number\")"
   ]
  },
  {
   "cell_type": "code",
   "execution_count": 8,
   "id": "aef9c9dc-6cb6-455c-80b9-19b8d0ac3834",
   "metadata": {},
   "outputs": [
    {
     "name": "stdin",
     "output_type": "stream",
     "text": [
      "enter the percentage: 77\n"
     ]
    },
    {
     "name": "stdout",
     "output_type": "stream",
     "text": [
      "the grade is D for:77\n"
     ]
    }
   ],
   "source": [
    "percent=eval(input(\"enter the percentage:\"))\n",
    "if percent>=90: \n",
    "    print(f\"the grade is A for:{percent}\") \n",
    "elif percent>80 and percent<=90: ###### percentage>=80 we can use like this too.\n",
    "    print(f\"the grade is B for:{percent}\")\n",
    "elif  < percent <50:\n",
    "    print(f\"the grade is C for:{percent}\")\n",
    "else:\n",
    "    print(f\"the grade is D for:{percent}\")"
   ]
  },
  {
   "cell_type": "code",
   "execution_count": 34,
   "id": "e3a05191-a2b5-43c1-880b-7b0cc4dc144f",
   "metadata": {},
   "outputs": [
    {
     "name": "stdin",
     "output_type": "stream",
     "text": [
      "enter the age 77\n"
     ]
    },
    {
     "name": "stdout",
     "output_type": "stream",
     "text": [
      "senior citizens\n"
     ]
    }
   ],
   "source": [
    "age=eval(input(\"enter the age\"))\n",
    "if age>100:     ##77>100==F\n",
    "    print(\"Unlucky guy\")\n",
    "elif age>=80:  ###77>=80==F\n",
    "    print(\"super senior citizens\")\n",
    "elif age>=60:  ###77>=70==T\n",
    "    print(\"senior citizens\")\n",
    "elif age>=40:\n",
    "    print(\"aged\")\n",
    "elif age>=25:\n",
    "    print(\"middle age\")\n",
    "elif age>=15:\n",
    "    print(\"young\")\n",
    "else:\n",
    "    print(\"kid\")"
   ]
  },
  {
   "cell_type": "code",
   "execution_count": 44,
   "id": "77e83435-9325-4bc4-8490-1315e831f832",
   "metadata": {},
   "outputs": [
    {
     "name": "stdin",
     "output_type": "stream",
     "text": [
      "enter a distance 30\n",
      "enter the charge 5\n"
     ]
    },
    {
     "name": "stdout",
     "output_type": "stream",
     "text": [
      "total_charge is:150\n"
     ]
    }
   ],
   "source": [
    "dis=eval(input(\"enter a distance\"))\n",
    "if dis>100:\n",
    "    charge=eval(input(\"enter the charge\"))\n",
    "    total_charge=dis*charge\n",
    "    print(f\"total_charge is:{total_charge}\")\n",
    "elif dis>=50:\n",
    "    charge=eval(input(\"enter the charge\"))\n",
    "    total_charge=dis*charge\n",
    "    print(f\"total_charge is:{total_charge}\")\n",
    "elif dis>=25:\n",
    "    charge=eval(input(\"enter the charge\"))\n",
    "    total_charge=dis*charge\n",
    "    print(f\"total_charge is:{total_charge}\")\n",
    "else:\n",
    "    print(\"free ride\")"
   ]
  },
  {
   "cell_type": "code",
   "execution_count": 46,
   "id": "5bb8f8af-2a87-45df-8095-812e85e25390",
   "metadata": {},
   "outputs": [
    {
     "data": {
      "text/plain": [
       "['_STRUCT_TM_ITEMS',\n",
       " '__doc__',\n",
       " '__loader__',\n",
       " '__name__',\n",
       " '__package__',\n",
       " '__spec__',\n",
       " 'altzone',\n",
       " 'asctime',\n",
       " 'ctime',\n",
       " 'daylight',\n",
       " 'get_clock_info',\n",
       " 'gmtime',\n",
       " 'localtime',\n",
       " 'mktime',\n",
       " 'monotonic',\n",
       " 'monotonic_ns',\n",
       " 'perf_counter',\n",
       " 'perf_counter_ns',\n",
       " 'process_time',\n",
       " 'process_time_ns',\n",
       " 'sleep',\n",
       " 'strftime',\n",
       " 'strptime',\n",
       " 'struct_time',\n",
       " 'thread_time',\n",
       " 'thread_time_ns',\n",
       " 'time',\n",
       " 'time_ns',\n",
       " 'timezone',\n",
       " 'tzname']"
      ]
     },
     "execution_count": 46,
     "metadata": {},
     "output_type": "execute_result"
    }
   ],
   "source": [
    "import time\n",
    "dir(time)"
   ]
  },
  {
   "cell_type": "code",
   "execution_count": 50,
   "id": "c331190d-4e37-4894-b1c6-90598cef401a",
   "metadata": {},
   "outputs": [
    {
     "name": "stdout",
     "output_type": "stream",
     "text": [
      "enter 1 for addition\n",
      "enter 2 for subtract\n",
      "enter 3 for multiplication\n",
      "enter 4 for division\n"
     ]
    },
    {
     "name": "stdin",
     "output_type": "stream",
     "text": [
      "enter the number b/w 1 to 4 is: 3\n"
     ]
    },
    {
     "name": "stdout",
     "output_type": "stream",
     "text": [
      "550\n"
     ]
    }
   ],
   "source": [
    "import time\n",
    "time.sleep(1)\n",
    "print(\"enter 1 for addition\")\n",
    "time.sleep(1)\n",
    "print(\"enter 2 for subtract\")\n",
    "time.sleep(1)\n",
    "print(\"enter 3 for multiplication\")\n",
    "time.sleep(1)\n",
    "print(\"enter 4 for division\")\n",
    "n1=10\n",
    "n2=55\n",
    "oper=eval(input(\"enter the number b/w 1 to 4 is:\"))\n",
    "if oper==1:\n",
    "    print(n1+n2)\n",
    "elif oper==2:\n",
    "    print(n1-n2)\n",
    "elif oper==3:\n",
    "    print(n1*n2)\n",
    "else:\n",
    "    print(n1/n2)"
   ]
  },
  {
   "cell_type": "code",
   "execution_count": 10,
   "id": "afd6a922-b6d4-4dcc-9ce7-9803400f0a2c",
   "metadata": {},
   "outputs": [
    {
     "name": "stdin",
     "output_type": "stream",
     "text": [
      "enter the number 23\n"
     ]
    },
    {
     "name": "stdout",
     "output_type": "stream",
     "text": [
      "postivie\n"
     ]
    }
   ],
   "source": [
    "n=eval(input(\"enter the number\"))\n",
    "if n>=0:\n",
    "    if n==0:\n",
    "        print(\"Zero\")\n",
    "    else:\n",
    "        print(\"postivie\")\n",
    "else:\n",
    "    print(\"negative\")"
   ]
  },
  {
   "cell_type": "code",
   "execution_count": 28,
   "id": "d0408b02-d392-4806-8ad0-764fa5162490",
   "metadata": {},
   "outputs": [
    {
     "name": "stdin",
     "output_type": "stream",
     "text": [
      "enter a gender female\n",
      "enter the age 33\n"
     ]
    },
    {
     "name": "stdout",
     "output_type": "stream",
     "text": [
      "MA\n"
     ]
    }
   ],
   "source": [
    "gender=input(\"enter a gender\")\n",
    "if gender==\"m\":\n",
    "    age=eval(input(\"enter the age:\"))\n",
    "    if age>=60:\n",
    "        print(\"sc\")\n",
    "    elif age>=30:\n",
    "        print(\"MA\")\n",
    "    elif age>=10:\n",
    "        print(\"Young boy\")\n",
    "    else:\n",
    "        print(\"kid\")\n",
    "elif gender==\"female\":\n",
    "    age=eval(input(\"enter the age\"))\n",
    "    if age>=60:\n",
    "        print(\"sc\")\n",
    "    elif age>=30:\n",
    "        print(\"MA\")\n",
    "    elif age>=10:\n",
    "        print(\"Young girl\")\n",
    "    else:\n",
    "        print(\"girl\")\n",
    "else:\n",
    "    print(\"the valid gender\")\n",
    "    \n"
   ]
  },
  {
   "cell_type": "code",
   "execution_count": 41,
   "id": "a809f061-d3e6-4dc8-bac9-0166991d5c9d",
   "metadata": {},
   "outputs": [
    {
     "name": "stdin",
     "output_type": "stream",
     "text": [
      "enter the number1: 55\n",
      "enter the number2: 77\n",
      "enter the number3: 88\n"
     ]
    },
    {
     "name": "stdout",
     "output_type": "stream",
     "text": [
      "n3 is greater\n"
     ]
    }
   ],
   "source": [
    "n1=eval(input(\"enter the number1:\"))\n",
    "n2=eval(input(\"enter the number2:\"))\n",
    "n3=eval(input(\"enter the number3:\"))\n",
    "if n1>n2:\n",
    "    print(\"n1 is greater\") \n",
    "elif n2>n3:\n",
    "    print(\"n2 is greater\") \n",
    "else:\n",
    "    print(\"n3 is greater\")"
   ]
  },
  {
   "cell_type": "markdown",
   "id": "6b0a94e1-cdd8-46ea-ae9e-a20fe36e04c2",
   "metadata": {},
   "source": [
    "# do with the nested statement"
   ]
  },
  {
   "cell_type": "code",
   "execution_count": 43,
   "id": "41047151-59ab-459b-9212-943764b428fd",
   "metadata": {},
   "outputs": [
    {
     "name": "stdin",
     "output_type": "stream",
     "text": [
      "enter the number1: 88\n",
      "enter the number2: 98\n",
      "enter the number3: 1\n"
     ]
    },
    {
     "name": "stdout",
     "output_type": "stream",
     "text": [
      "n2 is greater\n"
     ]
    }
   ],
   "source": [
    "n1=eval(input(\"enter the number1:\"))\n",
    "n2=eval(input(\"enter the number2:\"))\n",
    "n3=eval(input(\"enter the number3:\"))\n",
    "if n1>n2:\n",
    "    if n1>n3:\n",
    "        print(\"n1 is greater\")\n",
    "    else:\n",
    "        print(\"n3 is greater\")\n",
    "elif n2>n3:\n",
    "    print(\"n2 is greater\")\n",
    "else:\n",
    "    print(\"n3 is greater\")\n",
    "        "
   ]
  },
  {
   "cell_type": "code",
   "execution_count": null,
   "id": "2926358e-46f5-4dea-8fa2-6d4a3ee7fa8b",
   "metadata": {},
   "outputs": [],
   "source": []
  }
 ],
 "metadata": {
  "kernelspec": {
   "display_name": "Python 3 (ipykernel)",
   "language": "python",
   "name": "python3"
  },
  "language_info": {
   "codemirror_mode": {
    "name": "ipython",
    "version": 3
   },
   "file_extension": ".py",
   "mimetype": "text/x-python",
   "name": "python",
   "nbconvert_exporter": "python",
   "pygments_lexer": "ipython3",
   "version": "3.11.7"
  }
 },
 "nbformat": 4,
 "nbformat_minor": 5
}
