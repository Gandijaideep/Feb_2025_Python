{
 "cells": [
  {
   "cell_type": "markdown",
   "id": "2fec4957-3564-4c73-b80c-aaf537e71799",
   "metadata": {},
   "source": [
    "**Try-except**\n",
    "- try and exception are two blocks\n",
    "\n",
    "- Original code will be written under **try block**\n",
    "\n",
    "- if any error occurs in the original code\n",
    "\n",
    "- it will redirect to **except** block\n",
    "\n",
    "- **except** block will catch the error in a try block\n",
    "\n",
    "- "
   ]
  },
  {
   "cell_type": "code",
   "execution_count": 11,
   "id": "42a2bf14-342a-4f4e-89fd-3144a23176f2",
   "metadata": {},
   "outputs": [
    {
     "name": "stdout",
     "output_type": "stream",
     "text": [
      "20\n",
      "88\n",
      "name 'n23' is not defined\n",
      "hello the code is good\n"
     ]
    }
   ],
   "source": [
    "try :\n",
    "    n1=20\n",
    "    print(n1)\n",
    "    n2=88\n",
    "    print(n2)\n",
    "    add=n1+n23  ### there are any errors it will go to except block.\n",
    "    print(add)\n",
    "except Exception as e:\n",
    "    print(e)\n",
    "    print(\"hello the code is good\")"
   ]
  },
  {
   "cell_type": "code",
   "execution_count": null,
   "id": "99dc6265-e4a3-4274-b962-86067c0a9d71",
   "metadata": {},
   "outputs": [],
   "source": [
    "try:\n",
    "    <write your original code>\n",
    "except Exception as e:\n",
    "    print(e)"
   ]
  },
  {
   "cell_type": "code",
   "execution_count": 13,
   "id": "f93e11bd-027c-4736-a81f-9df36cfd9902",
   "metadata": {},
   "outputs": [
    {
     "name": "stdin",
     "output_type": "stream",
     "text": [
      "enter the n1: 10\n",
      "enter the n2: 0\n"
     ]
    },
    {
     "ename": "ZeroDivisionError",
     "evalue": "division by zero",
     "output_type": "error",
     "traceback": [
      "\u001b[1;31m---------------------------------------------------------------------------\u001b[0m",
      "\u001b[1;31mZeroDivisionError\u001b[0m                         Traceback (most recent call last)",
      "Cell \u001b[1;32mIn[13], line 3\u001b[0m\n\u001b[0;32m      1\u001b[0m n1\u001b[38;5;241m=\u001b[39m\u001b[38;5;28meval\u001b[39m(\u001b[38;5;28minput\u001b[39m(\u001b[38;5;124m\"\u001b[39m\u001b[38;5;124menter the n1:\u001b[39m\u001b[38;5;124m\"\u001b[39m))\n\u001b[0;32m      2\u001b[0m n2\u001b[38;5;241m=\u001b[39m\u001b[38;5;28meval\u001b[39m(\u001b[38;5;28minput\u001b[39m(\u001b[38;5;124m\"\u001b[39m\u001b[38;5;124menter the n2:\u001b[39m\u001b[38;5;124m\"\u001b[39m))\n\u001b[1;32m----> 3\u001b[0m divi\u001b[38;5;241m=\u001b[39mn1\u001b[38;5;241m/\u001b[39mn2\n\u001b[0;32m      4\u001b[0m \u001b[38;5;28mprint\u001b[39m(divi)\n",
      "\u001b[1;31mZeroDivisionError\u001b[0m: division by zero"
     ]
    }
   ],
   "source": [
    "n1=eval(input(\"enter the n1:\"))\n",
    "n2=eval(input(\"enter the n2:\"))\n",
    "divi=n1/n2\n",
    "print(divi)"
   ]
  },
  {
   "cell_type": "code",
   "execution_count": 17,
   "id": "6e941da1-ea4a-4446-a88f-f15214be518f",
   "metadata": {},
   "outputs": [
    {
     "name": "stdin",
     "output_type": "stream",
     "text": [
      "enter the n1: 10\n",
      "enter the n2: 0\n"
     ]
    },
    {
     "name": "stdout",
     "output_type": "stream",
     "text": [
      "division by zero\n"
     ]
    }
   ],
   "source": [
    "try:\n",
    "    n1=eval(input(\"enter the n1:\"))\n",
    "    n2=eval(input(\"enter the n2:\"))\n",
    "    divi=n1/n2\n",
    "    print(divi)\n",
    "except Exception as e:\n",
    "    print(e)\n",
    "\n",
    "    "
   ]
  },
  {
   "cell_type": "code",
   "execution_count": null,
   "id": "a1420045-9e65-4dd7-9f6f-c1ba3f174a7e",
   "metadata": {},
   "outputs": [],
   "source": []
  }
 ],
 "metadata": {
  "kernelspec": {
   "display_name": "Python 3 (ipykernel)",
   "language": "python",
   "name": "python3"
  },
  "language_info": {
   "codemirror_mode": {
    "name": "ipython",
    "version": 3
   },
   "file_extension": ".py",
   "mimetype": "text/x-python",
   "name": "python",
   "nbconvert_exporter": "python",
   "pygments_lexer": "ipython3",
   "version": "3.11.7"
  }
 },
 "nbformat": 4,
 "nbformat_minor": 5
}
