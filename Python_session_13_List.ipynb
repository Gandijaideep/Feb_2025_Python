{
 "cells": [
  {
   "cell_type": "markdown",
   "id": "15b78b1d-f74d-4fab-aa76-c2a6ad1d2edd",
   "metadata": {},
   "source": [
    "# List"
   ]
  },
  {
   "cell_type": "markdown",
   "id": "ceba3a0a-f033-4f5d-be42-78a42f9e19c8",
   "metadata": {},
   "source": [
    "- String denoted with quotes\n",
    "- Listed is denoted by []\n",
    "- list means array of elements\n",
    "- list can access any data type together"
   ]
  },
  {
   "cell_type": "code",
   "execution_count": 4,
   "id": "af4f4838-f378-4009-aaca-bbe2e422fbf6",
   "metadata": {},
   "outputs": [
    {
     "data": {
      "text/plain": [
       "list"
      ]
     },
     "execution_count": 4,
     "metadata": {},
     "output_type": "execute_result"
    }
   ],
   "source": [
    "l1=[1,2,34]\n",
    "type(l1)"
   ]
  },
  {
   "cell_type": "code",
   "execution_count": 8,
   "id": "4b8e28c9-aa47-41cb-9acb-88afe7602f9a",
   "metadata": {},
   "outputs": [
    {
     "data": {
      "text/plain": [
       "[1.234, 'True']"
      ]
     },
     "execution_count": 8,
     "metadata": {},
     "output_type": "execute_result"
    }
   ],
   "source": [
    "l2=[1.234,\"True\"]\n",
    "l2"
   ]
  },
  {
   "cell_type": "code",
   "execution_count": 10,
   "id": "4755be82-7b9b-424b-ae2b-1f293194cf47",
   "metadata": {},
   "outputs": [
    {
     "name": "stdout",
     "output_type": "stream",
     "text": [
      "[12, 455, 1.56, 'False'] <class 'list'>\n"
     ]
    }
   ],
   "source": [
    "l3=[12,455,1.56,\"False\"]\n",
    "print(l3,type(l3))"
   ]
  },
  {
   "cell_type": "code",
   "execution_count": 14,
   "id": "00dd5864-776b-4a4f-a503-99ed686c3d1e",
   "metadata": {},
   "outputs": [
    {
     "name": "stdout",
     "output_type": "stream",
     "text": [
      "[97, 2.45, 123]\n"
     ]
    }
   ],
   "source": [
    "l4=[ord(\"a\"),2.45,123]\n",
    "print(l4)"
   ]
  },
  {
   "cell_type": "code",
   "execution_count": 16,
   "id": "39988a35-c1da-4042-9127-38b0031972c1",
   "metadata": {},
   "outputs": [
    {
     "name": "stdout",
     "output_type": "stream",
     "text": [
      "[1, 23, [45, 1.34]]\n"
     ]
    }
   ],
   "source": [
    "l5=[1,23,[45,1.34]]\n",
    "print(l5)"
   ]
  },
  {
   "cell_type": "code",
   "execution_count": 2,
   "id": "69190760-170b-4cef-9974-0171a438886b",
   "metadata": {},
   "outputs": [
    {
     "name": "stdout",
     "output_type": "stream",
     "text": [
      "[(20+30j), 'True', ['-']]\n"
     ]
    }
   ],
   "source": [
    "l6=[20+30j,\"True\",[chr(45)]]\n",
    "print(l6)"
   ]
  },
  {
   "cell_type": "code",
   "execution_count": 38,
   "id": "09c8d99b-5d7e-43ab-b4fb-6a953b47c175",
   "metadata": {},
   "outputs": [
    {
     "data": {
      "text/plain": [
       "[10, 10, 10]"
      ]
     },
     "execution_count": 38,
     "metadata": {},
     "output_type": "execute_result"
    }
   ],
   "source": [
    "l7=[10,10,10]\n",
    "l7\n",
    "\n",
    "#Dulpicates are allowed"
   ]
  },
  {
   "cell_type": "code",
   "execution_count": 50,
   "id": "f0e18d5d-6958-4587-aa71-8dac728fe81c",
   "metadata": {},
   "outputs": [
    {
     "data": {
      "text/plain": [
       "['{\"dataframes\": [], \"user\": \"LENOVO\"}']"
      ]
     },
     "execution_count": 50,
     "metadata": {},
     "output_type": "execute_result"
    }
   ],
   "source": [
    "l8=[_]\n",
    "l8"
   ]
  },
  {
   "cell_type": "code",
   "execution_count": 116,
   "id": "4ca9dce8-61f1-4f33-ba03-3499fd668205",
   "metadata": {},
   "outputs": [
    {
     "name": "stdout",
     "output_type": "stream",
     "text": [
      "[1, 2, 34] [1.234, 'True'] [12, 455, 1.56, 'False'] [97, 2.45, 123] [1, 23, [45, 1.34]] [(20+30j), True, 12, 12.2] [10, 10, 10]\n"
     ]
    }
   ],
   "source": [
    "l1=[1,2,34]\n",
    "l2=[1.234,\"True\"]\n",
    "l3=[12,455,1.56,\"False\"]\n",
    "l4=[ord(\"a\"),2.45,123]\n",
    "l5=[1,23,[45,1.34]]\n",
    "l6=[20+30j,True,12,12.2]\n",
    "l7=[10,10,10]\n",
    "print(l1,l2,l3,l4,l5,l6,l7)"
   ]
  },
  {
   "cell_type": "markdown",
   "id": "394dc05e-2dc2-40e8-a51e-9c203b8e2ed6",
   "metadata": {},
   "source": [
    "- list can be accessed with square brackets\n",
    "- list can have any data type of elements\n",
    "    - Heterogeneous \n",
    "- List can have duplicates \n",
    "- list in the list is possible\n",
    "- list with an underscore can also be possible\n",
    "- An empty list can also possible\n",
    "- The value inside the list is called an element."
   ]
  },
  {
   "cell_type": "code",
   "execution_count": 72,
   "id": "bf00bcb5-7c28-4567-b1fb-4f702fca23f4",
   "metadata": {},
   "outputs": [
    {
     "name": "stdout",
     "output_type": "stream",
     "text": [
      "34\n",
      "1\n",
      "3\n",
      "[1, 2, 34]\n",
      "<list_reverseiterator object at 0x0000025710136770>\n",
      "<class 'list'>\n"
     ]
    }
   ],
   "source": [
    "l1=[1,2,34]\n",
    "print(max(l1))\n",
    "print(min(l1))\n",
    "print(len(l1))\n",
    "print(sorted(l1))\n",
    "print(reversed(l1))\n",
    "print(type(l1))"
   ]
  },
  {
   "cell_type": "code",
   "execution_count": 86,
   "id": "f1e55e71-e852-462f-8228-e8c4a85116a8",
   "metadata": {},
   "outputs": [
    {
     "name": "stdout",
     "output_type": "stream",
     "text": [
      "90\n",
      "True\n",
      "5\n",
      "[True, 1.234, 3, 7, 90]\n",
      "<list_reverseiterator object at 0x000002570EF61270>\n",
      "<class 'list'>\n"
     ]
    }
   ],
   "source": [
    "l2=[1.234,3,7,90,True]\n",
    "print(max(l2))\n",
    "print(min(l2))\n",
    "print(len(l2))\n",
    "print(sorted(l2))\n",
    "print(reversed(l2))\n",
    "print(type(l2))\n"
   ]
  },
  {
   "cell_type": "code",
   "execution_count": 94,
   "id": "b06484d6-c3eb-463a-a70b-8d5c478007c0",
   "metadata": {},
   "outputs": [
    {
     "name": "stdout",
     "output_type": "stream",
     "text": [
      "True\n",
      "90\n",
      "7\n",
      "3\n",
      "1.234\n"
     ]
    }
   ],
   "source": [
    "l2=[1.234,3,7,90,True]\n",
    "ans=reversed(l2)\n",
    "type(ans)\n",
    "for i in ans:\n",
    "    print(i)"
   ]
  },
  {
   "cell_type": "code",
   "execution_count": 14,
   "id": "81490e1b-dbb1-42f6-835a-8619d0ef4688",
   "metadata": {},
   "outputs": [
    {
     "ename": "TypeError",
     "evalue": "'<' not supported between instances of 'int' and 'str'",
     "output_type": "error",
     "traceback": [
      "\u001b[1;31m---------------------------------------------------------------------------\u001b[0m",
      "\u001b[1;31mTypeError\u001b[0m                                 Traceback (most recent call last)",
      "Cell \u001b[1;32mIn[14], line 2\u001b[0m\n\u001b[0;32m      1\u001b[0m l3\u001b[38;5;241m=\u001b[39m[\u001b[38;5;124m\"\u001b[39m\u001b[38;5;124mf\u001b[39m\u001b[38;5;124m\"\u001b[39m,\u001b[38;5;241m12\u001b[39m,\u001b[38;5;241m455\u001b[39m,\u001b[38;5;241m1.56\u001b[39m,\u001b[38;5;28;01mFalse\u001b[39;00m]\n\u001b[1;32m----> 2\u001b[0m \u001b[38;5;28mprint\u001b[39m(\u001b[38;5;28msorted\u001b[39m(l3))\n\u001b[0;32m      3\u001b[0m \u001b[38;5;28mprint\u001b[39m(\u001b[38;5;28mreversed\u001b[39m(l3))\n\u001b[0;32m      4\u001b[0m \u001b[38;5;28mprint\u001b[39m(\u001b[38;5;28mtype\u001b[39m(l3))\n",
      "\u001b[1;31mTypeError\u001b[0m: '<' not supported between instances of 'int' and 'str'"
     ]
    }
   ],
   "source": [
    "l3=[\"f\",12,455,1.56,False]\n",
    "print(sorted(l3))\n",
    "print(reversed(l3))\n",
    "print(type(l3))"
   ]
  },
  {
   "cell_type": "code",
   "execution_count": 104,
   "id": "8f81c41f-2d2f-42f9-9fbb-cd49a35674a2",
   "metadata": {},
   "outputs": [
    {
     "ename": "TypeError",
     "evalue": "ord() expected string of length 1, but list found",
     "output_type": "error",
     "traceback": [
      "\u001b[1;31m---------------------------------------------------------------------------\u001b[0m",
      "\u001b[1;31mTypeError\u001b[0m                                 Traceback (most recent call last)",
      "Cell \u001b[1;32mIn[104], line 1\u001b[0m\n\u001b[1;32m----> 1\u001b[0m \u001b[38;5;28mord\u001b[39m([])\n",
      "\u001b[1;31mTypeError\u001b[0m: ord() expected string of length 1, but list found"
     ]
    }
   ],
   "source": [
    "ord([])"
   ]
  },
  {
   "cell_type": "code",
   "execution_count": 118,
   "id": "8baae244-89d7-4191-bd9e-d7238030bbe0",
   "metadata": {},
   "outputs": [
    {
     "data": {
      "text/plain": [
       "[(20+30j), True, 12, 12.2]"
      ]
     },
     "execution_count": 118,
     "metadata": {},
     "output_type": "execute_result"
    }
   ],
   "source": [
    "l6"
   ]
  },
  {
   "cell_type": "code",
   "execution_count": 122,
   "id": "c678a230-f4b9-44ab-a0bd-d2484326622a",
   "metadata": {},
   "outputs": [
    {
     "ename": "TypeError",
     "evalue": "'<' not supported between instances of 'bool' and 'complex'",
     "output_type": "error",
     "traceback": [
      "\u001b[1;31m---------------------------------------------------------------------------\u001b[0m",
      "\u001b[1;31mTypeError\u001b[0m                                 Traceback (most recent call last)",
      "Cell \u001b[1;32mIn[122], line 1\u001b[0m\n\u001b[1;32m----> 1\u001b[0m \u001b[38;5;28mmin\u001b[39m(l6)\n",
      "\u001b[1;31mTypeError\u001b[0m: '<' not supported between instances of 'bool' and 'complex'"
     ]
    }
   ],
   "source": [
    "min(l6)"
   ]
  },
  {
   "cell_type": "code",
   "execution_count": 124,
   "id": "22065f24-53bc-4f89-9935-f37fb7934ffc",
   "metadata": {},
   "outputs": [
    {
     "ename": "TypeError",
     "evalue": "'>' not supported between instances of 'bool' and 'complex'",
     "output_type": "error",
     "traceback": [
      "\u001b[1;31m---------------------------------------------------------------------------\u001b[0m",
      "\u001b[1;31mTypeError\u001b[0m                                 Traceback (most recent call last)",
      "Cell \u001b[1;32mIn[124], line 1\u001b[0m\n\u001b[1;32m----> 1\u001b[0m \u001b[38;5;28mmax\u001b[39m(l6)\n",
      "\u001b[1;31mTypeError\u001b[0m: '>' not supported between instances of 'bool' and 'complex'"
     ]
    }
   ],
   "source": [
    "max(l6)"
   ]
  },
  {
   "cell_type": "code",
   "execution_count": 128,
   "id": "313d91cc-311a-4dca-bc46-02c74d3ea86d",
   "metadata": {},
   "outputs": [
    {
     "data": {
      "text/plain": [
       "[]"
      ]
     },
     "execution_count": 128,
     "metadata": {},
     "output_type": "execute_result"
    }
   ],
   "source": [
    "sorted([])"
   ]
  },
  {
   "cell_type": "code",
   "execution_count": 130,
   "id": "967f2052-a19a-4c55-a693-a3550d7c6330",
   "metadata": {},
   "outputs": [
    {
     "data": {
      "text/plain": [
       "[(20+30j), True, 12, 12.2]"
      ]
     },
     "execution_count": 130,
     "metadata": {},
     "output_type": "execute_result"
    }
   ],
   "source": [
    "l6"
   ]
  },
  {
   "cell_type": "code",
   "execution_count": 132,
   "id": "dfd89360-faed-4f69-8634-04e8f622ae96",
   "metadata": {},
   "outputs": [
    {
     "name": "stdout",
     "output_type": "stream",
     "text": [
      "[(20+30j), True, 12, 12.2]\n",
      "[(20+30j), True, 12, 12.2]\n",
      "[(20+30j), True, 12, 12.2]\n",
      "[(20+30j), True, 12, 12.2]\n"
     ]
    }
   ],
   "source": [
    "for i in reversed(l6):\n",
    "    print(l6)"
   ]
  },
  {
   "cell_type": "code",
   "execution_count": 134,
   "id": "e028184e-3441-4340-bcaf-5e8226daa144",
   "metadata": {},
   "outputs": [
    {
     "data": {
      "text/plain": [
       "[34, 2, 1]"
      ]
     },
     "execution_count": 134,
     "metadata": {},
     "output_type": "execute_result"
    }
   ],
   "source": [
    "list(reversed(l1))"
   ]
  },
  {
   "cell_type": "code",
   "execution_count": 149,
   "id": "46bf523d-1141-4cb8-bc8f-7fc857128df6",
   "metadata": {},
   "outputs": [
    {
     "data": {
      "text/plain": [
       "['{\"dataframes\": [], \"user\": \"LENOVO\"}']"
      ]
     },
     "execution_count": 149,
     "metadata": {},
     "output_type": "execute_result"
    }
   ],
   "source": [
    "list(reversed(l8))"
   ]
  },
  {
   "cell_type": "code",
   "execution_count": 146,
   "id": "894c252e-c318-48f1-be4f-d9394b31c9c1",
   "metadata": {},
   "outputs": [
    {
     "data": {
      "text/plain": [
       "[12.2, 12, True, (20+30j)]"
      ]
     },
     "execution_count": 146,
     "metadata": {},
     "output_type": "execute_result"
    }
   ],
   "source": [
    "list(reversed(l6))"
   ]
  },
  {
   "cell_type": "markdown",
   "id": "dc9b2c1d-bef1-47d9-8de9-40c0ee40053f",
   "metadata": {},
   "source": [
    "- sorted will compare the elements\n",
    "- the same rules applicable for min and max\n",
    "- sorted never returns any error eventhrough we have an empty list\n",
    "- min and max will give an error if it has an empty list\n",
    "- Reversed only do reverse elements"
   ]
  },
  {
   "cell_type": "markdown",
   "id": "98a24371-182f-454b-abda-d7fb3ba02682",
   "metadata": {},
   "source": [
    "**sum**"
   ]
  },
  {
   "cell_type": "code",
   "execution_count": 155,
   "id": "afde16b1-7126-4fb5-be38-5126209a6893",
   "metadata": {},
   "outputs": [
    {
     "data": {
      "text/plain": [
       "60"
      ]
     },
     "execution_count": 155,
     "metadata": {},
     "output_type": "execute_result"
    }
   ],
   "source": [
    "sum([10,20,30])"
   ]
  },
  {
   "cell_type": "code",
   "execution_count": 157,
   "id": "b3f13f16-6111-46a9-ba7f-bd90031cbe77",
   "metadata": {},
   "outputs": [
    {
     "ename": "TypeError",
     "evalue": "unsupported operand type(s) for +: 'int' and 'str'",
     "output_type": "error",
     "traceback": [
      "\u001b[1;31m---------------------------------------------------------------------------\u001b[0m",
      "\u001b[1;31mTypeError\u001b[0m                                 Traceback (most recent call last)",
      "Cell \u001b[1;32mIn[157], line 1\u001b[0m\n\u001b[1;32m----> 1\u001b[0m \u001b[38;5;28msum\u001b[39m([\u001b[38;5;124m\"\u001b[39m\u001b[38;5;124mA\u001b[39m\u001b[38;5;124m\"\u001b[39m,\u001b[38;5;124m\"\u001b[39m\u001b[38;5;124mB\u001b[39m\u001b[38;5;124m\"\u001b[39m])\n",
      "\u001b[1;31mTypeError\u001b[0m: unsupported operand type(s) for +: 'int' and 'str'"
     ]
    }
   ],
   "source": [
    "sum([\"A\",\"B\"])"
   ]
  },
  {
   "cell_type": "code",
   "execution_count": 161,
   "id": "ea871a9f-2df4-43ae-b281-9555e12392c5",
   "metadata": {},
   "outputs": [
    {
     "data": {
      "text/plain": [
       "160"
      ]
     },
     "execution_count": 161,
     "metadata": {},
     "output_type": "execute_result"
    }
   ],
   "source": [
    "sum([10,20,30],start=100) #means==>sum=sum+i here start=100 then summ=100+10+20+30"
   ]
  },
  {
   "cell_type": "code",
   "execution_count": 165,
   "id": "1e38a87c-34e9-4807-a5c7-42c023a8254b",
   "metadata": {},
   "outputs": [
    {
     "data": {
      "text/plain": [
       "(1, 'C')"
      ]
     },
     "execution_count": 165,
     "metadata": {},
     "output_type": "execute_result"
    }
   ],
   "source": [
    "l1=[1,2,3,4,\"A\",\"B\",\"C\"]\n",
    "l1[-7],l1[6]"
   ]
  },
  {
   "cell_type": "code",
   "execution_count": 201,
   "id": "5e1f2f36-8aae-4ffc-9377-1248bdbdff8a",
   "metadata": {},
   "outputs": [
    {
     "name": "stdout",
     "output_type": "stream",
     "text": [
      "the positive index is:(0, 1)\n",
      "the negative index is is:(0, -7)\n",
      "the positive index is:(0, 1) and the negative index is is:(0, -7)\n",
      "the positive index is:(1, 2)\n",
      "the negative index is is:(1, -6)\n",
      "the positive index is:(1, 2) and the negative index is is:(1, -6)\n",
      "the positive index is:(2, 3)\n",
      "the negative index is is:(2, -5)\n",
      "the positive index is:(2, 3) and the negative index is is:(2, -5)\n",
      "the positive index is:(3, 4)\n",
      "the negative index is is:(3, -4)\n",
      "the positive index is:(3, 4) and the negative index is is:(3, -4)\n",
      "the positive index is:(4, 'A')\n",
      "the negative index is is:(4, -3)\n",
      "the positive index is:(4, 'A') and the negative index is is:(4, -3)\n",
      "the positive index is:(5, 'B')\n",
      "the negative index is is:(5, -2)\n",
      "the positive index is:(5, 'B') and the negative index is is:(5, -2)\n",
      "the positive index is:(6, 'C')\n",
      "the negative index is is:(6, -1)\n",
      "the positive index is:(6, 'C') and the negative index is is:(6, -1)\n"
     ]
    }
   ],
   "source": [
    "l1=[1,2,3,4,\"A\",\"B\",\"C\"]\n",
    "for i in range(len(l1)):\n",
    "    print(f\"the positive index is:{i,l1[i]}\")\n",
    "    print(f\"the negative index is is:{i,i-len(l1)}\")\n",
    "    print(f\"the positive index is:{i,l1[i]} and the negative index is is:{i,i-len(l1)}\")\n",
    "    "
   ]
  },
  {
   "cell_type": "code",
   "execution_count": 203,
   "id": "a1f63ed6-3907-41dd-9f28-895a915d4c76",
   "metadata": {},
   "outputs": [
    {
     "data": {
      "text/plain": [
       "10"
      ]
     },
     "execution_count": 203,
     "metadata": {},
     "output_type": "execute_result"
    }
   ],
   "source": [
    "l=[10,20,30]\n",
    "l[0]"
   ]
  },
  {
   "cell_type": "code",
   "execution_count": 205,
   "id": "deeeada7-d2ce-4d7c-ba8e-15cdb2771c03",
   "metadata": {},
   "outputs": [
    {
     "data": {
      "text/plain": [
       "1"
      ]
     },
     "execution_count": 205,
     "metadata": {},
     "output_type": "execute_result"
    }
   ],
   "source": [
    "l=[[10,20]]\n",
    "len(l)"
   ]
  },
  {
   "cell_type": "code",
   "execution_count": 231,
   "id": "1e4dbebd-1458-4903-bc39-335a76f2b60c",
   "metadata": {},
   "outputs": [
    {
     "data": {
      "text/plain": [
       "(20, 10)"
      ]
     },
     "execution_count": 231,
     "metadata": {},
     "output_type": "execute_result"
    }
   ],
   "source": [
    "l[0] [1],l[0] [0]"
   ]
  },
  {
   "cell_type": "code",
   "execution_count": 233,
   "id": "f705dd83-5589-48f5-9c16-5d9091715786",
   "metadata": {},
   "outputs": [
    {
     "data": {
      "text/plain": [
       "3"
      ]
     },
     "execution_count": 233,
     "metadata": {},
     "output_type": "execute_result"
    }
   ],
   "source": [
    "l1=[10,20,[\"A\",\"B\"]]\n",
    "len(l1)"
   ]
  },
  {
   "cell_type": "code",
   "execution_count": 237,
   "id": "6d99afb3-7b97-45a2-b754-0640c7bb5f2b",
   "metadata": {},
   "outputs": [
    {
     "data": {
      "text/plain": [
       "('A', 'B')"
      ]
     },
     "execution_count": 237,
     "metadata": {},
     "output_type": "execute_result"
    }
   ],
   "source": [
    "l1[2] [0],l1[2] [1]"
   ]
  },
  {
   "cell_type": "code",
   "execution_count": 247,
   "id": "ee4ab3ab-f885-4c36-94aa-37b4dc7c5398",
   "metadata": {},
   "outputs": [
    {
     "data": {
      "text/plain": [
       "'Apple'"
      ]
     },
     "execution_count": 247,
     "metadata": {},
     "output_type": "execute_result"
    }
   ],
   "source": [
    "l1=[1,2,3,4,[5,6,[\"Apple\"]]]\n",
    "l1[4] [2] [0]"
   ]
  },
  {
   "cell_type": "code",
   "execution_count": 249,
   "id": "c4f7dc05-dfc6-47e4-877d-e453a22bf887",
   "metadata": {},
   "outputs": [
    {
     "data": {
      "text/plain": [
       "4"
      ]
     },
     "execution_count": 249,
     "metadata": {},
     "output_type": "execute_result"
    }
   ],
   "source": [
    "l1=[1,2,3,[4,[5,[\"cherry\"]]]]\n",
    "len(l1)"
   ]
  },
  {
   "cell_type": "code",
   "execution_count": 251,
   "id": "cae84b67-5e41-40ea-9c75-ef02cb78f4b0",
   "metadata": {},
   "outputs": [
    {
     "data": {
      "text/plain": [
       "'cherry'"
      ]
     },
     "execution_count": 251,
     "metadata": {},
     "output_type": "execute_result"
    }
   ],
   "source": [
    "l1[3] [1] [1] [0]"
   ]
  },
  {
   "cell_type": "code",
   "execution_count": 52,
   "id": "83d191d6-83da-455d-83ba-2ed7abacc704",
   "metadata": {},
   "outputs": [
    {
     "data": {
      "text/plain": [
       "1"
      ]
     },
     "execution_count": 52,
     "metadata": {},
     "output_type": "execute_result"
    }
   ],
   "source": [
    "l1=[[[[[[[[[\"banana\"]]]]]]]]]\n",
    "len(l1)"
   ]
  },
  {
   "cell_type": "code",
   "execution_count": 54,
   "id": "fe9ac048-b99a-44cb-ab79-07cf70aa5007",
   "metadata": {},
   "outputs": [
    {
     "data": {
      "text/plain": [
       "'banana'"
      ]
     },
     "execution_count": 54,
     "metadata": {},
     "output_type": "execute_result"
    }
   ],
   "source": [
    "l1[0] [0] [0] [0] [0] [0] [0] [0] [0]"
   ]
  },
  {
   "cell_type": "code",
   "execution_count": 48,
   "id": "8c74e898-32e2-485a-a1db-5c5b3e7e5679",
   "metadata": {},
   "outputs": [
    {
     "data": {
      "text/plain": [
       "'DDLJ'"
      ]
     },
     "execution_count": 48,
     "metadata": {},
     "output_type": "execute_result"
    }
   ],
   "source": [
    "l1=['Apple',['Kashmir',['India',['Mumbai',['Sharuk',['Film',['DDLJ']]]]]]]\n",
    "l1[1] [1] [1] [1] [1] [1] [0]"
   ]
  },
  {
   "cell_type": "code",
   "execution_count": 44,
   "id": "7b63affd-ac94-49b0-aea7-ea63b86ca76f",
   "metadata": {},
   "outputs": [
    {
     "data": {
      "text/plain": [
       "['w', 'e', 'L', 'c', 'o', 'm', 'e']"
      ]
     },
     "execution_count": 44,
     "metadata": {},
     "output_type": "execute_result"
    }
   ],
   "source": [
    "str1=[\"w\",\"e\",\"l\",\"c\",\"o\",\"m\",\"e\"]\n",
    "str1[2]=\"L\"\n",
    "str1\n",
    "\n",
    "# we can change the list elements using index."
   ]
  },
  {
   "cell_type": "markdown",
   "id": "4acf3d24-d33e-4a2f-9850-91b945fe50ba",
   "metadata": {},
   "source": [
    "**concatenation**"
   ]
  },
  {
   "cell_type": "code",
   "execution_count": 78,
   "id": "6b726d5a-997c-44f1-8958-b94c7032855b",
   "metadata": {},
   "outputs": [
    {
     "ename": "TypeError",
     "evalue": "unsupported operand type(s) for -: 'list' and 'list'",
     "output_type": "error",
     "traceback": [
      "\u001b[1;31m---------------------------------------------------------------------------\u001b[0m",
      "\u001b[1;31mTypeError\u001b[0m                                 Traceback (most recent call last)",
      "Cell \u001b[1;32mIn[78], line 3\u001b[0m\n\u001b[0;32m      1\u001b[0m s1\u001b[38;5;241m=\u001b[39m[\u001b[38;5;124m\"\u001b[39m\u001b[38;5;124mh\u001b[39m\u001b[38;5;124m\"\u001b[39m,\u001b[38;5;124m\"\u001b[39m\u001b[38;5;124me\u001b[39m\u001b[38;5;124m\"\u001b[39m,\u001b[38;5;124m\"\u001b[39m\u001b[38;5;124ml\u001b[39m\u001b[38;5;124m\"\u001b[39m,\u001b[38;5;124m\"\u001b[39m\u001b[38;5;124ml\u001b[39m\u001b[38;5;124m\"\u001b[39m,\u001b[38;5;124m\"\u001b[39m\u001b[38;5;124mo\u001b[39m\u001b[38;5;124m\"\u001b[39m]\n\u001b[0;32m      2\u001b[0m s2\u001b[38;5;241m=\u001b[39m[\u001b[38;5;124m\"\u001b[39m\u001b[38;5;124mw\u001b[39m\u001b[38;5;124m\"\u001b[39m,\u001b[38;5;124m\"\u001b[39m\u001b[38;5;124me\u001b[39m\u001b[38;5;124m\"\u001b[39m,\u001b[38;5;124m\"\u001b[39m\u001b[38;5;124ml\u001b[39m\u001b[38;5;124m\"\u001b[39m,\u001b[38;5;124m\"\u001b[39m\u001b[38;5;124mc\u001b[39m\u001b[38;5;124m\"\u001b[39m,\u001b[38;5;124m\"\u001b[39m\u001b[38;5;124mo\u001b[39m\u001b[38;5;124m\"\u001b[39m,\u001b[38;5;124m\"\u001b[39m\u001b[38;5;124mm\u001b[39m\u001b[38;5;124m\"\u001b[39m,\u001b[38;5;124m\"\u001b[39m\u001b[38;5;124me\u001b[39m\u001b[38;5;124m\"\u001b[39m]\n\u001b[1;32m----> 3\u001b[0m s1\u001b[38;5;241m-\u001b[39ms2\n",
      "\u001b[1;31mTypeError\u001b[0m: unsupported operand type(s) for -: 'list' and 'list'"
     ]
    }
   ],
   "source": [
    "s1=[\"h\",\"e\",\"l\",\"l\",\"o\"]\n",
    "s2=[\"w\",\"e\",\"l\",\"c\",\"o\",\"m\",\"e\"]\n",
    "s1-s2"
   ]
  },
  {
   "cell_type": "code",
   "execution_count": 80,
   "id": "fadb1d3d-c36a-4811-9a5c-bde923a26675",
   "metadata": {},
   "outputs": [
    {
     "ename": "TypeError",
     "evalue": "can't multiply sequence by non-int of type 'list'",
     "output_type": "error",
     "traceback": [
      "\u001b[1;31m---------------------------------------------------------------------------\u001b[0m",
      "\u001b[1;31mTypeError\u001b[0m                                 Traceback (most recent call last)",
      "Cell \u001b[1;32mIn[80], line 1\u001b[0m\n\u001b[1;32m----> 1\u001b[0m s1\u001b[38;5;241m*\u001b[39ms2\n",
      "\u001b[1;31mTypeError\u001b[0m: can't multiply sequence by non-int of type 'list'"
     ]
    }
   ],
   "source": [
    "s1*s2"
   ]
  },
  {
   "cell_type": "code",
   "execution_count": 82,
   "id": "46fe9205-e91f-4d51-ba72-5b8349bbfb39",
   "metadata": {},
   "outputs": [
    {
     "ename": "TypeError",
     "evalue": "unsupported operand type(s) for /: 'list' and 'list'",
     "output_type": "error",
     "traceback": [
      "\u001b[1;31m---------------------------------------------------------------------------\u001b[0m",
      "\u001b[1;31mTypeError\u001b[0m                                 Traceback (most recent call last)",
      "Cell \u001b[1;32mIn[82], line 1\u001b[0m\n\u001b[1;32m----> 1\u001b[0m s1\u001b[38;5;241m/\u001b[39ms2\n",
      "\u001b[1;31mTypeError\u001b[0m: unsupported operand type(s) for /: 'list' and 'list'"
     ]
    }
   ],
   "source": [
    "s1/s2"
   ]
  },
  {
   "cell_type": "code",
   "execution_count": 68,
   "id": "282b059d-6d60-42c2-a9ea-d25eaa8808ab",
   "metadata": {},
   "outputs": [
    {
     "ename": "TypeError",
     "evalue": "unsupported operand type(s) for -: 'list' and 'list'",
     "output_type": "error",
     "traceback": [
      "\u001b[1;31m---------------------------------------------------------------------------\u001b[0m",
      "\u001b[1;31mTypeError\u001b[0m                                 Traceback (most recent call last)",
      "Cell \u001b[1;32mIn[68], line 1\u001b[0m\n\u001b[1;32m----> 1\u001b[0m s1\u001b[38;5;241m-\u001b[39ms2\n",
      "\u001b[1;31mTypeError\u001b[0m: unsupported operand type(s) for -: 'list' and 'list'"
     ]
    }
   ],
   "source": [
    "s1-s2"
   ]
  },
  {
   "cell_type": "code",
   "execution_count": 70,
   "id": "247a085f-64b1-43a1-9a28-6bf4fe88a08d",
   "metadata": {},
   "outputs": [
    {
     "data": {
      "text/plain": [
       "['h', 'e', 'l', 'l', 'o', 'w', 'e', 'l', 'c', 'o', 'm', 'e']"
      ]
     },
     "execution_count": 70,
     "metadata": {},
     "output_type": "execute_result"
    }
   ],
   "source": [
    "s1+s2"
   ]
  },
  {
   "cell_type": "code",
   "execution_count": 84,
   "id": "fea5eeb4-5856-4d9e-adce-086080c1d055",
   "metadata": {},
   "outputs": [
    {
     "data": {
      "text/plain": [
       "['h', 'e', 'l', 'l', 'o', 'h', 'e', 'l', 'l', 'o']"
      ]
     },
     "execution_count": 84,
     "metadata": {},
     "output_type": "execute_result"
    }
   ],
   "source": [
    "s1*2"
   ]
  },
  {
   "cell_type": "markdown",
   "id": "17af342f-3475-46d7-b47a-6c8bdd106b38",
   "metadata": {},
   "source": [
    "**slicing**"
   ]
  },
  {
   "cell_type": "code",
   "execution_count": 87,
   "id": "b864363c-9926-46f6-b3ee-01caac6bcc43",
   "metadata": {},
   "outputs": [
    {
     "data": {
      "text/plain": [
       "[200, 100, True, 10.5, '10.5', 'D', 'C', 'B', 'A', 5, 4, 3, 2, 1]"
      ]
     },
     "execution_count": 87,
     "metadata": {},
     "output_type": "execute_result"
    }
   ],
   "source": [
    "\n",
    "l1=[1,2,3,4,5,\"A\",\"B\",\"C\",\"D\",'10.5',10.5,True,100,200]\n",
    "l1[::-1]"
   ]
  },
  {
   "cell_type": "code",
   "execution_count": 89,
   "id": "894d40ce-db7c-4cd1-b7b6-1038fddef810",
   "metadata": {},
   "outputs": [
    {
     "data": {
      "text/plain": [
       "[]"
      ]
     },
     "execution_count": 89,
     "metadata": {},
     "output_type": "execute_result"
    }
   ],
   "source": [
    "l1[2:-14:2]"
   ]
  },
  {
   "cell_type": "code",
   "execution_count": 91,
   "id": "8e0984f0-e185-4c15-8839-42619f35336d",
   "metadata": {},
   "outputs": [
    {
     "data": {
      "text/plain": [
       "[100]"
      ]
     },
     "execution_count": 91,
     "metadata": {},
     "output_type": "execute_result"
    }
   ],
   "source": [
    "l1[-2:14:2]"
   ]
  },
  {
   "cell_type": "code",
   "execution_count": 93,
   "id": "9df776f5-acf1-4152-8147-f27503468461",
   "metadata": {},
   "outputs": [
    {
     "data": {
      "text/plain": [
       "[]"
      ]
     },
     "execution_count": 93,
     "metadata": {},
     "output_type": "execute_result"
    }
   ],
   "source": [
    "l1[14:-2:2]"
   ]
  },
  {
   "cell_type": "code",
   "execution_count": 95,
   "id": "682f0857-4e6f-4827-873a-80afc55c7538",
   "metadata": {},
   "outputs": [
    {
     "data": {
      "text/plain": [
       "[1]"
      ]
     },
     "execution_count": 95,
     "metadata": {},
     "output_type": "execute_result"
    }
   ],
   "source": [
    "l1[-14:2:2]"
   ]
  },
  {
   "cell_type": "code",
   "execution_count": 97,
   "id": "491ed16f-158e-485d-af55-8e74fa5315ca",
   "metadata": {},
   "outputs": [
    {
     "data": {
      "text/plain": [
       "[]"
      ]
     },
     "execution_count": 97,
     "metadata": {},
     "output_type": "execute_result"
    }
   ],
   "source": [
    "l1[-14:-2:-2]"
   ]
  },
  {
   "cell_type": "markdown",
   "id": "0a7d4481-1f02-427a-8285-20ff3afe35e1",
   "metadata": {},
   "source": [
    "**Methods**"
   ]
  },
  {
   "cell_type": "code",
   "execution_count": 100,
   "id": "58a203bb-145b-4bab-8b1c-36bedd530f2b",
   "metadata": {},
   "outputs": [
    {
     "data": {
      "text/plain": [
       "['__add__',\n",
       " '__class__',\n",
       " '__class_getitem__',\n",
       " '__contains__',\n",
       " '__delattr__',\n",
       " '__delitem__',\n",
       " '__dir__',\n",
       " '__doc__',\n",
       " '__eq__',\n",
       " '__format__',\n",
       " '__ge__',\n",
       " '__getattribute__',\n",
       " '__getitem__',\n",
       " '__getstate__',\n",
       " '__gt__',\n",
       " '__hash__',\n",
       " '__iadd__',\n",
       " '__imul__',\n",
       " '__init__',\n",
       " '__init_subclass__',\n",
       " '__iter__',\n",
       " '__le__',\n",
       " '__len__',\n",
       " '__lt__',\n",
       " '__mul__',\n",
       " '__ne__',\n",
       " '__new__',\n",
       " '__reduce__',\n",
       " '__reduce_ex__',\n",
       " '__repr__',\n",
       " '__reversed__',\n",
       " '__rmul__',\n",
       " '__setattr__',\n",
       " '__setitem__',\n",
       " '__sizeof__',\n",
       " '__str__',\n",
       " '__subclasshook__',\n",
       " 'append',\n",
       " 'clear',\n",
       " 'copy',\n",
       " 'count',\n",
       " 'extend',\n",
       " 'index',\n",
       " 'insert',\n",
       " 'pop',\n",
       " 'remove',\n",
       " 'reverse',\n",
       " 'sort']"
      ]
     },
     "execution_count": 100,
     "metadata": {},
     "output_type": "execute_result"
    }
   ],
   "source": [
    "dir([])"
   ]
  },
  {
   "cell_type": "code",
   "execution_count": 104,
   "id": "7f02ebbc-8577-40e8-9a1c-8369d1c4d1a9",
   "metadata": {},
   "outputs": [
    {
     "name": "stdout",
     "output_type": "stream",
     "text": [
      "None\n"
     ]
    }
   ],
   "source": [
    "l1=[1,2,3,4,5,\"A\",\"B\",\"C\",\"D\",'10.5',10.5,True,100,200]\n",
    "print(l1.clear())"
   ]
  },
  {
   "cell_type": "code",
   "execution_count": 182,
   "id": "ad6d4de0-1a2c-4b50-8209-b346f9e47a4f",
   "metadata": {},
   "outputs": [
    {
     "name": "stdout",
     "output_type": "stream",
     "text": [
      "l2: [1, 2, 3, 4, 5, 'A', 'B', 'C', 'D', '10.5', 10.5, True, 100, 200]\n"
     ]
    }
   ],
   "source": [
    "l1=[1,2,3,4,5,\"A\",\"B\",\"C\",\"D\",'10.5',10.5,True,100,200]\n",
    "l2=l1.copy()\n",
    "l1.clear()\n",
    "print(\"l2:\",l2)\n"
   ]
  },
  {
   "cell_type": "code",
   "execution_count": 134,
   "id": "6d968074-b2be-42ab-b741-ba7a7514a9ce",
   "metadata": {},
   "outputs": [
    {
     "ename": "TypeError",
     "evalue": "'<' not supported between instances of 'str' and 'int'",
     "output_type": "error",
     "traceback": [
      "\u001b[1;31m---------------------------------------------------------------------------\u001b[0m",
      "\u001b[1;31mTypeError\u001b[0m                                 Traceback (most recent call last)",
      "Cell \u001b[1;32mIn[134], line 2\u001b[0m\n\u001b[0;32m      1\u001b[0m l1\u001b[38;5;241m=\u001b[39m[\u001b[38;5;241m1\u001b[39m,\u001b[38;5;241m2\u001b[39m,\u001b[38;5;241m3\u001b[39m,\u001b[38;5;241m4\u001b[39m,\u001b[38;5;241m5\u001b[39m,\u001b[38;5;124m\"\u001b[39m\u001b[38;5;124mA\u001b[39m\u001b[38;5;124m\"\u001b[39m,\u001b[38;5;124m\"\u001b[39m\u001b[38;5;124mB\u001b[39m\u001b[38;5;124m\"\u001b[39m,\u001b[38;5;124m\"\u001b[39m\u001b[38;5;124mC\u001b[39m\u001b[38;5;124m\"\u001b[39m,\u001b[38;5;124m\"\u001b[39m\u001b[38;5;124mD\u001b[39m\u001b[38;5;124m\"\u001b[39m,\u001b[38;5;124m'\u001b[39m\u001b[38;5;124m10.5\u001b[39m\u001b[38;5;124m'\u001b[39m,\u001b[38;5;241m10.5\u001b[39m,\u001b[38;5;28;01mTrue\u001b[39;00m,\u001b[38;5;241m100\u001b[39m,\u001b[38;5;241m200\u001b[39m]\n\u001b[1;32m----> 2\u001b[0m l1\u001b[38;5;241m.\u001b[39msort()\n\u001b[0;32m      3\u001b[0m l1\n",
      "\u001b[1;31mTypeError\u001b[0m: '<' not supported between instances of 'str' and 'int'"
     ]
    }
   ],
   "source": [
    "l1=[1,2,3,4,5,\"A\",\"B\",\"C\",\"D\",'10.5',10.5,True,100,200]\n",
    "l1.sort()\n",
    "l1"
   ]
  },
  {
   "cell_type": "code",
   "execution_count": 193,
   "id": "3f317b3b-a2af-47c6-82fc-2b417df450db",
   "metadata": {},
   "outputs": [
    {
     "ename": "TypeError",
     "evalue": "'<' not supported between instances of 'str' and 'int'",
     "output_type": "error",
     "traceback": [
      "\u001b[1;31m---------------------------------------------------------------------------\u001b[0m",
      "\u001b[1;31mTypeError\u001b[0m                                 Traceback (most recent call last)",
      "Cell \u001b[1;32mIn[193], line 1\u001b[0m\n\u001b[1;32m----> 1\u001b[0m \u001b[38;5;28mlist\u001b[39m(\u001b[38;5;28msorted\u001b[39m(l1))\n",
      "\u001b[1;31mTypeError\u001b[0m: '<' not supported between instances of 'str' and 'int'"
     ]
    }
   ],
   "source": [
    "list(sorted(l1))"
   ]
  },
  {
   "cell_type": "code",
   "execution_count": 142,
   "id": "9d589879-a52d-49cb-9c53-e1d6f600fccf",
   "metadata": {},
   "outputs": [
    {
     "name": "stdout",
     "output_type": "stream",
     "text": [
      "1\n"
     ]
    }
   ],
   "source": [
    "l1=[1,2,3,4,5,\"A\",\"B\",\"C\",\"D\",10.5,True,100,200]\n",
    "print(l1.count(5))"
   ]
  },
  {
   "cell_type": "code",
   "execution_count": 128,
   "id": "c256a2df-6f66-4607-b40d-15b912062852",
   "metadata": {},
   "outputs": [
    {
     "name": "stdout",
     "output_type": "stream",
     "text": [
      "<built-in method reverse of list object at 0x0000024B229798C0>\n"
     ]
    }
   ],
   "source": [
    "l1=[1,2,3,4,5,\"A\",\"B\",\"C\",\"D\",'10.5',10.5,True,100,200]\n",
    "print(l1.reverse)"
   ]
  },
  {
   "cell_type": "code",
   "execution_count": 132,
   "id": "d8e7466f-7aa2-447f-a444-5d7ff700e4cb",
   "metadata": {},
   "outputs": [
    {
     "data": {
      "text/plain": [
       "[200, 100, True, 10.5, '10.5', 'D', 'C', 'B', 'A', 5, 4, 3, 2, 1]"
      ]
     },
     "execution_count": 132,
     "metadata": {},
     "output_type": "execute_result"
    }
   ],
   "source": [
    "list(reversed(l1))"
   ]
  },
  {
   "cell_type": "code",
   "execution_count": null,
   "id": "aaf7341f-0999-49dc-a430-6e30bbf3be23",
   "metadata": {},
   "outputs": [],
   "source": [
    "#if it inplace\n",
    "l1.reverse() #don't print it,make in this way. \n",
    "l1 \n",
    "# reverse the elements save the output\n",
    "# in same variable\n",
    "# it indicates as INPLACE"
   ]
  },
  {
   "cell_type": "code",
   "execution_count": 148,
   "id": "7ed0a49c-166b-4444-817f-011c65dc87f6",
   "metadata": {},
   "outputs": [
    {
     "data": {
      "text/plain": [
       "'D'"
      ]
     },
     "execution_count": 148,
     "metadata": {},
     "output_type": "execute_result"
    }
   ],
   "source": [
    "l1=[1,2,3,4,5,\"A\",\"B\",\"C\",\"D\",'10.5',10.5,True,100,200]\n",
    "l1.pop(-6)"
   ]
  },
  {
   "cell_type": "code",
   "execution_count": 152,
   "id": "6209ec6c-6f8b-41ca-8246-a2bc0de0267b",
   "metadata": {},
   "outputs": [
    {
     "data": {
      "text/plain": [
       "[]"
      ]
     },
     "execution_count": 152,
     "metadata": {},
     "output_type": "execute_result"
    }
   ],
   "source": [
    "l1=[1,2,3,4,5,\"A\",\"B\",\"C\",\"D\",'10.5',10.5,True,100,200]\n",
    "l1.clear()\n",
    "l1"
   ]
  },
  {
   "cell_type": "code",
   "execution_count": 217,
   "id": "ac54ba48-467d-4a81-a632-1960a9697da7",
   "metadata": {},
   "outputs": [
    {
     "data": {
      "text/plain": [
       "[1, 2, 3, 4, 5, 'A', 'B', 'C', 'D', '10.5', 10.5, True, 100, 200, 1]"
      ]
     },
     "execution_count": 217,
     "metadata": {},
     "output_type": "execute_result"
    }
   ],
   "source": [
    "l1=[1,2,3,4,5,\"A\",\"B\",\"C\",\"D\",'10.5',10.5,True,100,200]\n",
    "l1.append(1)\n",
    "l1"
   ]
  },
  {
   "cell_type": "code",
   "execution_count": 168,
   "id": "e1df2723-880f-4c8e-8e73-310276833c96",
   "metadata": {},
   "outputs": [
    {
     "data": {
      "text/plain": [
       "[1, 2, 3, 4, 5, 'A', 'B', 'C', 'D', 'E', '10.5', 10.5, True, 100, 200]"
      ]
     },
     "execution_count": 168,
     "metadata": {},
     "output_type": "execute_result"
    }
   ],
   "source": [
    "l1=[1,2,3,4,5,\"A\",\"B\",\"C\",\"D\",'10.5',10.5,True,100,200]\n",
    "l1.insert(-5,\"E\")\n",
    "l1"
   ]
  },
  {
   "cell_type": "code",
   "execution_count": 221,
   "id": "6fe2f9a8-e46a-4892-a5f2-387f3d7523ca",
   "metadata": {},
   "outputs": [
    {
     "data": {
      "text/plain": [
       "[1, 2, 3, 4, 5, 'A', 'B', 'C', 'D', '10.5', 10.5, True, 100, 200]"
      ]
     },
     "execution_count": 221,
     "metadata": {},
     "output_type": "execute_result"
    }
   ],
   "source": [
    "l1=[1,2,3,4,5,\"A\",\"B\",\"C\",\"D\",'10.5',10.5,True,100,200]\n",
    "l1.extend(\"\")\n",
    "l1"
   ]
  },
  {
   "cell_type": "code",
   "execution_count": 16,
   "id": "449c6b9d-3724-4d2d-a225-dc11157dd843",
   "metadata": {},
   "outputs": [
    {
     "data": {
      "text/plain": [
       "0"
      ]
     },
     "execution_count": 16,
     "metadata": {},
     "output_type": "execute_result"
    }
   ],
   "source": [
    "l1=[1,2,3,4,5,\"A\",\"B\",\"C\",\"D\",'10.5',10.5,True,100,200]\n",
    "l1.index(1)"
   ]
  },
  {
   "cell_type": "markdown",
   "id": "08c70df2-a9d1-4363-a7a6-f6ed9cc717ff",
   "metadata": {},
   "source": [
    "**reverse vs reversed**"
   ]
  },
  {
   "cell_type": "markdown",
   "id": "783d4e5b-fa78-44e3-9e29-df75cea55dae",
   "metadata": {},
   "source": [
    "- reversed is an inbuilt function\n",
    "- reversed can applicable all **iterable**\n",
    "- reversed(string),reversed(list)..etc\n",
    "\n",
    "**Reverse**\n",
    "- reverse a method used in only list\n"
   ]
  },
  {
   "cell_type": "markdown",
   "id": "34036111-8e4a-4bc5-892c-6f2e5c771cbc",
   "metadata": {},
   "source": [
    "**sort vs sorted**  -same as above reverse and reversed"
   ]
  },
  {
   "cell_type": "markdown",
   "id": "49474596-640e-403f-92c4-0c3d639e52ff",
   "metadata": {},
   "source": [
    "**append**"
   ]
  },
  {
   "cell_type": "markdown",
   "id": "abd632fe-11b2-4c03-87ea-529c5ae34222",
   "metadata": {},
   "source": [
    "- append means add an elements at the end of the list\n",
    "- append is a method very important\n",
    "- append is used to store output in a list\n",
    "- till last class we just printed all the output"
   ]
  },
  {
   "cell_type": "code",
   "execution_count": 225,
   "id": "561d24ee-27e1-4f32-912a-e1144bc8c027",
   "metadata": {},
   "outputs": [
    {
     "data": {
      "text/plain": [
       "[1, 2, 3, 4, 5, 'A', 'B', 'C', 'D', '10.5', 10.5, True, 100, 200, [False]]"
      ]
     },
     "execution_count": 225,
     "metadata": {},
     "output_type": "execute_result"
    }
   ],
   "source": [
    "l1=[1,2,3,4,5,\"A\",\"B\",\"C\",\"D\",'10.5',10.5,True,100,200]\n",
    "l1.append([False])\n",
    "l1"
   ]
  },
  {
   "cell_type": "code",
   "execution_count": 233,
   "id": "aee597df-a921-4061-a801-4790ced43526",
   "metadata": {},
   "outputs": [
    {
     "data": {
      "text/plain": [
       "[0, 1, 2, 3, 4, 5, 6, 7, 8, 9]"
      ]
     },
     "execution_count": 233,
     "metadata": {},
     "output_type": "execute_result"
    }
   ],
   "source": [
    "l1=[]\n",
    "for i in range(10):\n",
    "    l1.append(i)\n",
    "\n",
    "l1"
   ]
  },
  {
   "cell_type": "code",
   "execution_count": 243,
   "id": "aab06c38-f25c-4a03-908b-2fa988351840",
   "metadata": {},
   "outputs": [
    {
     "name": "stdin",
     "output_type": "stream",
     "text": [
      " 1\n",
      " 2\n",
      " 3\n",
      " 4\n",
      " 5\n"
     ]
    },
    {
     "data": {
      "text/plain": [
       "[1, 4, 9, 16, 25]"
      ]
     },
     "execution_count": 243,
     "metadata": {},
     "output_type": "execute_result"
    }
   ],
   "source": [
    "l1=[]\n",
    "for i in range(5):\n",
    "    num=eval(input())\n",
    "    l1.append(num*num)\n",
    "\n",
    "l1\n",
    "\n",
    "    \n",
    "    "
   ]
  },
  {
   "cell_type": "code",
   "execution_count": 245,
   "id": "a3cf1a42-4607-439b-9b4a-8bd76ffbd91d",
   "metadata": {},
   "outputs": [
    {
     "data": {
      "text/plain": [
       "[4761, 576, 625, 9025, 1681]"
      ]
     },
     "execution_count": 245,
     "metadata": {},
     "output_type": "execute_result"
    }
   ],
   "source": [
    "import random\n",
    "l1=[]\n",
    "for i in range(5):\n",
    "    num=random.randint(1,100)\n",
    "    l1.append(num*num)\n",
    "\n",
    "l1"
   ]
  },
  {
   "cell_type": "code",
   "execution_count": 253,
   "id": "da0ed82c-9230-4898-945c-9c911184ce1d",
   "metadata": {},
   "outputs": [
    {
     "data": {
      "text/plain": [
       "['63:3969', '23:529', '61:3721', '3:9', '25:625']"
      ]
     },
     "execution_count": 253,
     "metadata": {},
     "output_type": "execute_result"
    }
   ],
   "source": [
    "import random\n",
    "l1=[]\n",
    "for i in range(5):\n",
    "    num=random.randint(1,100)\n",
    "    l1.append(f\"{num}:{num*num}\")\n",
    "\n",
    "l1"
   ]
  },
  {
   "cell_type": "code",
   "execution_count": 273,
   "id": "0514b3ce-85a4-4885-8d24-d39abe0d4f89",
   "metadata": {},
   "outputs": [],
   "source": [
    "list1=[100,20,27,38,47,52,87]\n",
    "even_list=[]\n",
    "odd_list=[]\n",
    "for i in (list1):\n",
    "    if i%2==0:\n",
    "        even_list.append(even_list)\n",
    "    else:\n",
    "        odd_list.append(odd_list)\n",
    "\n",
    "    "
   ]
  },
  {
   "cell_type": "code",
   "execution_count": 8,
   "id": "4ed0056a-93b4-4ad5-aa23-d23423e150ab",
   "metadata": {},
   "outputs": [
    {
     "data": {
      "text/plain": [
       "[1, 2, 3, 4, 'A', 'B', 'C', 'D', '10.5', 10.5, True, 100, 200]"
      ]
     },
     "execution_count": 8,
     "metadata": {},
     "output_type": "execute_result"
    }
   ],
   "source": [
    "l1=[1,2,3,4,5,\"A\",\"B\",\"C\",\"D\",'10.5',10.5,True,100,200]\n",
    "l1.remove(5)\n",
    "l1"
   ]
  },
  {
   "cell_type": "markdown",
   "id": "92b1c02b-1dff-40e7-b4cb-55409b077583",
   "metadata": {},
   "source": [
    "**Index**"
   ]
  },
  {
   "cell_type": "code",
   "execution_count": 23,
   "id": "d8253691-d69f-4699-8be7-613566ed2ac6",
   "metadata": {},
   "outputs": [
    {
     "data": {
      "text/plain": [
       "[1, 2, 3, 4, 5, 'A', 'B', 'C', 'D', '10.5', 10.5, 100, 200]"
      ]
     },
     "execution_count": 23,
     "metadata": {},
     "output_type": "execute_result"
    }
   ],
   "source": [
    "i1=l1.index(1)\n",
    "i2=l1.index(1,i1+1)\n",
    "l1.pop(i2)\n",
    "l1"
   ]
  },
  {
   "cell_type": "code",
   "execution_count": 25,
   "id": "484462e5-d464-47f0-8177-46b31a690adf",
   "metadata": {},
   "outputs": [
    {
     "data": {
      "text/plain": [
       "['__add__',\n",
       " '__class__',\n",
       " '__class_getitem__',\n",
       " '__contains__',\n",
       " '__delattr__',\n",
       " '__dir__',\n",
       " '__doc__',\n",
       " '__eq__',\n",
       " '__format__',\n",
       " '__ge__',\n",
       " '__getattribute__',\n",
       " '__getitem__',\n",
       " '__getnewargs__',\n",
       " '__getstate__',\n",
       " '__gt__',\n",
       " '__hash__',\n",
       " '__init__',\n",
       " '__init_subclass__',\n",
       " '__iter__',\n",
       " '__le__',\n",
       " '__len__',\n",
       " '__lt__',\n",
       " '__mul__',\n",
       " '__ne__',\n",
       " '__new__',\n",
       " '__reduce__',\n",
       " '__reduce_ex__',\n",
       " '__repr__',\n",
       " '__rmul__',\n",
       " '__setattr__',\n",
       " '__sizeof__',\n",
       " '__str__',\n",
       " '__subclasshook__',\n",
       " 'count',\n",
       " 'index']"
      ]
     },
     "execution_count": 25,
     "metadata": {},
     "output_type": "execute_result"
    }
   ],
   "source": [
    "dir(())"
   ]
  },
  {
   "cell_type": "code",
   "execution_count": 29,
   "id": "4e475175-a1f9-4890-bc61-f15d2db6f0fe",
   "metadata": {},
   "outputs": [
    {
     "data": {
      "text/plain": [
       "3"
      ]
     },
     "execution_count": 29,
     "metadata": {},
     "output_type": "execute_result"
    }
   ],
   "source": [
    "l1=((1,2,3,4,1,45,1))\n",
    "l1.count(1)"
   ]
  },
  {
   "cell_type": "markdown",
   "id": "feeb05ab-b3fb-4558-b529-e0965ae4e82f",
   "metadata": {},
   "source": [
    "**Extend**\n",
    "- difference b/w concatenation vs append vs extend\n",
    "- Extend and concatenation have same behavior\n",
    "\n",
    "- means add the two list"
   ]
  },
  {
   "cell_type": "code",
   "execution_count": 14,
   "id": "3cec8fb6-9fce-41a7-a66e-478d15efa352",
   "metadata": {},
   "outputs": [
    {
     "data": {
      "text/plain": [
       "[55, 66, 2, 34, 88, [1, 2, 3, 4, 5]]"
      ]
     },
     "execution_count": 14,
     "metadata": {},
     "output_type": "execute_result"
    }
   ],
   "source": [
    "l1=[1,2,3,4,5]\n",
    "l2=[55,66,2,34,88]\n",
    "l2.append(l1)\n",
    "l2"
   ]
  },
  {
   "cell_type": "code",
   "execution_count": 32,
   "id": "ae1d2698-9385-4bee-b162-69384c397312",
   "metadata": {},
   "outputs": [
    {
     "data": {
      "text/plain": [
       "[55, 66, 2, 34, 88, 1, 2, 3, 4, 5]"
      ]
     },
     "execution_count": 32,
     "metadata": {},
     "output_type": "execute_result"
    }
   ],
   "source": [
    "l1=[1,2,3,4,5]\n",
    "l2=[55,66,2,34,88]\n",
    "l2.extend(l1)\n",
    "l2"
   ]
  },
  {
   "cell_type": "code",
   "execution_count": 34,
   "id": "222fddc6-5971-48cb-a96f-8c1fca175b82",
   "metadata": {},
   "outputs": [
    {
     "data": {
      "text/plain": [
       "[55, 66, 2, 34, 88, 1, 2, 3, 4, 5]"
      ]
     },
     "execution_count": 34,
     "metadata": {},
     "output_type": "execute_result"
    }
   ],
   "source": [
    "l2"
   ]
  },
  {
   "cell_type": "code",
   "execution_count": 28,
   "id": "a559ab45-f0bf-475e-b29c-bdfcfc34ef30",
   "metadata": {},
   "outputs": [
    {
     "data": {
      "text/plain": [
       "[1, 2, 3, 4, 5, 55, 66, 2, 34, 88]"
      ]
     },
     "execution_count": 28,
     "metadata": {},
     "output_type": "execute_result"
    }
   ],
   "source": [
    "l1=[1,2,3,4,5]\n",
    "l2=[55,66,2,34,88]\n",
    "l1+l2"
   ]
  },
  {
   "cell_type": "markdown",
   "id": "ae923037-8caf-4b82-9d8f-c2c32bfddfe2",
   "metadata": {},
   "source": [
    "**Insert**"
   ]
  },
  {
   "cell_type": "code",
   "execution_count": 51,
   "id": "94f39c76-43d6-4a5a-950c-54f66bd75fe1",
   "metadata": {},
   "outputs": [
    {
     "data": {
      "text/plain": [
       "[55, 66, 2, 34, 88, [1, 2, 3, 4, 5]]"
      ]
     },
     "execution_count": 51,
     "metadata": {},
     "output_type": "execute_result"
    }
   ],
   "source": [
    "l1=[1,2,3,4,5]\n",
    "l2=[55,66,2,34,88]\n",
    "l2.append(l1)\n",
    "l2\n"
   ]
  },
  {
   "cell_type": "code",
   "execution_count": 57,
   "id": "ecb21545-f7f2-4fce-a8a7-268e497178f3",
   "metadata": {},
   "outputs": [
    {
     "data": {
      "text/plain": [
       "[1, 2, 100, 3, 4, 5]"
      ]
     },
     "execution_count": 57,
     "metadata": {},
     "output_type": "execute_result"
    }
   ],
   "source": [
    "l1=[1,2,3,4,5]\n",
    "l1.insert(2,100)\n",
    "l1"
   ]
  },
  {
   "cell_type": "code",
   "execution_count": 61,
   "id": "16dad75a-f4b0-481c-9dd0-ca2708b5c4e0",
   "metadata": {},
   "outputs": [
    {
     "data": {
      "text/plain": [
       "[55, 66, [1, 2, 3, 4, 5], 2, 34, 88]"
      ]
     },
     "execution_count": 61,
     "metadata": {},
     "output_type": "execute_result"
    }
   ],
   "source": [
    "l1=[1,2,3,4,5]\n",
    "l2=[55,66,2,34,88]\n",
    "l2.insert(2,l1)\n",
    "l2"
   ]
  },
  {
   "cell_type": "code",
   "execution_count": 88,
   "id": "bfa6f82d-5ae9-4592-94b8-ca9f0a83d053",
   "metadata": {},
   "outputs": [
    {
     "data": {
      "text/plain": [
       "[1, 2, 3, 4, 'A', 1000, 'B']"
      ]
     },
     "execution_count": 88,
     "metadata": {},
     "output_type": "execute_result"
    }
   ],
   "source": [
    "l1=[1,2,3,4,\"A\",\"B\"]\n",
    "i1=l1.index(\"B\")\n",
    "l1.insert(i1,1000)\n",
    "l1\n"
   ]
  },
  {
   "cell_type": "code",
   "execution_count": 112,
   "id": "f959f427-8a90-491a-b3c4-ac66273f480a",
   "metadata": {},
   "outputs": [
    {
     "data": {
      "text/plain": [
       "[110, 220, 330]"
      ]
     },
     "execution_count": 112,
     "metadata": {},
     "output_type": "execute_result"
    }
   ],
   "source": [
    "l1=[100,200,300]\n",
    "l2=[10,20,30]\n",
    "l3=[]\n",
    "for i in range(len(l1)):\n",
    "    l3.append(l1[i]+l2[i])\n",
    "\n",
    "l3"
   ]
  },
  {
   "cell_type": "code",
   "execution_count": 120,
   "id": "279c7d33-aa9e-4e86-9247-2f719fd5002d",
   "metadata": {},
   "outputs": [
    {
     "data": {
      "text/plain": [
       "[110, 220, 330, 400]"
      ]
     },
     "execution_count": 120,
     "metadata": {},
     "output_type": "execute_result"
    }
   ],
   "source": [
    "l1=[100,200,300,400]\n",
    "l2=[10,20,30]\n",
    "l3=[]\n",
    "for i in range(len(l1)):\n",
    "    l2.append(0)\n",
    "    l3.append(l1[i]+l2[i])\n",
    "\n",
    "l3"
   ]
  },
  {
   "cell_type": "code",
   "execution_count": 140,
   "id": "4c5c264c-cbb8-455c-9dd6-3d7817ba46f8",
   "metadata": {},
   "outputs": [
    {
     "data": {
      "text/plain": [
       "[110, 220, 330, 400]"
      ]
     },
     "execution_count": 140,
     "metadata": {},
     "output_type": "execute_result"
    }
   ],
   "source": [
    "l1=[100,200,300,400]\n",
    "l2=[10,20,30]\n",
    "l3=[]\n",
    "for i in range(len(l1)):\n",
    "    if i <len(l2):\n",
    "        l3.append(l1[i]+l2[i])\n",
    "    else:\n",
    "        l3.append(l1[i])\n",
    "l3      "
   ]
  },
  {
   "cell_type": "code",
   "execution_count": 156,
   "id": "ca943c22-3278-4587-b1af-6df58c8f4af3",
   "metadata": {},
   "outputs": [
    {
     "name": "stdout",
     "output_type": "stream",
     "text": [
      "2\n",
      "4\n"
     ]
    },
    {
     "data": {
      "text/plain": [
       "4"
      ]
     },
     "execution_count": 156,
     "metadata": {},
     "output_type": "execute_result"
    }
   ],
   "source": [
    "import math\n",
    "l1=[2,5]\n",
    "l2=[4,9]\n",
    "d1=l2[0]-l1[0]\n",
    "d2=l2[1]-l1[1]\n",
    "print(d1)\n",
    "print(d2)\n",
    "d=d1**2+d2**2\n",
    "round(math.sqrt(d))\n"
   ]
  },
  {
   "cell_type": "code",
   "execution_count": 204,
   "id": "69fe8a9b-88a8-45d0-a672-efbc68762047",
   "metadata": {},
   "outputs": [
    {
     "name": "stdout",
     "output_type": "stream",
     "text": [
      "7\n",
      "2\n",
      "4\n",
      "7\n"
     ]
    }
   ],
   "source": [
    "import math\n",
    "a=[(1,3),(7,8),(2,6),(9,3)]\n",
    "b=(5,9)\n",
    "for i in a:\n",
    "    l1=i\n",
    "    l2=round(math.sqrt((b[0]-l1[0])**2+(b[1]-l1[1])**2))\n",
    "    print(l2)\n",
    "\n"
   ]
  },
  {
   "cell_type": "code",
   "execution_count": 216,
   "id": "38290b4a-a7b7-42c7-bbfc-0b5758b5be53",
   "metadata": {},
   "outputs": [
    {
     "name": "stdout",
     "output_type": "stream",
     "text": [
      "(1, 3) (7, 8)\n",
      "(1, 3) (2, 6)\n",
      "(1, 3) (9, 3)\n",
      "(1, 3) (2, 9)\n",
      "(1, 3) (10, 12)\n",
      "(7, 8) (7, 8)\n",
      "(7, 8) (2, 6)\n",
      "(7, 8) (9, 3)\n",
      "(7, 8) (2, 9)\n",
      "(7, 8) (10, 12)\n",
      "(2, 6) (7, 8)\n",
      "(2, 6) (2, 6)\n",
      "(2, 6) (9, 3)\n",
      "(2, 6) (2, 9)\n",
      "(2, 6) (10, 12)\n",
      "(9, 3) (7, 8)\n",
      "(9, 3) (2, 6)\n",
      "(9, 3) (9, 3)\n",
      "(9, 3) (2, 9)\n",
      "(9, 3) (10, 12)\n",
      "(2, 9) (7, 8)\n",
      "(2, 9) (2, 6)\n",
      "(2, 9) (9, 3)\n",
      "(2, 9) (2, 9)\n",
      "(2, 9) (10, 12)\n",
      "(10, 12) (7, 8)\n",
      "(10, 12) (2, 6)\n",
      "(10, 12) (9, 3)\n",
      "(10, 12) (2, 9)\n",
      "(10, 12) (10, 12)\n"
     ]
    }
   ],
   "source": [
    "a=[(1,3),(7,8),(2,6),(9,3),(2,9),(10,12)]\n",
    "for i in a:\n",
    "    for j in a[1:]:\n",
    "        print(i,j)\n",
    "        \n",
    "        math.sqrt((j[0]-i[0])**2+(j[1]-i[1])**2)\n",
    "        \n",
    "        \n"
   ]
  },
  {
   "cell_type": "code",
   "execution_count": null,
   "id": "24db60cb-6216-4f9e-8dee-e40fe2564ee1",
   "metadata": {},
   "outputs": [],
   "source": []
  }
 ],
 "metadata": {
  "kernelspec": {
   "display_name": "Python 3 (ipykernel)",
   "language": "python",
   "name": "python3"
  },
  "language_info": {
   "codemirror_mode": {
    "name": "ipython",
    "version": 3
   },
   "file_extension": ".py",
   "mimetype": "text/x-python",
   "name": "python",
   "nbconvert_exporter": "python",
   "pygments_lexer": "ipython3",
   "version": "3.11.7"
  }
 },
 "nbformat": 4,
 "nbformat_minor": 5
}
