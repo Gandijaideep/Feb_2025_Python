{
 "cells": [
  {
   "cell_type": "code",
   "execution_count": 2,
   "id": "3291b80f-eda3-4ce0-ab4a-235883a6644e",
   "metadata": {},
   "outputs": [
    {
     "name": "stdin",
     "output_type": "stream",
     "text": [
      " hello\n"
     ]
    },
    {
     "data": {
      "text/plain": [
       "'hello'"
      ]
     },
     "execution_count": 2,
     "metadata": {},
     "output_type": "execute_result"
    }
   ],
   "source": [
    "input()"
   ]
  },
  {
   "cell_type": "markdown",
   "id": "99f645c0-7443-4516-a951-385640ca18aa",
   "metadata": {},
   "source": [
    "# Input"
   ]
  },
  {
   "cell_type": "code",
   "execution_count": 4,
   "id": "320d5a2b-e3c1-445c-8560-9f8a82c859c8",
   "metadata": {},
   "outputs": [
    {
     "name": "stdin",
     "output_type": "stream",
     "text": [
      " hii\n"
     ]
    },
    {
     "data": {
      "text/plain": [
       "'hii'"
      ]
     },
     "execution_count": 4,
     "metadata": {},
     "output_type": "execute_result"
    }
   ],
   "source": [
    "input()"
   ]
  },
  {
   "cell_type": "code",
   "execution_count": 6,
   "id": "34ec68a5-48e1-43b7-a3cb-a461dc6dd640",
   "metadata": {},
   "outputs": [
    {
     "name": "stdin",
     "output_type": "stream",
     "text": [
      " 20\n",
      " 30\n",
      " done\n"
     ]
    },
    {
     "data": {
      "text/plain": [
       "'done'"
      ]
     },
     "execution_count": 6,
     "metadata": {},
     "output_type": "execute_result"
    }
   ],
   "source": [
    "input()\n",
    "input()\n",
    "input()"
   ]
  },
  {
   "cell_type": "code",
   "execution_count": 8,
   "id": "b88decf3-be96-4356-8284-2cb017f5cdc7",
   "metadata": {},
   "outputs": [
    {
     "name": "stdin",
     "output_type": "stream",
     "text": [
      "enter a num1: 100\n",
      "enter a num2 200\n"
     ]
    },
    {
     "name": "stdout",
     "output_type": "stream",
     "text": [
      "300\n"
     ]
    }
   ],
   "source": [
    "a=input(\"enter a num1:\")\n",
    "b=input(\"enter a num2\")\n",
    "add=int(a)+int(b)\n",
    "print(add)"
   ]
  },
  {
   "cell_type": "code",
   "execution_count": 10,
   "id": "4c583777-a0ac-43c1-9e2b-8509b7238e25",
   "metadata": {},
   "outputs": [
    {
     "name": "stdin",
     "output_type": "stream",
     "text": [
      "enter a num1: 100\n",
      "enter a num2 200\n"
     ]
    },
    {
     "data": {
      "text/plain": [
       "300"
      ]
     },
     "execution_count": 10,
     "metadata": {},
     "output_type": "execute_result"
    }
   ],
   "source": [
    "a=int(input(\"enter a num1:\"))\n",
    "b=int(input(\"enter a num2\"))\n",
    "a+b"
   ]
  },
  {
   "cell_type": "markdown",
   "id": "3260f95a-2448-40a9-afaa-0ee1bbfe5c34",
   "metadata": {},
   "source": [
    "**eval**"
   ]
  },
  {
   "cell_type": "code",
   "execution_count": 25,
   "id": "cdf52058-d81e-49d0-81d1-b66d30a607e1",
   "metadata": {},
   "outputs": [
    {
     "name": "stdin",
     "output_type": "stream",
     "text": [
      "enter a num1: 10\n",
      "enter a num2 43.4\n"
     ]
    },
    {
     "data": {
      "text/plain": [
       "53.4"
      ]
     },
     "execution_count": 25,
     "metadata": {},
     "output_type": "execute_result"
    }
   ],
   "source": [
    "a=eval(input(\"enter a num1:\"))\n",
    "b=eval(input(\"enter a num2\"))\n",
    "a+b"
   ]
  },
  {
   "cell_type": "code",
   "execution_count": 43,
   "id": "9dfe0776-7326-4349-9709-6d25a81b9bfe",
   "metadata": {},
   "outputs": [
    {
     "name": "stdin",
     "output_type": "stream",
     "text": [
      "enter a value1 122.33\n",
      "enter a value2 65\n",
      "enter a value3 100.54\n"
     ]
    },
    {
     "name": "stdout",
     "output_type": "stream",
     "text": [
      "221\n"
     ]
    }
   ],
   "source": [
    "n1=eval(input(\"enter a value1\"))\n",
    "n2=eval(input(\"enter a value2\"))\n",
    "n3=eval(input(\"enter a value3\"))\n",
    "avg=round(n1+n2+n3/3)\n",
    "print(avg)"
   ]
  },
  {
   "cell_type": "code",
   "execution_count": 29,
   "id": "f9e36e40-b6d7-4a07-8be3-f7aa8294613f",
   "metadata": {},
   "outputs": [
    {
     "name": "stdin",
     "output_type": "stream",
     "text": [
      "enter a value of breadth: 20\n",
      "enter a value of height 10\n"
     ]
    },
    {
     "name": "stdout",
     "output_type": "stream",
     "text": [
      "100.0\n"
     ]
    }
   ],
   "source": [
    "n1=eval(input(\"enter a value of breadth:\"))\n",
    "n2=eval(input(\"enter a value of height\"))\n",
    "area=0.5*n1*n2\n",
    "print(area)\n"
   ]
  },
  {
   "cell_type": "code",
   "execution_count": 52,
   "id": "22c7ab3b-8ba8-4343-a515-2bd963cfd66c",
   "metadata": {},
   "outputs": [
    {
     "name": "stdin",
     "output_type": "stream",
     "text": [
      "enter a area of circle 33\n"
     ]
    },
    {
     "name": "stdout",
     "output_type": "stream",
     "text": [
      "the area of circle is: 3419.46\n"
     ]
    }
   ],
   "source": [
    "circle_radius=eval(input(\"enter a area of circle\"))\n",
    "pie=3.14\n",
    "area_circle=pie*circle_radius*circle_radius\n",
    "print(\"the area of circle is:\",area_circle)\n"
   ]
  },
  {
   "cell_type": "code",
   "execution_count": 33,
   "id": "465aa4a9-07e3-494f-8061-af6b25d37577",
   "metadata": {},
   "outputs": [
    {
     "name": "stdin",
     "output_type": "stream",
     "text": [
      "enter bill amount  1000\n",
      "enter tip  200\n"
     ]
    },
    {
     "data": {
      "text/plain": [
       "1200"
      ]
     },
     "execution_count": 33,
     "metadata": {},
     "output_type": "execute_result"
    }
   ],
   "source": [
    "bill=eval(input(\"enter bill amount \"))\n",
    "tip=eval(input(\"enter tip \"))\n",
    "total_bill_amount=bill+tip\n",
    "total_bill_amount"
   ]
  },
  {
   "cell_type": "code",
   "execution_count": 39,
   "id": "092fc84a-adf5-4c8e-b6c7-7ea1f6758be4",
   "metadata": {},
   "outputs": [
    {
     "name": "stdin",
     "output_type": "stream",
     "text": [
      "enter bill amount  1000\n",
      "enter how much tip percent of  2\n"
     ]
    },
    {
     "name": "stdout",
     "output_type": "stream",
     "text": [
      "yours total bill is:1020.0\n"
     ]
    }
   ],
   "source": [
    "bill=eval(input(\"enter bill amount \"))\n",
    "tip=eval(input(\"enter how much tip percent of \"))\n",
    "total_bill=bill+(bill*tip)/100\n",
    "print(f\"yours total bill is:{total_bill}\")\n",
    "\n"
   ]
  },
  {
   "cell_type": "markdown",
   "id": "cf9a707c-d200-4467-8c18-de8c2c2814e1",
   "metadata": {},
   "source": [
    "**Round**"
   ]
  },
  {
   "cell_type": "code",
   "execution_count": 50,
   "id": "937806ec-8d01-47e2-a7cb-2029f97d9225",
   "metadata": {},
   "outputs": [
    {
     "name": "stdin",
     "output_type": "stream",
     "text": [
      "enter a value1 78\n",
      "enter a value2 45\n",
      "enter a value3 777\n"
     ]
    },
    {
     "name": "stdout",
     "output_type": "stream",
     "text": [
      "382\n"
     ]
    }
   ],
   "source": [
    "n1=eval(input(\"enter a value1\"))\n",
    "n2=eval(input(\"enter a value2\"))\n",
    "n3=eval(input(\"enter a value3\"))\n",
    "avg=round(n1+n2+n3/3)\n",
    "avg1=round(avg,4)\n",
    "print(avg1)"
   ]
  },
  {
   "cell_type": "code",
   "execution_count": 12,
   "id": "4b42e5de-3bd5-4568-9ade-2d44569184f5",
   "metadata": {},
   "outputs": [
    {
     "name": "stdin",
     "output_type": "stream",
     "text": [
      "Father: hii beta\n",
      "Son: 🙏 papa\n",
      "Father: I heard that ur results are out\n",
      "Son: yes papa\n",
      "Father: tell me ur pecentage?\n",
      "Son: i will tell u total marks u tell me percentage?\n",
      "Father: ok beta\n",
      "marks in telugu 81\n",
      "marks in hindi 90\n",
      "marks in eng 91\n",
      "marks in maths 96\n",
      "marks in science 84\n",
      "marks in soc 99\n"
     ]
    },
    {
     "name": "stdout",
     "output_type": "stream",
     "text": [
      "total percentage is: 90.16666666666667\n"
     ]
    },
    {
     "name": "stdin",
     "output_type": "stream",
     "text": [
      "Father: well! done beta\n",
      "Son: thank you papa..😍 \n"
     ]
    },
    {
     "data": {
      "text/plain": [
       "'thank you papa..😍 '"
      ]
     },
     "execution_count": 12,
     "metadata": {},
     "output_type": "execute_result"
    }
   ],
   "source": [
    "input(\"Father:\")\n",
    "input(\"Son:\")\n",
    "input(\"Father:\")\n",
    "input(\"Son:\")\n",
    "input(\"Father:\")\n",
    "input(\"Son:\")\n",
    "input(\"Father:\")\n",
    "telugu=eval(input(\"marks in telugu\"))\n",
    "hindi=eval(input(\"marks in hindi\"))\n",
    "eng=eval(input(\"marks in eng\"))\n",
    "maths=eval(input(\"marks in maths\"))\n",
    "science =eval(input(\"marks in science\"))\n",
    "soc=eval(input(\"marks in soc\"))\n",
    "total_percentage=(telugu+hindi+eng+maths+science+soc)/6\n",
    "print(\"total percentage is:\",total_percentage)\n",
    "input(\"Father:\")\n",
    "input(\"Son:\")"
   ]
  },
  {
   "cell_type": "code",
   "execution_count": 20,
   "id": "674507b5-2ec6-4233-8656-26ee26d49a74",
   "metadata": {},
   "outputs": [
    {
     "name": "stdin",
     "output_type": "stream",
     "text": [
      "marks in telugu 91\n",
      "marks in hindi 90\n",
      "marks in eng 90\n",
      "marks in maths 90\n",
      "marks in science 90\n",
      "marks in soc 90\n"
     ]
    },
    {
     "name": "stdout",
     "output_type": "stream",
     "text": [
      "total percentage is: 90\n"
     ]
    }
   ],
   "source": [
    "telugu=eval(input(\"marks in telugu\"))\n",
    "hindi=eval(input(\"marks in hindi\"))\n",
    "eng=eval(input(\"marks in eng\"))\n",
    "maths=eval(input(\"marks in maths\"))\n",
    "science =eval(input(\"marks in science\"))\n",
    "soc=eval(input(\"marks in soc\"))\n",
    "total_percentage=round((telugu+hindi+eng+maths+science+soc)/6)\n",
    "print(\"total percentage is:\",total_percentage)"
   ]
  },
  {
   "cell_type": "code",
   "execution_count": null,
   "id": "2c24f5bc-5702-4658-bf24-db5d15031c05",
   "metadata": {},
   "outputs": [],
   "source": []
  }
 ],
 "metadata": {
  "kernelspec": {
   "display_name": "Python 3 (ipykernel)",
   "language": "python",
   "name": "python3"
  },
  "language_info": {
   "codemirror_mode": {
    "name": "ipython",
    "version": 3
   },
   "file_extension": ".py",
   "mimetype": "text/x-python",
   "name": "python",
   "nbconvert_exporter": "python",
   "pygments_lexer": "ipython3",
   "version": "3.11.7"
  }
 },
 "nbformat": 4,
 "nbformat_minor": 5
}
