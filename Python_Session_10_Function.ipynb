{
 "cells": [
  {
   "cell_type": "markdown",
   "id": "d0b9c2bb-6711-4993-946a-6def6952bc36",
   "metadata": {},
   "source": [
    "# Functions or methods"
   ]
  },
  {
   "cell_type": "markdown",
   "id": "a42aacc9-d859-4129-9b6e-4ea0d0a342d7",
   "metadata": {},
   "source": [
    "- reuse of code\n",
    "- Function without arguments\n",
    "- Functions with arguments\n",
    "- Global variable vs local variable\n",
    "- Function with return statementm\n",
    "- Function with keywordargument\n",
    "- Function in Function"
   ]
  },
  {
   "cell_type": "code",
   "execution_count": null,
   "id": "ae5f1270-5f78-4aa1-8d28-ec46d4fa9c8c",
   "metadata": {},
   "outputs": [],
   "source": [
    "#syntax\n",
    "def<function name>():\n",
    "    <write your code here>"
   ]
  },
  {
   "cell_type": "code",
   "execution_count": null,
   "id": "f4e2eec5-3f28-48a0-8027-d59b32ee75ee",
   "metadata": {},
   "outputs": [],
   "source": [
    "n1=eval(input(\"enter the n1:\"))\n",
    "n2=eval(input(\"enter the n2:\"))\n",
    "add=n1+n2\n",
    "print(f\"the addition of{n1},{n2} is:{add}\")"
   ]
  },
  {
   "cell_type": "code",
   "execution_count": null,
   "id": "976db5f1-453f-40d3-adb7-e1eec7bf0982",
   "metadata": {},
   "outputs": [],
   "source": [
    "def addition():\n",
    "    n1=eval(input(\"enter the n1:\"))\n",
    "    n2=eval(input(\"enter the n2:\"))\n",
    "    add=n1+n2\n",
    "    print(add)"
   ]
  },
  {
   "cell_type": "code",
   "execution_count": null,
   "id": "760ba654-ddda-4400-ba9a-b8421d9b0bd7",
   "metadata": {},
   "outputs": [],
   "source": [
    "addition() #always use the () while calling the function, in python brackets indicates it is a function or method"
   ]
  },
  {
   "cell_type": "code",
   "execution_count": null,
   "id": "3ccfd712-1a8e-47b3-8328-31290f6b313b",
   "metadata": {},
   "outputs": [],
   "source": [
    "#always use the () while calling the function, in python brackets indicates it is a function or method\n",
    "# if we miss the brackets,it display as\n",
    "#function and bound method\n",
    "#first define the function"
   ]
  },
  {
   "cell_type": "code",
   "execution_count": null,
   "id": "b41fdf3a-8122-435c-a003-cb7ef5b21d02",
   "metadata": {},
   "outputs": [],
   "source": [
    "addition() # we can call the function any where in the notebook."
   ]
  },
  {
   "cell_type": "code",
   "execution_count": 5,
   "id": "a50e9e3e-6597-49be-b75b-35a601c9077d",
   "metadata": {},
   "outputs": [
    {
     "name": "stdin",
     "output_type": "stream",
     "text": [
      "enter the n1: 1\n",
      "enter the n2: 2\n"
     ]
    },
    {
     "name": "stdout",
     "output_type": "stream",
     "text": [
      "3\n"
     ]
    }
   ],
   "source": [
    "def addition1():\n",
    "    n1=eval(input(\"enter the n1:\"))\n",
    "    n2=eval(input(\"enter the n2:\"))\n",
    "    add=n1+n2 #the code shows error due to first define the function\n",
    "    print(add)\n",
    "\n",
    "addition1()\n"
   ]
  },
  {
   "cell_type": "markdown",
   "id": "fe2288e9-d5e6-4479-b4a4-f8573415ece6",
   "metadata": {},
   "source": [
    "# Functions without arguments\n",
    "- the function we defined does not have any values or variables\n",
    "- These also called as arguments or parameters\n",
    "- simply it is a empty bracket"
   ]
  },
  {
   "cell_type": "code",
   "execution_count": 8,
   "id": "db01d8cf-a20b-4ec6-a78d-c59a1590f414",
   "metadata": {},
   "outputs": [],
   "source": [
    "def average():\n",
    "    n1=eval(input(\"enter the n1 value:\"))\n",
    "    n2=eval(input(\"enter the n2 value:\"))\n",
    "    n3=eval(input(\"enter the n3 value:\"))\n",
    "    avg=(n1+n2+n3)/3\n",
    "    print(f\"the average of the{n1},{n2},{n3} is: {avg}\")\n",
    "\n",
    "    "
   ]
  },
  {
   "cell_type": "code",
   "execution_count": null,
   "id": "3f6dc803-e006-4977-8cb4-28facb93762c",
   "metadata": {},
   "outputs": [],
   "source": [
    "average()"
   ]
  },
  {
   "cell_type": "code",
   "execution_count": null,
   "id": "ccf34d89-a3ee-4d91-b300-6f0de4680530",
   "metadata": {},
   "outputs": [],
   "source": [
    "def areaoftraingle():\n",
    "    l=eval(input(\"enter the length value:\"))\n",
    "    b=eval(input(\"enter the breadth value:\"))\n",
    "    area=0.5*l*b\n",
    "    print(f\"the area of triangle is:{area}\")\n",
    "    "
   ]
  },
  {
   "cell_type": "code",
   "execution_count": 10,
   "id": "fa499246-8e72-4e03-8d39-8a16ca9625ec",
   "metadata": {},
   "outputs": [
    {
     "name": "stdin",
     "output_type": "stream",
     "text": [
      "enter the n1 value: 23\n",
      "enter the n2 value: 77\n",
      "enter the n3 value: 79\n"
     ]
    },
    {
     "name": "stdout",
     "output_type": "stream",
     "text": [
      "the average of the23,77,79 is: 59.666666666666664\n"
     ]
    }
   ],
   "source": [
    "average()"
   ]
  },
  {
   "cell_type": "code",
   "execution_count": null,
   "id": "235e214f-701d-42a0-8609-78116b44767e",
   "metadata": {},
   "outputs": [],
   "source": [
    "areaoftraingle()"
   ]
  },
  {
   "cell_type": "code",
   "execution_count": null,
   "id": "c1cd936d-4abe-446b-869b-13fc6278fdbd",
   "metadata": {},
   "outputs": [],
   "source": [
    "def areaofcircle():\n",
    "    r=eval(input(\"enter the radius value:\"))\n",
    "    pi=3.14\n",
    "    area=pi*r*r\n",
    "    print(f\"the area of circle is:{area}\")"
   ]
  },
  {
   "cell_type": "code",
   "execution_count": null,
   "id": "3834b554-f590-466b-8639-4f8de2ef93cd",
   "metadata": {},
   "outputs": [],
   "source": [
    "areaofcircle()"
   ]
  },
  {
   "cell_type": "code",
   "execution_count": null,
   "id": "cc412303-63b5-4937-b270-9514339f3c7c",
   "metadata": {},
   "outputs": [],
   "source": [
    "def billamount():\n",
    "    bill=eval(input(\"enter bill amount \"))\n",
    "    tip=eval(input(\"enter tip \"))\n",
    "    total_bill_amount=bill+tip\n",
    "    print(total_bill_amount)"
   ]
  },
  {
   "cell_type": "code",
   "execution_count": null,
   "id": "8800ba9d-f6f4-4f71-87c3-b1739543a825",
   "metadata": {},
   "outputs": [],
   "source": [
    "billamount()"
   ]
  },
  {
   "cell_type": "code",
   "execution_count": null,
   "id": "4c1bb95c-2331-4ff0-8b30-a753eba81ec5",
   "metadata": {},
   "outputs": [],
   "source": [
    "def billamountinpercentage():\n",
    "    bill=eval(input(\"enter bill amount \"))\n",
    "    tip=eval(input(\"enter how much tip percent of \"))\n",
    "    total_bill=(bill*tip)/100\n",
    "    print(f\"yours total bill is:{total_bill}\")"
   ]
  },
  {
   "cell_type": "code",
   "execution_count": null,
   "id": "41073a2e-2289-4487-a1e2-dbedd1cb200d",
   "metadata": {},
   "outputs": [],
   "source": [
    "billamountinpercentage()"
   ]
  },
  {
   "cell_type": "code",
   "execution_count": 10,
   "id": "f1f4cc47-6cd1-49ec-a324-a8ac66ac718f",
   "metadata": {},
   "outputs": [
    {
     "name": "stdin",
     "output_type": "stream",
     "text": [
      "enter bill amount  100\n",
      "enter how much tip percent of  10\n"
     ]
    },
    {
     "name": "stdout",
     "output_type": "stream",
     "text": [
      "yours total bill is:10.0\n"
     ]
    }
   ],
   "source": [
    "try:\n",
    "    bill=eval(input(\"enter bill amount \"))\n",
    "    tip=eval(input(\"enter how much tip percent of \"))\n",
    "    totalbill=(bill*tip)/100\n",
    "    print(f\"yours total bill is:{totalbill}\")\n",
    "\n",
    "except Expection as e:\n",
    "    print(e)\n",
    "    \n",
    "def bill_amount_in_percentage():\n",
    "    try:\n",
    "        bill=eval(input(\"enter bill amount \"))\n",
    "        tip=eval(input(\"enter how much tip percent of \"))\n",
    "        total_bill=(bill*tip)/100\n",
    "        print(f\"yours total bill is:{total_bill}\")\n",
    "\n",
    "    except Exception as e:\n",
    "        print(e)\n",
    "    "
   ]
  },
  {
   "cell_type": "code",
   "execution_count": 28,
   "id": "c573fbb6-11db-45dd-9937-1b0ef0e2f6f7",
   "metadata": {},
   "outputs": [],
   "source": [
    "try:\n",
    "    def Bill_Amount_in_percentage1():\n",
    "        bill=eval(input(\"enter bill amount \"))\n",
    "        tip=eval(input(\"enter how much tip percent of \"))\n",
    "        total_bill=(bill*tip)/100\n",
    "        print(f\"yours total bill is:{total_bill}\")\n",
    "\n",
    "except Exception as e:\n",
    "    print(e)\n"
   ]
  },
  {
   "cell_type": "code",
   "execution_count": 32,
   "id": "4898d969-3067-4830-a2f7-abd995c3d87b",
   "metadata": {},
   "outputs": [
    {
     "name": "stdin",
     "output_type": "stream",
     "text": [
      "enter bill amount  10000\n",
      "enter how much tip percent of  5\n"
     ]
    },
    {
     "name": "stdout",
     "output_type": "stream",
     "text": [
      "yours total bill is:500.0\n"
     ]
    }
   ],
   "source": [
    "Bill_Amount_in_percentage1()"
   ]
  },
  {
   "cell_type": "markdown",
   "id": "bac3ccec-6f3d-43ae-82ed-0b7d27546346",
   "metadata": {},
   "source": [
    "**Note**\n",
    "- always try and except apply for only on code\n",
    "- not on function\n",
    "- inside the function write try-except."
   ]
  },
  {
   "cell_type": "code",
   "execution_count": 22,
   "id": "ca8c17b4-e173-4931-a94c-9582e7e4fb65",
   "metadata": {},
   "outputs": [
    {
     "name": "stdin",
     "output_type": "stream",
     "text": [
      "enter the radius value: 5\n"
     ]
    },
    {
     "name": "stdout",
     "output_type": "stream",
     "text": [
      "the area of circle is:78.53981633974483\n"
     ]
    }
   ],
   "source": [
    "from math import pi\n",
    "def areaofcircle():\n",
    "    r=eval(input(\"enter the radius value:\"))\n",
    "    area=pi*r*r\n",
    "    print(f\"the area of circle is:{area}\")\n",
    "areaofcircle()"
   ]
  },
  {
   "cell_type": "code",
   "execution_count": null,
   "id": "6bb34274-9780-4fbb-a0a9-69c15cd9d33d",
   "metadata": {},
   "outputs": [],
   "source": [
    "**note**\n",
    "- when we define the function it will not give any error or answer\n",
    "- if we want to see any errors"
   ]
  },
  {
   "cell_type": "markdown",
   "id": "e895561e-2b8c-4b0c-8307-ae2a1e6dde6d",
   "metadata": {},
   "source": [
    "**Function with arguments**`"
   ]
  },
  {
   "cell_type": "code",
   "execution_count": null,
   "id": "b6173269-516b-44ab-915e-6ea3f0cb826d",
   "metadata": {},
   "outputs": [],
   "source": [
    "def addtion():\n",
    "    n1=eval(input(\"enter the n1:\"))\n",
    "    n2=eval(input(\"enter the n2:\"))\n",
    "    add=n1+n2\n",
    "    print(add)"
   ]
  },
  {
   "cell_type": "code",
   "execution_count": null,
   "id": "a49fd21a-8fee-4fa8-aea8-ace1205fabc7",
   "metadata": {},
   "outputs": [],
   "source": [
    "addtion()"
   ]
  },
  {
   "cell_type": "markdown",
   "id": "f4b196d3-baa8-4edc-954a-06f776ced676",
   "metadata": {},
   "source": [
    "- we have 3 variables:n1,n2,add\n",
    "- input vaiables:n1,n2\n",
    "- output:add\n",
    "- pass the input variables inside the function brackets\n",
    "- pass n1,n2 inside the brackets ,these n1,n2 behave a funtion arg"
   ]
  },
  {
   "cell_type": "code",
   "execution_count": 34,
   "id": "b2805b06-a19d-436e-991d-4e19a0ce44ea",
   "metadata": {},
   "outputs": [],
   "source": [
    "def addtion1(n1,n2):\n",
    "    add=n1+n2\n",
    "    print(add)"
   ]
  },
  {
   "cell_type": "code",
   "execution_count": 36,
   "id": "b7934175-75a0-48c2-8748-2b66d2c24f40",
   "metadata": {},
   "outputs": [
    {
     "name": "stdout",
     "output_type": "stream",
     "text": [
      "90\n"
     ]
    }
   ],
   "source": [
    "addtion1(89,1)"
   ]
  },
  {
   "cell_type": "code",
   "execution_count": null,
   "id": "a5916a73-2f4e-41d2-81a3-81847f956ca7",
   "metadata": {},
   "outputs": [],
   "source": [
    "def Average(n1,n2,n3):\n",
    "    avg=(n1+n2+n3)/3\n",
    "    print(f\"the average of{n1},{n2},{n3} is:{avg}\")"
   ]
  },
  {
   "cell_type": "code",
   "execution_count": null,
   "id": "fc8b064f-9eda-4da3-9243-9bddc46f9002",
   "metadata": {},
   "outputs": [],
   "source": [
    "Average(10,30,50)"
   ]
  },
  {
   "cell_type": "code",
   "execution_count": null,
   "id": "a61dfc8e-f0bb-43aa-8e01-aab752ef3b0e",
   "metadata": {},
   "outputs": [],
   "source": [
    "def area_of_triangle(b,h):\n",
    "    area=0.5*b*h\n",
    "    print(f\"the area of triangle is:{area}\")"
   ]
  },
  {
   "cell_type": "code",
   "execution_count": null,
   "id": "1097633b-d614-4f03-b5a6-6857b17f4034",
   "metadata": {},
   "outputs": [],
   "source": [
    "area_of_triangle(70,43)"
   ]
  },
  {
   "cell_type": "code",
   "execution_count": null,
   "id": "bd1f152a-c17e-4cdb-8138-0c652bb98a30",
   "metadata": {},
   "outputs": [],
   "source": [
    "def area_of_circle(r,pi):\n",
    "    area=pi*r*r\n",
    "    print(f\"the area of circle is:{area}\")"
   ]
  },
  {
   "cell_type": "code",
   "execution_count": null,
   "id": "a384da05-ec32-4c80-8832-64c55cd8ab0c",
   "metadata": {},
   "outputs": [],
   "source": [
    "area_of_circle(5,3.14)"
   ]
  },
  {
   "cell_type": "code",
   "execution_count": null,
   "id": "0e6cd831-6388-48a7-b8b7-3f28fecc397d",
   "metadata": {},
   "outputs": [],
   "source": [
    "def bill_amount(bill,tip):\n",
    "    total_bill_amount=bill+tip\n",
    "    print(f\"the total bill is with tip:{total_bill_amount}\")\n",
    "\n",
    "bill_amount(100,2)"
   ]
  },
  {
   "cell_type": "code",
   "execution_count": null,
   "id": "4d1b78d1-fd2a-442c-9ba5-01d5960ffef2",
   "metadata": {},
   "outputs": [],
   "source": [
    "def bill_amount_percentage(bill,tip):\n",
    "    total_bill=(bill*tip)/100\n",
    "    print(f\"yours total bill is:{total_bill}\")\n",
    "\n",
    "bill_amount_percentage(1000,20)"
   ]
  },
  {
   "cell_type": "code",
   "execution_count": 14,
   "id": "5f3fb2b2-6645-48ea-8f6a-acbfe8ada48a",
   "metadata": {},
   "outputs": [
    {
     "name": "stdout",
     "output_type": "stream",
     "text": [
      "the average of12,33,14 is:19.666666666666668\n"
     ]
    }
   ],
   "source": [
    "def Average(n1,n2):\n",
    "    n3=eval(\"10+4\")\n",
    "    avg=(n1+n2+n3)/3\n",
    "    print(f\"the average of{n1},{n2},{n3} is:{avg}\")\n",
    "\n",
    "Average(12,33)\n",
    "\n",
    "\n",
    "# while calling the function we want to provide n1,n2\n",
    "# while running the function we want to provide n3"
   ]
  },
  {
   "cell_type": "code",
   "execution_count": 40,
   "id": "c2d53f90-0673-4e8e-845d-b5ec3f0a89d7",
   "metadata": {},
   "outputs": [
    {
     "name": "stdout",
     "output_type": "stream",
     "text": [
      "the average of12,51,14 is:25.666666666666668\n"
     ]
    }
   ],
   "source": [
    "def Average(n1):\n",
    "    n2=int(\"51\")\n",
    "    n3=eval(\"10+4\")\n",
    "    avg=(n1+n2+n3)/3\n",
    "    print(f\"the average of{n1},{n2},{n3} is:{avg}\")\n",
    "\n",
    "Average(12)"
   ]
  },
  {
   "cell_type": "code",
   "execution_count": 42,
   "id": "0457cc9b-e6d2-4704-9ad6-877ad95261db",
   "metadata": {},
   "outputs": [
    {
     "name": "stdout",
     "output_type": "stream",
     "text": [
      "hello\n",
      "the average of12,None,14 is:8.666666666666666 None\n"
     ]
    }
   ],
   "source": [
    "def Average(n1,):\n",
    "    n2=eval(\"print('hello')\")\n",
    "    n3=eval(\"10+4\")\n",
    "    avg=(n1+n3)/3\n",
    "    print(f\"the average of{n1},{n2},{n3} is:{avg}\",n2)\n",
    "    \n",
    "\n",
    "Average(12)"
   ]
  },
  {
   "cell_type": "code",
   "execution_count": 44,
   "id": "59aa2173-b403-43d8-84d2-999ee22632fa",
   "metadata": {},
   "outputs": [
    {
     "name": "stdout",
     "output_type": "stream",
     "text": [
      "8\n"
     ]
    }
   ],
   "source": [
    "def Power(number,powers):\n",
    "    power_num=number**powers\n",
    "    print(power_num)\n",
    "\n",
    "Power(2,3)"
   ]
  },
  {
   "cell_type": "markdown",
   "id": "990cd38a-8be1-42ca-afc8-e6d7401e2a56",
   "metadata": {},
   "source": [
    "**Default Argument**"
   ]
  },
  {
   "cell_type": "code",
   "execution_count": 46,
   "id": "c9dfacdc-91c0-467d-8e67-80d387045d14",
   "metadata": {},
   "outputs": [
    {
     "name": "stdout",
     "output_type": "stream",
     "text": [
      "1500\n"
     ]
    }
   ],
   "source": [
    "def bill(bill_amount,tip=500):\n",
    "    print(bill_amount+tip)\n",
    "\n",
    "bill(1000)"
   ]
  },
  {
   "cell_type": "code",
   "execution_count": null,
   "id": "bbb21881-7c30-4c1f-a75d-b11172c99aaa",
   "metadata": {},
   "outputs": [],
   "source": [
    "def Average(n1,n2,n3=40):\n",
    "    print(n1,n2)\n",
    "    avg=(n1+n2+n3)/3\n",
    "    print(f\"the average of{n1},{n2},{n3} is:{avg}\")\n",
    "\n",
    "Average(10,23)"
   ]
  },
  {
   "cell_type": "code",
   "execution_count": 48,
   "id": "4d6dc3e3-c728-43e0-b5ef-06182330c782",
   "metadata": {},
   "outputs": [
    {
     "ename": "SyntaxError",
     "evalue": "non-default argument follows default argument (4084425127.py, line 1)",
     "output_type": "error",
     "traceback": [
      "\u001b[1;36m  Cell \u001b[1;32mIn[48], line 1\u001b[1;36m\u001b[0m\n\u001b[1;33m    def Average(n1,n2=40,n3):\u001b[0m\n\u001b[1;37m                         ^\u001b[0m\n\u001b[1;31mSyntaxError\u001b[0m\u001b[1;31m:\u001b[0m non-default argument follows default argument\n"
     ]
    }
   ],
   "source": [
    "def Average(n1,n2=40,n3):\n",
    "    avg=(n1+n2+n3)/3\n",
    "    print(f\"the average of{n1},{n2},{n3} is:{avg}\")\n",
    "\n",
    "Average(10,33)"
   ]
  },
  {
   "cell_type": "markdown",
   "id": "1b7ad785-c09b-4a7d-bf0b-ceac31192c7e",
   "metadata": {},
   "source": [
    "**always write the default arg at last**"
   ]
  },
  {
   "cell_type": "code",
   "execution_count": null,
   "id": "532588ad-a8a7-411c-84a9-f240c8fca3e5",
   "metadata": {},
   "outputs": [],
   "source": [
    "def Average(n1,n3,n2=40):\n",
    "    avg=(n1+n2+n3)/3\n",
    "    print(f\"the average of{n1},{n2},{n3} is:{avg}\")\n",
    "\n",
    "Average(10,33)"
   ]
  },
  {
   "cell_type": "code",
   "execution_count": null,
   "id": "f7460135-6ea6-44f6-ad50-37db55fc057c",
   "metadata": {},
   "outputs": [],
   "source": [
    "def Average(n3,n2,n1=10):\n",
    "    avg=(n1+n2+n3)/3\n",
    "    print(f\"the average of{n1},{n2},{n3} is:{avg}\")\n",
    "\n",
    "Average(10,33)"
   ]
  },
  {
   "cell_type": "code",
   "execution_count": null,
   "id": "250063cc-08ba-4b00-9d4d-8e56d8c5003a",
   "metadata": {},
   "outputs": [],
   "source": [
    "from random import randint\n",
    "def number():\n",
    "    n1=eval(input(\"enter the num:\"))\n",
    "    n2=randint(1,50)\n",
    "    print(n2)\n",
    "    if n1==n2:\n",
    "        print(\"they are won\")\n",
    "    else:\n",
    "        print(\"Lost\")\n",
    "\n",
    "number()\n",
    "    "
   ]
  },
  {
   "cell_type": "code",
   "execution_count": 50,
   "id": "daa820cc-855f-4e36-a3a1-3bf18cd13a32",
   "metadata": {},
   "outputs": [
    {
     "name": "stdin",
     "output_type": "stream",
     "text": [
      "enter the num: 55\n"
     ]
    },
    {
     "name": "stdout",
     "output_type": "stream",
     "text": [
      "Lost\n"
     ]
    }
   ],
   "source": [
    "def number(n2=10):\n",
    "    n1=eval(input(\"enter the num:\"))\n",
    "    if n1==n2:\n",
    "        print(\"they are won\")\n",
    "    else:\n",
    "        print(\"Lost\")\n",
    "\n",
    "number()\n",
    "    "
   ]
  },
  {
   "cell_type": "code",
   "execution_count": null,
   "id": "b5d3e288-8674-4815-9791-13b154421ed2",
   "metadata": {},
   "outputs": [],
   "source": [
    "def number(n2):\n",
    "    n1=eval(input(\"enter the num:\"))\n",
    "    if n1==n2:\n",
    "        print(\"they are won\")\n",
    "    else:\n",
    "        print(\"Lost\")\n",
    "\n",
    "number(10)\n",
    "    "
   ]
  },
  {
   "cell_type": "markdown",
   "id": "d0b72146-b2af-4b89-b7b1-439973c92139",
   "metadata": {},
   "source": [
    "**case-1**"
   ]
  },
  {
   "cell_type": "markdown",
   "id": "509544b1-9a3b-46f4-8284-44bbfbb18ee2",
   "metadata": {},
   "source": [
    "- step1: Define the function\n",
    "- step2: call the function\n",
    "- step3: run the function"
   ]
  },
  {
   "cell_type": "code",
   "execution_count": 52,
   "id": "c56c207f-e9f5-409d-a924-1ff16e985e8d",
   "metadata": {},
   "outputs": [
    {
     "name": "stdout",
     "output_type": "stream",
     "text": [
      "10 23\n",
      "the average of10,23,100 is:44.333333333333336\n"
     ]
    }
   ],
   "source": [
    "def Average(n1,n2,n3=40):\n",
    "    print(n1,n2)\n",
    "    avg=(n1+n2+n3)/3\n",
    "    print(f\"the average of{n1},{n2},{n3} is:{avg}\")\n",
    "\n",
    "Average(10,23,100)\n",
    "# while defining n3=40\n",
    "# But while runing is n3=100"
   ]
  },
  {
   "cell_type": "code",
   "execution_count": 4,
   "id": "c076921e-a8d9-4096-9038-1167e822d441",
   "metadata": {},
   "outputs": [
    {
     "name": "stdout",
     "output_type": "stream",
     "text": [
      "a: 10\n",
      "b: 20\n",
      "c: 40\n",
      "70\n"
     ]
    }
   ],
   "source": [
    "def add(a,b,c=40):\n",
    "    print('a:',a)\n",
    "    print('b:',b)\n",
    "    print('c:',c)\n",
    "    d=a+b+c\n",
    "    print(d)\n",
    "\n",
    "add(10,20)"
   ]
  },
  {
   "cell_type": "markdown",
   "id": "95cef9ed-4ead-4e85-ad59-05819db56c90",
   "metadata": {},
   "source": [
    "**Local variable VS Global variable**"
   ]
  },
  {
   "cell_type": "markdown",
   "id": "cdc68652-9481-402e-a6af-994034a39c1c",
   "metadata": {},
   "source": [
    "- local variables used inside the function\n",
    "- Global variables are used outside the function.\n",
    "- Global variables are used anywhere(inside the function and outside functions)"
   ]
  },
  {
   "cell_type": "code",
   "execution_count": 60,
   "id": "f51f32b0-0244-4ba8-b21d-503518abeb60",
   "metadata": {},
   "outputs": [
    {
     "name": "stdin",
     "output_type": "stream",
     "text": [
      "enter the n1: 1\n",
      "enter the n2: 2\n",
      "enter the n3: 3\n"
     ]
    },
    {
     "name": "stdout",
     "output_type": "stream",
     "text": [
      "2.0\n"
     ]
    }
   ],
   "source": [
    "n1=eval(input(\"enter the n1:\"))\n",
    "n2=eval(input(\"enter the n2:\"))\n",
    "n3=eval(input(\"enter the n3:\"))\n",
    "def Avg():\n",
    "    avg=(n1+n2+n3)/3\n",
    "    print(avg)\n",
    "\n",
    "Avg()"
   ]
  },
  {
   "cell_type": "code",
   "execution_count": null,
   "id": "14071ead-fca1-4823-8a57-83ce1fb83a82",
   "metadata": {},
   "outputs": [],
   "source": [
    "print(n1,n2,n3)"
   ]
  },
  {
   "cell_type": "code",
   "execution_count": 54,
   "id": "3c6c684a-7f47-43ef-8ad9-245f3405328d",
   "metadata": {},
   "outputs": [
    {
     "name": "stdin",
     "output_type": "stream",
     "text": [
      "enter the n1: 5953\n",
      "enter the n2: 341\n",
      "enter the n3: 5344\n"
     ]
    },
    {
     "name": "stdout",
     "output_type": "stream",
     "text": [
      "8075.333333333333\n"
     ]
    }
   ],
   "source": [
    "def Avg():\n",
    "    N1=eval(input(\"enter the n1:\"))\n",
    "    N2=eval(input(\"enter the n2:\"))\n",
    "    N3=eval(input(\"enter the n3:\"))\n",
    "    avg=N1+N2+N3/3\n",
    "    print(avg)\n",
    "\n",
    "Avg()"
   ]
  },
  {
   "cell_type": "code",
   "execution_count": 56,
   "id": "3ebaee18-b51e-486b-afab-7b53dd7bf0fc",
   "metadata": {},
   "outputs": [
    {
     "ename": "NameError",
     "evalue": "name 'N1' is not defined",
     "output_type": "error",
     "traceback": [
      "\u001b[1;31m---------------------------------------------------------------------------\u001b[0m",
      "\u001b[1;31mNameError\u001b[0m                                 Traceback (most recent call last)",
      "Cell \u001b[1;32mIn[56], line 1\u001b[0m\n\u001b[1;32m----> 1\u001b[0m \u001b[38;5;28mprint\u001b[39m(N1,N2,N3)\n",
      "\u001b[1;31mNameError\u001b[0m: name 'N1' is not defined"
     ]
    }
   ],
   "source": [
    "print(N1,N2,N3)"
   ]
  },
  {
   "cell_type": "markdown",
   "id": "a979b80f-9c98-4f75-9077-139d25a22baf",
   "metadata": {},
   "source": [
    "**note**\n",
    "- Local variable can not use outside the function\n",
    "- in above code N1 is local variable\n",
    "- we are trying to use it throws the error."
   ]
  },
  {
   "cell_type": "code",
   "execution_count": null,
   "id": "7e72ed88-36db-4dd7-86b7-4f57de3f8c56",
   "metadata": {},
   "outputs": [],
   "source": [
    "A=eval(input(\"enter the n1:\"))\n",
    "B=eval(input(\"enter the n2:\"))\n",
    "C=eval(input(\"enter the n3:\"))\n",
    "def Avg():\n",
    "    avg=(A+B+C)/3\n",
    "    print(avg)\n",
    "\n",
    "Avg()"
   ]
  },
  {
   "cell_type": "markdown",
   "id": "67dbdc76-95c6-4c70-8e7c-3c8e0ffb3857",
   "metadata": {},
   "source": [
    "- golbal varibles are used outside the func.\n",
    "\n",
    "- global variable can be use anywhere\n",
    "\n",
    "- Local varibles are used inside the func.\n",
    "\n",
    "- Local variable can't be use anywhere\n",
    "\n"
   ]
  },
  {
   "cell_type": "code",
   "execution_count": 62,
   "id": "ccfc99da-31fd-4b70-9b74-cb543a2e2f5e",
   "metadata": {},
   "outputs": [
    {
     "name": "stdout",
     "output_type": "stream",
     "text": [
      "400\n"
     ]
    }
   ],
   "source": [
    "A=100\n",
    "B=299\n",
    "C=1\n",
    "def Summ():\n",
    "    global ADD\n",
    "    ADD=A+B+C\n",
    "    print(ADD)\n",
    "\n",
    "Summ()"
   ]
  },
  {
   "cell_type": "code",
   "execution_count": 64,
   "id": "f19b4998-dbd0-43ec-a0a5-95b6120c3cec",
   "metadata": {},
   "outputs": [
    {
     "data": {
      "text/plain": [
       "400"
      ]
     },
     "execution_count": 64,
     "metadata": {},
     "output_type": "execute_result"
    }
   ],
   "source": [
    "ADD"
   ]
  },
  {
   "cell_type": "markdown",
   "id": "aa95b628-7eb2-4bc1-9894-8f51889f3deb",
   "metadata": {},
   "source": [
    "- Local variables can use outside the function in two ways\n",
    "- **By making local variable as global by using global**\n",
    "- by also by using return statement"
   ]
  },
  {
   "cell_type": "code",
   "execution_count": null,
   "id": "2b61087f-0a11-4dd7-ad98-ddc908f018e6",
   "metadata": {},
   "outputs": [],
   "source": [
    "A=100\n",
    "B=299\n",
    "C=1\n",
    "def Summ():\n",
    "    ADD=A+B+C\n",
    "    print(ADD)\n",
    "    return(ADD)\n",
    "\n",
    "Summ()"
   ]
  },
  {
   "cell_type": "code",
   "execution_count": 66,
   "id": "5f850c8d-2312-4f4e-8b67-d79ddef95681",
   "metadata": {},
   "outputs": [
    {
     "name": "stdout",
     "output_type": "stream",
     "text": [
      "50 -10\n"
     ]
    }
   ],
   "source": [
    "def Summ(a,b):\n",
    "    global add,sub\n",
    "    add=a+b\n",
    "    sub=a-b\n",
    "    print(add,sub)\n",
    "\n",
    "Summ(20,30)"
   ]
  },
  {
   "cell_type": "code",
   "execution_count": 68,
   "id": "be1b34b6-85f1-436d-8c17-70ad67f3ffc7",
   "metadata": {},
   "outputs": [
    {
     "data": {
      "text/plain": [
       "(50, -10)"
      ]
     },
     "execution_count": 68,
     "metadata": {},
     "output_type": "execute_result"
    }
   ],
   "source": [
    "add,sub"
   ]
  },
  {
   "cell_type": "markdown",
   "id": "166992e8-8c57-46f9-9f69-93d6bffceb8f",
   "metadata": {},
   "source": [
    "**UnboundLocalError**\n",
    "- unboundlocal error means the variable is not defined\n",
    "- that variable is used as **input** and **output** inside the function."
   ]
  },
  {
   "cell_type": "code",
   "execution_count": 70,
   "id": "e2e5cab0-45ea-45fb-aae3-611f1f0241b0",
   "metadata": {},
   "outputs": [
    {
     "ename": "UnboundLocalError",
     "evalue": "cannot access local variable 'b' where it is not associated with a value",
     "output_type": "error",
     "traceback": [
      "\u001b[1;31m---------------------------------------------------------------------------\u001b[0m",
      "\u001b[1;31mUnboundLocalError\u001b[0m                         Traceback (most recent call last)",
      "Cell \u001b[1;32mIn[70], line 6\u001b[0m\n\u001b[0;32m      3\u001b[0m     b\u001b[38;5;241m=\u001b[39mb\u001b[38;5;241m+\u001b[39ma\n\u001b[0;32m      4\u001b[0m     \u001b[38;5;28mprint\u001b[39m(b)\n\u001b[1;32m----> 6\u001b[0m fun1()\n",
      "Cell \u001b[1;32mIn[70], line 3\u001b[0m, in \u001b[0;36mfun1\u001b[1;34m()\u001b[0m\n\u001b[0;32m      1\u001b[0m \u001b[38;5;28;01mdef\u001b[39;00m \u001b[38;5;21mfun1\u001b[39m():\n\u001b[0;32m      2\u001b[0m     a\u001b[38;5;241m=\u001b[39m\u001b[38;5;241m10\u001b[39m\n\u001b[1;32m----> 3\u001b[0m     b\u001b[38;5;241m=\u001b[39mb\u001b[38;5;241m+\u001b[39ma\n\u001b[0;32m      4\u001b[0m     \u001b[38;5;28mprint\u001b[39m(b)\n",
      "\u001b[1;31mUnboundLocalError\u001b[0m: cannot access local variable 'b' where it is not associated with a value"
     ]
    }
   ],
   "source": [
    "def fun1():\n",
    "    a=10\n",
    "    b=b+a\n",
    "    print(b)\n",
    "\n",
    "fun1()"
   ]
  },
  {
   "cell_type": "code",
   "execution_count": 72,
   "id": "0ec5fe39-802d-4694-95ef-5bef561408be",
   "metadata": {},
   "outputs": [
    {
     "ename": "NameError",
     "evalue": "name 'b' is not defined",
     "output_type": "error",
     "traceback": [
      "\u001b[1;31m---------------------------------------------------------------------------\u001b[0m",
      "\u001b[1;31mNameError\u001b[0m                                 Traceback (most recent call last)",
      "Cell \u001b[1;32mIn[72], line 6\u001b[0m\n\u001b[0;32m      3\u001b[0m     c\u001b[38;5;241m=\u001b[39mb\u001b[38;5;241m+\u001b[39ma\n\u001b[0;32m      4\u001b[0m     \u001b[38;5;28mprint\u001b[39m(c)\n\u001b[1;32m----> 6\u001b[0m fun2()\n",
      "Cell \u001b[1;32mIn[72], line 3\u001b[0m, in \u001b[0;36mfun2\u001b[1;34m()\u001b[0m\n\u001b[0;32m      1\u001b[0m \u001b[38;5;28;01mdef\u001b[39;00m \u001b[38;5;21mfun2\u001b[39m():\n\u001b[0;32m      2\u001b[0m     a\u001b[38;5;241m=\u001b[39m\u001b[38;5;241m10\u001b[39m\n\u001b[1;32m----> 3\u001b[0m     c\u001b[38;5;241m=\u001b[39mb\u001b[38;5;241m+\u001b[39ma\n\u001b[0;32m      4\u001b[0m     \u001b[38;5;28mprint\u001b[39m(c)\n",
      "\u001b[1;31mNameError\u001b[0m: name 'b' is not defined"
     ]
    }
   ],
   "source": [
    "def fun2():\n",
    "    a=10\n",
    "    c=b+a\n",
    "    print(c)\n",
    "\n",
    "fun2()"
   ]
  },
  {
   "cell_type": "code",
   "execution_count": 74,
   "id": "101aa2a3-56df-424f-8028-5417c0414a5f",
   "metadata": {},
   "outputs": [
    {
     "ename": "NameError",
     "evalue": "name 'b' is not defined",
     "output_type": "error",
     "traceback": [
      "\u001b[1;31m---------------------------------------------------------------------------\u001b[0m",
      "\u001b[1;31mNameError\u001b[0m                                 Traceback (most recent call last)",
      "Cell \u001b[1;32mIn[74], line 2\u001b[0m\n\u001b[0;32m      1\u001b[0m a\u001b[38;5;241m=\u001b[39m\u001b[38;5;241m10\u001b[39m\n\u001b[1;32m----> 2\u001b[0m b\u001b[38;5;241m=\u001b[39mb\u001b[38;5;241m+\u001b[39ma\n",
      "\u001b[1;31mNameError\u001b[0m: name 'b' is not defined"
     ]
    }
   ],
   "source": [
    "a=10\n",
    "b=b+a"
   ]
  },
  {
   "cell_type": "markdown",
   "id": "b24855aa-b9ae-4670-9662-9df7f210d356",
   "metadata": {},
   "source": [
    "**return statements**\n",
    "- till now above we have created a function with print statement in order\n",
    "- the function output we are not able to use outside the function\n",
    "- because it is a local variable\n",
    "- one method used is **global**\n",
    "- other is return statement\n",
    "- return means some thing we are receiving\n",
    "- print means only we can see the answer"
   ]
  },
  {
   "cell_type": "code",
   "execution_count": 76,
   "id": "a5c7e72d-b7a6-4c1b-85b3-3449efc8e0cb",
   "metadata": {},
   "outputs": [],
   "source": [
    "def Addd(a,b):\n",
    "    c=a+b\n",
    "    return(c)\n",
    "\n",
    "c=Addd(20,30) #we can give any variable before calling the func.\n",
    " "
   ]
  },
  {
   "cell_type": "code",
   "execution_count": 78,
   "id": "16847f2d-892b-479d-ad0d-d98b57857cd2",
   "metadata": {},
   "outputs": [
    {
     "data": {
      "text/plain": [
       "50"
      ]
     },
     "execution_count": 78,
     "metadata": {},
     "output_type": "execute_result"
    }
   ],
   "source": [
    "c"
   ]
  },
  {
   "cell_type": "code",
   "execution_count": 80,
   "id": "06af1dd4-e935-4fb0-84b0-7ac02bc2f139",
   "metadata": {},
   "outputs": [],
   "source": [
    "def add_sub(a,b):\n",
    "    summ=a+b\n",
    "    subt=a-b\n",
    "    return(summ,subt)\n",
    "\n",
    "summ,subt=add_sub(20,30) "
   ]
  },
  {
   "cell_type": "code",
   "execution_count": 82,
   "id": "ece537b3-4fd0-4abd-a26d-e6c2dcfe8562",
   "metadata": {},
   "outputs": [],
   "source": [
    "def add_sub(a,b):\n",
    "    summ=a+b\n",
    "    subt=a-b\n",
    "    return(summ,subt)\n",
    "\n",
    "subt=add_sub(20,30)"
   ]
  },
  {
   "cell_type": "code",
   "execution_count": 84,
   "id": "b9a5d2e4-3182-4007-9b91-e88067835798",
   "metadata": {},
   "outputs": [
    {
     "data": {
      "text/plain": [
       "50"
      ]
     },
     "execution_count": 84,
     "metadata": {},
     "output_type": "execute_result"
    }
   ],
   "source": [
    "summ"
   ]
  },
  {
   "cell_type": "code",
   "execution_count": 86,
   "id": "5e0acd3c-4c36-4469-8b9f-c2abec79f8a2",
   "metadata": {},
   "outputs": [
    {
     "data": {
      "text/plain": [
       "(50, -10)"
      ]
     },
     "execution_count": 86,
     "metadata": {},
     "output_type": "execute_result"
    }
   ],
   "source": [
    "subt"
   ]
  },
  {
   "cell_type": "code",
   "execution_count": null,
   "id": "cd8287a5-9e29-4335-9443-027a34fa6b6d",
   "metadata": {},
   "outputs": [],
   "source": [
    "def add_sub(a,b):\n",
    "    summ=a+b\n",
    "    subt=a-b\n",
    "    print(summ,subt)\n",
    "    return(summ)\n",
    "    return(subt)\n",
    "\n",
    "sum_sub=add_sub(20,30)"
   ]
  },
  {
   "cell_type": "code",
   "execution_count": null,
   "id": "9d04cc43-b895-4172-9860-aa03d26aed58",
   "metadata": {},
   "outputs": [],
   "source": [
    "n1,n2=100"
   ]
  },
  {
   "cell_type": "code",
   "execution_count": null,
   "id": "718e200e-565e-4c9a-be21-bcdd6662e24e",
   "metadata": {},
   "outputs": [],
   "source": [
    "n1=100,200"
   ]
  },
  {
   "cell_type": "code",
   "execution_count": null,
   "id": "e6e2a4e9-7e83-4855-be17-2751136f9a06",
   "metadata": {},
   "outputs": [],
   "source": [
    "n1=100,200 #w\n",
    "n1,n2=100,200 #w\n",
    "n1,n2=100 #fails "
   ]
  },
  {
   "cell_type": "code",
   "execution_count": null,
   "id": "3641c071-6e33-4250-a2cd-0ca0b11bc926",
   "metadata": {},
   "outputs": [],
   "source": [
    "def add_sub(a,b):\n",
    "    summ=a+b\n",
    "    subt=a-b\n",
    "    print(summ,subt)\n",
    "    return(summ,sub)\n",
    "\n",
    "op=add_sub(200,300)"
   ]
  },
  {
   "cell_type": "markdown",
   "id": "87832b0f-b20d-42be-88f0-df015c3dc1f2",
   "metadata": {},
   "source": [
    "**Global vs retun**\n",
    "- the value you return can be used another notebook also"
   ]
  },
  {
   "cell_type": "markdown",
   "id": "1aa9a570-621a-4c7e-a6c1-304cebacb9f0",
   "metadata": {},
   "source": [
    "**func in func**\n"
   ]
  },
  {
   "cell_type": "code",
   "execution_count": null,
   "id": "0733386f-707f-41f4-bbef-370f07d39cde",
   "metadata": {},
   "outputs": [],
   "source": [
    "def greet1():\n",
    "    print(\"hello GM\")\n",
    "\n",
    "def greet2():\n",
    "    print(\"bye\")\n",
    "\n",
    "greet1()\n",
    "greet2()"
   ]
  },
  {
   "cell_type": "code",
   "execution_count": null,
   "id": "2ed9ee7e-c0d7-449c-b5be-cd8b21567020",
   "metadata": {},
   "outputs": [],
   "source": [
    "def greet1():\n",
    "    print(\"hello GM\")\n",
    "\n",
    "def greet2():\n",
    "    print(\"bye\")\n",
    "\n",
    "greet2()"
   ]
  },
  {
   "cell_type": "code",
   "execution_count": null,
   "id": "73914e8e-343e-4bb5-8cc0-95ecb699f5e5",
   "metadata": {},
   "outputs": [],
   "source": [
    "def greet1():\n",
    "    print(\"hello GM\")\n",
    "\n",
    "def greet2():\n",
    "    print(\"greet1 function starts\")\n",
    "    greet1()\n",
    "    print(\"hello GN\")\n",
    "\n",
    "greet2()"
   ]
  },
  {
   "cell_type": "code",
   "execution_count": null,
   "id": "41e62d09-57bb-4903-942c-6605de075f44",
   "metadata": {},
   "outputs": [],
   "source": [
    "def greet1():\n",
    "    print(\"hello GM\")\n",
    "    print(\"greet2 function starts\")\n",
    "    greet2()\n",
    "def greet2():\n",
    "    print(\"greet1 function starts\")\n",
    "    greet1()\n",
    "    print(\"hello GN\")\n",
    "\n",
    "greet1()"
   ]
  },
  {
   "cell_type": "code",
   "execution_count": null,
   "id": "9b69ab97-3621-42cd-9acd-2165952c4338",
   "metadata": {},
   "outputs": [],
   "source": [
    "def inside_function():\n",
    "    print(f\"hello {name} good morning\")\n",
    "    # we need to sense here\n",
    "    # name is not defined not even globally\n",
    "    # if i call this func def i will get error\n",
    "\n",
    "def outside_function(name):\n",
    "    inside_function()\n",
    "\n",
    "outside_function(\"python\")"
   ]
  },
  {
   "cell_type": "code",
   "execution_count": null,
   "id": "d90543a2-ef83-4847-b431-da2b3549909b",
   "metadata": {},
   "outputs": [],
   "source": [
    "def inside_function(name):\n",
    "    print(f\"hello {name}! good morning\")\n",
    "   \n",
    "def outside_function(name):\n",
    "    inside_function(name)\n",
    "\n",
    "outside_function(\"python\")"
   ]
  },
  {
   "cell_type": "code",
   "execution_count": null,
   "id": "6aec1d7e-81a6-42ba-bc80-0a960983385f",
   "metadata": {},
   "outputs": [],
   "source": [
    "def add(a,b):\n",
    "    print(a+b)\n",
    "add(10,20)"
   ]
  },
  {
   "cell_type": "code",
   "execution_count": null,
   "id": "ab0732fc-1a85-4319-9c3c-74568daa2d1d",
   "metadata": {},
   "outputs": [],
   "source": [
    "def Math():\n",
    "    def add(a,b):\n",
    "        print(a+b)\n",
    "    add(10,20)\n",
    "\n",
    "Math()"
   ]
  },
  {
   "cell_type": "code",
   "execution_count": null,
   "id": "beb46d6c-84dc-42db-ae30-8d3a773ff3f0",
   "metadata": {},
   "outputs": [],
   "source": [
    "def Math1(n1,n2):\n",
    "    def Math():\n",
    "        def add(a,b):\n",
    "            print(a+b)\n",
    "        print(n1-n2)\n",
    "        add(10,20)\n",
    "    \n",
    "    Math()\n",
    "\n",
    "Math1(20,30)"
   ]
  },
  {
   "cell_type": "code",
   "execution_count": 2,
   "id": "ffa03914-ee76-41a2-9226-56941f34ebfe",
   "metadata": {},
   "outputs": [
    {
     "name": "stdout",
     "output_type": "stream",
     "text": [
      "15\n"
     ]
    }
   ],
   "source": [
    "def outer_fun(a, b):\n",
    "    def inner_fun(c, d):\n",
    "        return c + d\n",
    "\n",
    "    return inner_fun(a, b)\n",
    "    return a\n",
    "\n",
    "result = outer_fun(5, 10)\n",
    "print(result)"
   ]
  },
  {
   "cell_type": "code",
   "execution_count": 4,
   "id": "863e9874-c0c9-4e54-ad91-caa7df881351",
   "metadata": {},
   "outputs": [
    {
     "name": "stdout",
     "output_type": "stream",
     "text": [
      "(8, 7)\n"
     ]
    }
   ],
   "source": [
    "def add(a, b):\n",
    "    return a+5, b+5\n",
    "\n",
    "result = add(3, 2)\n",
    "print(result)"
   ]
  },
  {
   "cell_type": "code",
   "execution_count": null,
   "id": "ded5279e-48ab-4e3e-93dc-7fcc48afac5a",
   "metadata": {},
   "outputs": [],
   "source": []
  }
 ],
 "metadata": {
  "kernelspec": {
   "display_name": "Python 3 (ipykernel)",
   "language": "python",
   "name": "python3"
  },
  "language_info": {
   "codemirror_mode": {
    "name": "ipython",
    "version": 3
   },
   "file_extension": ".py",
   "mimetype": "text/x-python",
   "name": "python",
   "nbconvert_exporter": "python",
   "pygments_lexer": "ipython3",
   "version": "3.11.7"
  }
 },
 "nbformat": 4,
 "nbformat_minor": 5
}
