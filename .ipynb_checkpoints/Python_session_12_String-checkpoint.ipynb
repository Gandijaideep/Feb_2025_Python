{
 "cells": [
  {
   "cell_type": "markdown",
   "id": "30da2d63-49df-4320-84c4-54a9e29b4a0f",
   "metadata": {},
   "source": [
    "**String**\n",
    "- how to intialize the string\n",
    "- in bulit func\n",
    "    - print\n",
    "    - len\n",
    "    - type\n",
    "    - max\n",
    "    - min\n",
    "    - reversed\n",
    "    - sorted\n",
    "    - index\n",
    "- index operation\n",
    "- concatentaion\n",
    "- mutable vs immutable\n",
    "- slicing\n",
    "  ################\n",
    "  **part-2**\n",
    "---string methods---\n",
    "- "
   ]
  },
  {
   "cell_type": "markdown",
   "id": "7f6a0ec1-2063-4f91-aa13-3645074e16e7",
   "metadata": {},
   "source": [
    "**Intiaization**\n",
    "- String represent with single quotes\n",
    "-  String represent with double quotes\n",
    "- String represent with triple quotes\n",
    "- when you print a string , the output shows as with out quotes\n",
    "- A string represent with triple qutoes : **Doc string**\n",
    "- If you want highlite any word in entire string\n",
    "  - provide the entire string in double quotes and highlight the word with single quotes vice versa"
   ]
  },
  {
   "cell_type": "code",
   "execution_count": 4,
   "id": "d52546e6-0908-4760-b5fd-ed17b22d6c71",
   "metadata": {},
   "outputs": [],
   "source": [
    "str1='python'"
   ]
  },
  {
   "cell_type": "code",
   "execution_count": 6,
   "id": "c5058dfa-858e-4cfd-8392-d4199ed6a6e9",
   "metadata": {
    "scrolled": true
   },
   "outputs": [
    {
     "data": {
      "text/plain": [
       "str"
      ]
     },
     "execution_count": 6,
     "metadata": {},
     "output_type": "execute_result"
    }
   ],
   "source": [
    "type(str1)"
   ]
  },
  {
   "cell_type": "code",
   "execution_count": 14,
   "id": "cb20c693-3d6c-4323-b8af-26a7a949a8ba",
   "metadata": {},
   "outputs": [
    {
     "data": {
      "text/plain": [
       "'python'"
      ]
     },
     "execution_count": 14,
     "metadata": {},
     "output_type": "execute_result"
    }
   ],
   "source": [
    "str2=\"python\"\n",
    "str2"
   ]
  },
  {
   "cell_type": "code",
   "execution_count": 16,
   "id": "02cd6c9d-c316-4abc-afb2-42ee9dadd279",
   "metadata": {},
   "outputs": [
    {
     "data": {
      "text/plain": [
       "str"
      ]
     },
     "execution_count": 16,
     "metadata": {},
     "output_type": "execute_result"
    }
   ],
   "source": [
    "type(str2)"
   ]
  },
  {
   "cell_type": "markdown",
   "id": "2452ddb8-6f87-4e0b-b938-461a748a7355",
   "metadata": {},
   "source": [
    "**doc string**"
   ]
  },
  {
   "cell_type": "code",
   "execution_count": 25,
   "id": "1c122b86-2228-451d-bcfc-b14dbc1fe479",
   "metadata": {},
   "outputs": [
    {
     "name": "stdout",
     "output_type": "stream",
     "text": [
      "hello python\n",
      "many students not cmg to lab\n",
      "today come to their dreams\n"
     ]
    }
   ],
   "source": [
    "str3=\"\"\" Hello python\n",
    "many students not go to lab\n",
    "today come to their dreams\"\"\"\n",
    "\n",
    "print(str3)"
   ]
  },
  {
   "cell_type": "code",
   "execution_count": 29,
   "id": "739d5ce2-1e39-4a31-8f4b-4790d71fd5e9",
   "metadata": {},
   "outputs": [
    {
     "data": {
      "text/plain": [
       "\"i like 'python'\""
      ]
     },
     "execution_count": 29,
     "metadata": {},
     "output_type": "execute_result"
    }
   ],
   "source": [
    "str4=\"i like 'python'\"\n",
    "str4                        #vice-versa"
   ]
  },
  {
   "cell_type": "code",
   "execution_count": 31,
   "id": "4cb498d1-9380-4961-8124-4b3cebf6800d",
   "metadata": {},
   "outputs": [
    {
     "name": "stdout",
     "output_type": "stream",
     "text": [
      "i like 'python'\n"
     ]
    }
   ],
   "source": [
    "print(str4)"
   ]
  },
  {
   "cell_type": "markdown",
   "id": "fb7ed114-ef63-4ed9-bcc4-f7db66a1689f",
   "metadata": {},
   "source": [
    "**Some inbulit func..**"
   ]
  },
  {
   "cell_type": "code",
   "execution_count": 35,
   "id": "1877343e-a57c-4be4-bfaa-59c2c38ea418",
   "metadata": {},
   "outputs": [
    {
     "data": {
      "text/plain": [
       "'y'"
      ]
     },
     "execution_count": 35,
     "metadata": {},
     "output_type": "execute_result"
    }
   ],
   "source": [
    "max(\"hello python\")"
   ]
  },
  {
   "cell_type": "code",
   "execution_count": 37,
   "id": "7d8f7f90-9aa7-4c80-b744-0c85131f550b",
   "metadata": {},
   "outputs": [
    {
     "data": {
      "text/plain": [
       "'H'"
      ]
     },
     "execution_count": 37,
     "metadata": {},
     "output_type": "execute_result"
    }
   ],
   "source": [
    "min(\"HIII\")"
   ]
  },
  {
   "cell_type": "code",
   "execution_count": 39,
   "id": "5ebdf5cd-e552-4464-8c94-d3499d861fa1",
   "metadata": {},
   "outputs": [
    {
     "data": {
      "text/plain": [
       "3"
      ]
     },
     "execution_count": 39,
     "metadata": {},
     "output_type": "execute_result"
    }
   ],
   "source": [
    "len(\"jai\")"
   ]
  },
  {
   "cell_type": "code",
   "execution_count": 41,
   "id": "eb4b3d1b-0b76-4825-a6be-af2706c50648",
   "metadata": {},
   "outputs": [
    {
     "name": "stdout",
     "output_type": "stream",
     "text": [
      "python\n"
     ]
    }
   ],
   "source": [
    "print(\"python\")"
   ]
  },
  {
   "cell_type": "code",
   "execution_count": 45,
   "id": "4845fe7e-dd33-4dab-900b-5f6dc0c06cdb",
   "metadata": {},
   "outputs": [
    {
     "data": {
      "text/plain": [
       "str"
      ]
     },
     "execution_count": 45,
     "metadata": {},
     "output_type": "execute_result"
    }
   ],
   "source": [
    "type(\"python\")"
   ]
  },
  {
   "cell_type": "code",
   "execution_count": 51,
   "id": "bcdfd77b-5f07-4d80-a29e-217ddd0b98ef",
   "metadata": {},
   "outputs": [
    {
     "data": {
      "text/plain": [
       "<reversed at 0x1cda5713760>"
      ]
     },
     "execution_count": 51,
     "metadata": {},
     "output_type": "execute_result"
    }
   ],
   "source": [
    "reversed(\"python\")"
   ]
  },
  {
   "cell_type": "code",
   "execution_count": 55,
   "id": "18266546-e40d-4f7c-a187-98a84c09ffc1",
   "metadata": {},
   "outputs": [
    {
     "data": {
      "text/plain": [
       "['H', 'N', 'O', 'P', 'T', 'Y']"
      ]
     },
     "execution_count": 55,
     "metadata": {},
     "output_type": "execute_result"
    }
   ],
   "source": [
    "sorted(\"PYTHON\")"
   ]
  },
  {
   "cell_type": "code",
   "execution_count": 57,
   "id": "d0301e94-f209-4b22-8fb9-8d4ed2238087",
   "metadata": {},
   "outputs": [
    {
     "data": {
      "text/plain": [
       "1"
      ]
     },
     "execution_count": 57,
     "metadata": {},
     "output_type": "execute_result"
    }
   ],
   "source": [
    "str2=\" \"\n",
    "len(str2)"
   ]
  },
  {
   "cell_type": "markdown",
   "id": "0f5323ed-c17a-4d05-8b05-60ebe9c79e79",
   "metadata": {},
   "source": [
    "**sorted**"
   ]
  },
  {
   "cell_type": "markdown",
   "id": "2052894d-a19c-428f-b534-dd9ce6473c67",
   "metadata": {},
   "source": [
    "- sorted means sorting the letters based on the ascii no\n",
    "- there are two possible sorted variables\n",
    "  - asecending\n",
    "  - descending"
   ]
  },
  {
   "cell_type": "code",
   "execution_count": 63,
   "id": "5afdfe22-9966-4ac1-92d6-111656acde43",
   "metadata": {},
   "outputs": [
    {
     "data": {
      "text/plain": [
       "['e', 'h', 'l', 'l', 'o']"
      ]
     },
     "execution_count": 63,
     "metadata": {},
     "output_type": "execute_result"
    }
   ],
   "source": [
    "str1=\"hello\"\n",
    "sorted(str1)"
   ]
  },
  {
   "cell_type": "markdown",
   "id": "6109f3f1-0946-41e8-aa32-e1edb31df3a5",
   "metadata": {},
   "source": [
    "- when you apply the shit tab\n",
    "- there are some arguments that will be available\n",
    "- Focus on two arguments\n",
    "  - iterable\n",
    "  - reverse=False\n",
    "- because the reverse is a default argument by the ascending order is cmg\n",
    "- if u want to change the order, change the default parameter value."
   ]
  },
  {
   "cell_type": "code",
   "execution_count": 66,
   "id": "38389834-6da8-4523-b474-1af772b982e4",
   "metadata": {},
   "outputs": [
    {
     "data": {
      "text/plain": [
       "['o', 'l', 'l', 'h', 'e']"
      ]
     },
     "execution_count": 66,
     "metadata": {},
     "output_type": "execute_result"
    }
   ],
   "source": [
    "sorted(str1,reverse=True)"
   ]
  },
  {
   "cell_type": "code",
   "execution_count": 70,
   "id": "cc476295-ad9f-4d55-843e-8e7a68dd0c1f",
   "metadata": {},
   "outputs": [
    {
     "data": {
      "text/plain": [
       "['e', 'h', 'l', 'l', 'o']"
      ]
     },
     "execution_count": 70,
     "metadata": {},
     "output_type": "execute_result"
    }
   ],
   "source": [
    "sorted(str1,reverse=False)"
   ]
  },
  {
   "cell_type": "code",
   "execution_count": 84,
   "id": "aa9d894e-8d2e-4e0b-9824-72dbab1be131",
   "metadata": {},
   "outputs": [
    {
     "ename": "TypeError",
     "evalue": "sorted expected 1 argument, got 0",
     "output_type": "error",
     "traceback": [
      "\u001b[1;31m---------------------------------------------------------------------------\u001b[0m",
      "\u001b[1;31mTypeError\u001b[0m                                 Traceback (most recent call last)",
      "Cell \u001b[1;32mIn[84], line 1\u001b[0m\n\u001b[1;32m----> 1\u001b[0m \u001b[38;5;28msorted\u001b[39m()\n",
      "\u001b[1;31mTypeError\u001b[0m: sorted expected 1 argument, got 0"
     ]
    }
   ],
   "source": [
    "sorted(iterable,False)"
   ]
  },
  {
   "cell_type": "markdown",
   "id": "4d4f7af9-2db2-4419-adc1-e87a8350b677",
   "metadata": {},
   "source": [
    "- we should not allowed to use iterable arg name while providing the value\n",
    "- we should use the argument names while provide the value after '/'\n",
    "- we should not use the arg name before '/'\n",
    "    - iterable arg name is there before '/'\n",
    "    - so don't use iterable name\n"
   ]
  },
  {
   "cell_type": "markdown",
   "id": "37b6da81-48e5-4582-ac73-0b160ba93374",
   "metadata": {},
   "source": [
    "- any func indicates * means\n",
    "- you can use any variable after *\n",
    "- after * there are two arg they are\n",
    "    - key\n",
    "    - reverse\n",
    "- you can use both\n",
    "- you can use anyone\n",
    "- you no need to use anythng"
   ]
  },
  {
   "cell_type": "code",
   "execution_count": null,
   "id": "d4cd7006-9a25-4e43-9b2e-e880e5fb1bd3",
   "metadata": {},
   "outputs": [],
   "source": [
    "sorted(\"hello\")  ## works\n",
    "sorted(iterable=\"hello\") ## fails"
   ]
  },
  {
   "cell_type": "code",
   "execution_count": 92,
   "id": "94365001-6dbd-4dee-9e5c-8aa6d3654b51",
   "metadata": {},
   "outputs": [
    {
     "data": {
      "text/plain": [
       "['e', 'h', 'l', 'l', 'o']"
      ]
     },
     "execution_count": 92,
     "metadata": {},
     "output_type": "execute_result"
    }
   ],
   "source": [
    "sorted(\"hello\")"
   ]
  },
  {
   "cell_type": "code",
   "execution_count": 94,
   "id": "3feb05a5-0c5d-4f86-a801-2690c1583cfa",
   "metadata": {},
   "outputs": [
    {
     "data": {
      "text/plain": [
       "['e', 'h', 'l', 'l', 'o']"
      ]
     },
     "execution_count": 94,
     "metadata": {},
     "output_type": "execute_result"
    }
   ],
   "source": [
    "sorted(\"hello\",reverse=False)"
   ]
  },
  {
   "cell_type": "code",
   "execution_count": 96,
   "id": "7dd46244-8dfc-49bb-9edf-daf968346d40",
   "metadata": {
    "scrolled": true
   },
   "outputs": [
    {
     "data": {
      "text/plain": [
       "['h', 'e', 'l', 'l', 'o']"
      ]
     },
     "execution_count": 96,
     "metadata": {},
     "output_type": "execute_result"
    }
   ],
   "source": [
    "sorted(\"hello\",key=len)"
   ]
  },
  {
   "cell_type": "code",
   "execution_count": 98,
   "id": "bf0c1630-6593-48d1-8b97-680515035ab7",
   "metadata": {},
   "outputs": [
    {
     "data": {
      "text/plain": [
       "['h', 'e', 'l', 'l', 'o']"
      ]
     },
     "execution_count": 98,
     "metadata": {},
     "output_type": "execute_result"
    }
   ],
   "source": [
    "sorted(\"hello\",reverse=True,key=len)"
   ]
  },
  {
   "cell_type": "markdown",
   "id": "54bd946a-e747-4559-a972-fec518be3ae8",
   "metadata": {},
   "source": [
    "**reversed**"
   ]
  },
  {
   "cell_type": "code",
   "execution_count": 103,
   "id": "0f398323-2332-41ca-9d66-092e34c8ea79",
   "metadata": {
    "scrolled": true
   },
   "outputs": [
    {
     "data": {
      "text/plain": [
       "<reversed at 0x1cda56f8bb0>"
      ]
     },
     "execution_count": 103,
     "metadata": {},
     "output_type": "execute_result"
    }
   ],
   "source": [
    "str1=\"python\"\n",
    "ans=reversed(str1)"
   ]
  },
  {
   "cell_type": "code",
   "execution_count": 121,
   "id": "3f537455-adaf-42e3-9096-30539a6d3389",
   "metadata": {},
   "outputs": [
    {
     "data": {
      "text/plain": [
       "reversed"
      ]
     },
     "execution_count": 121,
     "metadata": {},
     "output_type": "execute_result"
    }
   ],
   "source": [
    "str1=\"python\"\n",
    "ans=reversed(str1)\n",
    "type(ans)"
   ]
  },
  {
   "cell_type": "code",
   "execution_count": 123,
   "id": "d66512bd-329b-44ad-99c8-f61d93d3f042",
   "metadata": {},
   "outputs": [
    {
     "name": "stdout",
     "output_type": "stream",
     "text": [
      "n\n",
      "o\n",
      "h\n",
      "t\n",
      "y\n",
      "p\n"
     ]
    }
   ],
   "source": [
    "str1=\"python\"\n",
    "ans=reversed(str1)\n",
    "type(ans)\n",
    "for i in ans:\n",
    "    print(i)"
   ]
  },
  {
   "cell_type": "markdown",
   "id": "7e04d030-f4b1-4a25-b977-f7b5a89fe355",
   "metadata": {},
   "source": [
    "**Concatenation**"
   ]
  },
  {
   "cell_type": "code",
   "execution_count": 126,
   "id": "c4776eb9-0372-4c1e-9579-1145ebd38698",
   "metadata": {},
   "outputs": [
    {
     "ename": "TypeError",
     "evalue": "unsupported operand type(s) for -: 'str' and 'str'",
     "output_type": "error",
     "traceback": [
      "\u001b[1;31m---------------------------------------------------------------------------\u001b[0m",
      "\u001b[1;31mTypeError\u001b[0m                                 Traceback (most recent call last)",
      "Cell \u001b[1;32mIn[126], line 3\u001b[0m\n\u001b[0;32m      1\u001b[0m str1\u001b[38;5;241m=\u001b[39m\u001b[38;5;124m\"\u001b[39m\u001b[38;5;124mhello\u001b[39m\u001b[38;5;124m\"\u001b[39m\n\u001b[0;32m      2\u001b[0m str2\u001b[38;5;241m=\u001b[39m\u001b[38;5;124m\"\u001b[39m\u001b[38;5;124mpython\u001b[39m\u001b[38;5;124m\"\u001b[39m\n\u001b[1;32m----> 3\u001b[0m str1\u001b[38;5;241m-\u001b[39mstr2\n",
      "\u001b[1;31mTypeError\u001b[0m: unsupported operand type(s) for -: 'str' and 'str'"
     ]
    }
   ],
   "source": [
    "str1=\"hello\"\n",
    "str2=\"python\"\n",
    "str1-str2"
   ]
  },
  {
   "cell_type": "code",
   "execution_count": 128,
   "id": "3f823d35-0b97-4875-942b-647f76ef5ce2",
   "metadata": {},
   "outputs": [
    {
     "ename": "TypeError",
     "evalue": "unsupported operand type(s) for /: 'str' and 'str'",
     "output_type": "error",
     "traceback": [
      "\u001b[1;31m---------------------------------------------------------------------------\u001b[0m",
      "\u001b[1;31mTypeError\u001b[0m                                 Traceback (most recent call last)",
      "Cell \u001b[1;32mIn[128], line 3\u001b[0m\n\u001b[0;32m      1\u001b[0m str1\u001b[38;5;241m=\u001b[39m\u001b[38;5;124m\"\u001b[39m\u001b[38;5;124mhello\u001b[39m\u001b[38;5;124m\"\u001b[39m\n\u001b[0;32m      2\u001b[0m str2\u001b[38;5;241m=\u001b[39m\u001b[38;5;124m\"\u001b[39m\u001b[38;5;124mpython\u001b[39m\u001b[38;5;124m\"\u001b[39m\n\u001b[1;32m----> 3\u001b[0m str1\u001b[38;5;241m/\u001b[39mstr2\n",
      "\u001b[1;31mTypeError\u001b[0m: unsupported operand type(s) for /: 'str' and 'str'"
     ]
    }
   ],
   "source": [
    "str1=\"hello\"\n",
    "str2=\"python\"\n",
    "str1/str2"
   ]
  },
  {
   "cell_type": "code",
   "execution_count": 144,
   "id": "ff8c3bff-f345-4f00-93ea-8e50715d7579",
   "metadata": {},
   "outputs": [
    {
     "name": "stdout",
     "output_type": "stream",
     "text": [
      "hellopython\n"
     ]
    }
   ],
   "source": [
    "str1=\"hello\"\n",
    "str2=\"python\"\n",
    "print(str1+str2)"
   ]
  },
  {
   "cell_type": "code",
   "execution_count": 150,
   "id": "7152fb68-7791-4e11-a13f-724e483ae4a6",
   "metadata": {},
   "outputs": [
    {
     "data": {
      "text/plain": [
       "'hellohellohellohellohellohellohello'"
      ]
     },
     "execution_count": 150,
     "metadata": {},
     "output_type": "execute_result"
    }
   ],
   "source": [
    "str1=\"hello\"\n",
    "str2=7\n",
    "str1*str2"
   ]
  },
  {
   "cell_type": "markdown",
   "id": "9b91618b-8fc2-40c1-90fe-6fcd3def5f20",
   "metadata": {},
   "source": [
    "**Indexing**"
   ]
  },
  {
   "cell_type": "code",
   "execution_count": 153,
   "id": "0cb59109-3bc3-40d4-82cc-65041b0049de",
   "metadata": {},
   "outputs": [
    {
     "name": "stdout",
     "output_type": "stream",
     "text": [
      "j\n"
     ]
    }
   ],
   "source": [
    "str1=\"jai\"\n",
    "-3   -2  -1\n",
    "\"J\" \"a\" \"i\"\n",
    "0    1   2"
   ]
  },
  {
   "cell_type": "code",
   "execution_count": 161,
   "id": "dee76c5a-5f87-4e69-a09e-baf3ec18a0ba",
   "metadata": {},
   "outputs": [
    {
     "data": {
      "text/plain": [
       "('j', 'i')"
      ]
     },
     "execution_count": 161,
     "metadata": {},
     "output_type": "execute_result"
    }
   ],
   "source": [
    "str1[0],str1[-1]"
   ]
  },
  {
   "cell_type": "code",
   "execution_count": 165,
   "id": "f125d2d8-831f-447b-87da-ea2b2292638b",
   "metadata": {},
   "outputs": [
    {
     "data": {
      "text/plain": [
       "('p', 'p')"
      ]
     },
     "execution_count": 165,
     "metadata": {},
     "output_type": "execute_result"
    }
   ],
   "source": [
    "str1=\"python\"\n",
    "str1[0],str1[-6]"
   ]
  },
  {
   "cell_type": "code",
   "execution_count": 15,
   "id": "c8513cae-b82d-4fe4-bc6c-172efc1c2366",
   "metadata": {},
   "outputs": [
    {
     "data": {
      "text/plain": [
       "'ba'"
      ]
     },
     "execution_count": 15,
     "metadata": {},
     "output_type": "execute_result"
    }
   ],
   "source": [
    "fruit=\"banana\"\n",
    "fruit[:2]"
   ]
  },
  {
   "cell_type": "code",
   "execution_count": 23,
   "id": "e788fd64-4ef9-4775-9e19-f3a76a646c51",
   "metadata": {},
   "outputs": [
    {
     "data": {
      "text/plain": [
       "('o', 'y')"
      ]
     },
     "execution_count": 23,
     "metadata": {},
     "output_type": "execute_result"
    }
   ],
   "source": [
    "str1=\"hello python\"\n",
    "str1[4],str1[-5]"
   ]
  },
  {
   "cell_type": "code",
   "execution_count": 25,
   "id": "dd6b1cd6-36fd-4095-a21d-9c353bd39e7d",
   "metadata": {},
   "outputs": [
    {
     "data": {
      "text/plain": [
       "''"
      ]
     },
     "execution_count": 25,
     "metadata": {},
     "output_type": "execute_result"
    }
   ],
   "source": [
    "str1[5:-7]"
   ]
  },
  {
   "cell_type": "code",
   "execution_count": 37,
   "id": "d8de8bfe-952b-463d-82c8-9cda02f668f6",
   "metadata": {},
   "outputs": [
    {
     "name": "stdout",
     "output_type": "stream",
     "text": [
      "h\n",
      "e\n",
      "l\n",
      "l\n",
      "o\n"
     ]
    }
   ],
   "source": [
    "for i in range(5):\n",
    "    print(str1[i])"
   ]
  },
  {
   "cell_type": "code",
   "execution_count": 53,
   "id": "b51e8fd8-e579-4fc8-b066-720167286c2f",
   "metadata": {},
   "outputs": [
    {
     "name": "stdout",
     "output_type": "stream",
     "text": [
      "p\n",
      "y\n",
      "t\n",
      "h\n",
      "o\n",
      "n\n"
     ]
    }
   ],
   "source": [
    "str2=\"python\"\n",
    "for i in range(6):\n",
    "    print(str2[i])"
   ]
  },
  {
   "cell_type": "code",
   "execution_count": 55,
   "id": "cfc0d550-e0a8-4363-b174-0563afb79973",
   "metadata": {},
   "outputs": [
    {
     "name": "stdout",
     "output_type": "stream",
     "text": [
      "-6\n",
      "-5\n",
      "-4\n",
      "-3\n",
      "-2\n",
      "-1\n"
     ]
    }
   ],
   "source": [
    "for i in range(len(str2)):\n",
    "    print(i-len(str2))"
   ]
  },
  {
   "cell_type": "code",
   "execution_count": 57,
   "id": "49d45c7e-600c-40a0-b349-4f47baf86bb1",
   "metadata": {},
   "outputs": [
    {
     "name": "stdout",
     "output_type": "stream",
     "text": [
      "the positive  index ofjai is:0\n",
      "the positive  index ofjai is:1\n",
      "the positive  index ofjai is:2\n"
     ]
    }
   ],
   "source": [
    "str2=\"jai\"\n",
    "for i in range(len(str2)):\n",
    "    print(f\"the positive  index of{str2} is:{i}\")"
   ]
  },
  {
   "cell_type": "code",
   "execution_count": 61,
   "id": "62a995d8-54f9-4191-a736-3f3e6ae58311",
   "metadata": {},
   "outputs": [
    {
     "name": "stdout",
     "output_type": "stream",
     "text": [
      "the negative  index ofjai is:-3\n",
      "the negative  index ofjai is:-2\n",
      "the negative  index ofjai is:-1\n"
     ]
    }
   ],
   "source": [
    "n=len(str2)\n",
    "for i in range(len(str2)):\n",
    "    print(f\"the negative  index of{str2} is:{i-n}\")"
   ]
  },
  {
   "cell_type": "code",
   "execution_count": 73,
   "id": "ceb66342-e921-44dc-b873-75fc659a0b7c",
   "metadata": {},
   "outputs": [
    {
     "name": "stdout",
     "output_type": "stream",
     "text": [
      "-3 is (-) index and 0 is (+)ve index of:jai\n",
      "-2 is (-) index and 1 is (+)ve index of:jai\n",
      "-1 is (-) index and 2 is (+)ve index of:jai\n"
     ]
    }
   ],
   "source": [
    "n=len(str2)\n",
    "for i in range(n):\n",
    "    print(f\"{i-n} is (-) index and {i} is (+)ve index of:{str2}\")\n"
   ]
  },
  {
   "cell_type": "markdown",
   "id": "72ef3a0c-fbcd-481f-a21e-96a44e1c3a88",
   "metadata": {},
   "source": [
    "**When to use range - when to use in operator\n",
    "- any prblm if we work index "
   ]
  },
  {
   "cell_type": "code",
   "execution_count": 91,
   "id": "ae4568f6-a556-449b-95a3-cca63196e52c",
   "metadata": {},
   "outputs": [
    {
     "name": "stdout",
     "output_type": "stream",
     "text": [
      "3\n"
     ]
    }
   ],
   "source": [
    "count=0\n",
    "str1=\"ola ola ola\"\n",
    "for i in str1:\n",
    "    if i==\"a\":\n",
    "        count=count+1\n",
    "\n",
    "print(count)"
   ]
  },
  {
   "cell_type": "code",
   "execution_count": 113,
   "id": "cba747c2-014a-4570-ade5-bb91e8a38beb",
   "metadata": {},
   "outputs": [
    {
     "name": "stdout",
     "output_type": "stream",
     "text": [
      "o\n",
      "a\n",
      "o\n",
      "a\n",
      "o\n",
      "a\n",
      "the number of vowels are: 6\n"
     ]
    }
   ],
   "source": [
    "str1=\"ola ola ola\"\n",
    "count=0\n",
    "for i in (str1):\n",
    "    if i in \"aeiou\":\n",
    "        print(i)\n",
    "        count += 1\n",
    "\n",
    "print(\"the number of vowels are:\",count)"
   ]
  },
  {
   "cell_type": "code",
   "execution_count": 3,
   "id": "8ecfe77a-c57e-463f-a35e-3f02cd1aa5b8",
   "metadata": {},
   "outputs": [
    {
     "name": "stdout",
     "output_type": "stream",
     "text": [
      "e\n",
      "o\n",
      "a\n",
      "u\n",
      "the total count is 4\n"
     ]
    }
   ],
   "source": [
    "s1=\"\"\n",
    "s2=\"aeiou\"\n",
    "str1=\"Hello Python how are you\"\n",
    "count=0\n",
    "for i in str1:\n",
    "    if i in s2 and i not in s1:\n",
    "        print(i)\n",
    "        s1=s1+i\n",
    "        count=count+1\n",
    "print(\"the total count is\",count)"
   ]
  },
  {
   "cell_type": "code",
   "execution_count": null,
   "id": "a2fcadfe-bc67-4785-960b-f2be0ec3da47",
   "metadata": {},
   "outputs": [],
   "source": [
    "-17 -16 -15 -14 -13 -12 -11 -10 -9 -8 -7 -6 -5 -4 -3 -2 -1\n",
    " h   e   l    l   o       h   o  w     a   r e     y   o u\n",
    "0     1  2    3   4   5   6   7  8   9  10 11 12 13 14 15 16"
   ]
  },
  {
   "cell_type": "markdown",
   "id": "508e303a-7547-4c61-aa3f-684b5362a095",
   "metadata": {},
   "source": [
    "**Case-1:"
   ]
  },
  {
   "cell_type": "code",
   "execution_count": 4,
   "id": "55774466-a44e-4969-bf9f-65ec2ab6cb5a",
   "metadata": {},
   "outputs": [
    {
     "data": {
      "text/plain": [
       "'e you'"
      ]
     },
     "execution_count": 4,
     "metadata": {},
     "output_type": "execute_result"
    }
   ],
   "source": [
    "str1=\"hello how are you\"\n",
    "str1[-5:]"
   ]
  },
  {
   "cell_type": "code",
   "execution_count": 8,
   "id": "cd0822ea-6ca5-40f1-a5bf-4eca6c530f42",
   "metadata": {},
   "outputs": [
    {
     "data": {
      "text/plain": [
       "' how are you'"
      ]
     },
     "execution_count": 8,
     "metadata": {},
     "output_type": "execute_result"
    }
   ],
   "source": [
    "str1[5:]"
   ]
  },
  {
   "cell_type": "code",
   "execution_count": 12,
   "id": "fbfc0738-fc5c-42c6-9a04-b30482aa6be9",
   "metadata": {},
   "outputs": [
    {
     "data": {
      "text/plain": [
       "'llo how are y'"
      ]
     },
     "execution_count": 12,
     "metadata": {},
     "output_type": "execute_result"
    }
   ],
   "source": [
    "str1[2:15]"
   ]
  },
  {
   "cell_type": "code",
   "execution_count": 20,
   "id": "5f8b202d-ea6b-4dae-aea6-d50691788b01",
   "metadata": {},
   "outputs": [
    {
     "data": {
      "text/plain": [
       "' h'"
      ]
     },
     "execution_count": 20,
     "metadata": {},
     "output_type": "execute_result"
    }
   ],
   "source": [
    "str1[-12:-2]"
   ]
  },
  {
   "cell_type": "code",
   "execution_count": 34,
   "id": "c65a19b2-a705-4b84-aa23-854dc731653f",
   "metadata": {},
   "outputs": [
    {
     "data": {
      "text/plain": [
       "'l'"
      ]
     },
     "execution_count": 34,
     "metadata": {},
     "output_type": "execute_result"
    }
   ],
   "source": [
    "str1[2:-14:1]"
   ]
  },
  {
   "cell_type": "code",
   "execution_count": 38,
   "id": "af7afcc1-94f8-43b6-9cec-1e282bda51d4",
   "metadata": {},
   "outputs": [
    {
     "data": {
      "text/plain": [
       "'llo how are you'"
      ]
     },
     "execution_count": 38,
     "metadata": {},
     "output_type": "execute_result"
    }
   ],
   "source": [
    "str1[2:25]"
   ]
  },
  {
   "cell_type": "markdown",
   "id": "aba5b898-aa94-4855-99b1-7f5c5a20b15e",
   "metadata": {},
   "source": [
    "**Method**"
   ]
  },
  {
   "cell_type": "code",
   "execution_count": 40,
   "id": "b44417c0-eebe-4d1c-96ba-24f0911d1bba",
   "metadata": {},
   "outputs": [
    {
     "data": {
      "text/plain": [
       "['__add__',\n",
       " '__class__',\n",
       " '__contains__',\n",
       " '__delattr__',\n",
       " '__dir__',\n",
       " '__doc__',\n",
       " '__eq__',\n",
       " '__format__',\n",
       " '__ge__',\n",
       " '__getattribute__',\n",
       " '__getitem__',\n",
       " '__getnewargs__',\n",
       " '__getstate__',\n",
       " '__gt__',\n",
       " '__hash__',\n",
       " '__init__',\n",
       " '__init_subclass__',\n",
       " '__iter__',\n",
       " '__le__',\n",
       " '__len__',\n",
       " '__lt__',\n",
       " '__mod__',\n",
       " '__mul__',\n",
       " '__ne__',\n",
       " '__new__',\n",
       " '__reduce__',\n",
       " '__reduce_ex__',\n",
       " '__repr__',\n",
       " '__rmod__',\n",
       " '__rmul__',\n",
       " '__setattr__',\n",
       " '__sizeof__',\n",
       " '__str__',\n",
       " '__subclasshook__',\n",
       " 'capitalize',\n",
       " 'casefold',\n",
       " 'center',\n",
       " 'count',\n",
       " 'encode',\n",
       " 'endswith',\n",
       " 'expandtabs',\n",
       " 'find',\n",
       " 'format',\n",
       " 'format_map',\n",
       " 'index',\n",
       " 'isalnum',\n",
       " 'isalpha',\n",
       " 'isascii',\n",
       " 'isdecimal',\n",
       " 'isdigit',\n",
       " 'isidentifier',\n",
       " 'islower',\n",
       " 'isnumeric',\n",
       " 'isprintable',\n",
       " 'isspace',\n",
       " 'istitle',\n",
       " 'isupper',\n",
       " 'join',\n",
       " 'ljust',\n",
       " 'lower',\n",
       " 'lstrip',\n",
       " 'maketrans',\n",
       " 'partition',\n",
       " 'removeprefix',\n",
       " 'removesuffix',\n",
       " 'replace',\n",
       " 'rfind',\n",
       " 'rindex',\n",
       " 'rjust',\n",
       " 'rpartition',\n",
       " 'rsplit',\n",
       " 'rstrip',\n",
       " 'split',\n",
       " 'splitlines',\n",
       " 'startswith',\n",
       " 'strip',\n",
       " 'swapcase',\n",
       " 'title',\n",
       " 'translate',\n",
       " 'upper',\n",
       " 'zfill']"
      ]
     },
     "execution_count": 40,
     "metadata": {},
     "output_type": "execute_result"
    }
   ],
   "source": [
    "name=\"jai\"\n",
    "dir(name)"
   ]
  },
  {
   "cell_type": "code",
   "execution_count": 156,
   "id": "33f78045-6727-4df3-855d-a2cbb8b74ebd",
   "metadata": {},
   "outputs": [
    {
     "data": {
      "text/plain": [
       "['__add__',\n",
       " '__class__',\n",
       " '__contains__',\n",
       " '__delattr__',\n",
       " '__dir__',\n",
       " '__doc__',\n",
       " '__eq__',\n",
       " '__format__',\n",
       " '__ge__',\n",
       " '__getattribute__',\n",
       " '__getitem__',\n",
       " '__getnewargs__',\n",
       " '__getstate__',\n",
       " '__gt__',\n",
       " '__hash__',\n",
       " '__init__',\n",
       " '__init_subclass__',\n",
       " '__iter__',\n",
       " '__le__',\n",
       " '__len__',\n",
       " '__lt__',\n",
       " '__mod__',\n",
       " '__mul__',\n",
       " '__ne__',\n",
       " '__new__',\n",
       " '__reduce__',\n",
       " '__reduce_ex__',\n",
       " '__repr__',\n",
       " '__rmod__',\n",
       " '__rmul__',\n",
       " '__setattr__',\n",
       " '__sizeof__',\n",
       " '__str__',\n",
       " '__subclasshook__',\n",
       " 'capitalize',\n",
       " 'casefold',\n",
       " 'center',\n",
       " 'count',\n",
       " 'encode',\n",
       " 'endswith',\n",
       " 'expandtabs',\n",
       " 'find',\n",
       " 'format',\n",
       " 'format_map',\n",
       " 'index',\n",
       " 'isalnum',\n",
       " 'isalpha',\n",
       " 'isascii',\n",
       " 'isdecimal',\n",
       " 'isdigit',\n",
       " 'isidentifier',\n",
       " 'islower',\n",
       " 'isnumeric',\n",
       " 'isprintable',\n",
       " 'isspace',\n",
       " 'istitle',\n",
       " 'isupper',\n",
       " 'join',\n",
       " 'ljust',\n",
       " 'lower',\n",
       " 'lstrip',\n",
       " 'maketrans',\n",
       " 'partition',\n",
       " 'removeprefix',\n",
       " 'removesuffix',\n",
       " 'replace',\n",
       " 'rfind',\n",
       " 'rindex',\n",
       " 'rjust',\n",
       " 'rpartition',\n",
       " 'rsplit',\n",
       " 'rstrip',\n",
       " 'split',\n",
       " 'splitlines',\n",
       " 'startswith',\n",
       " 'strip',\n",
       " 'swapcase',\n",
       " 'title',\n",
       " 'translate',\n",
       " 'upper',\n",
       " 'zfill']"
      ]
     },
     "execution_count": 156,
     "metadata": {},
     "output_type": "execute_result"
    }
   ],
   "source": [
    "name=\"jaideep kUmar\"\n",
    "dir(name)"
   ]
  },
  {
   "cell_type": "code",
   "execution_count": 158,
   "id": "aab5fb8c-faf7-49e5-a8b2-4f89901b7db2",
   "metadata": {},
   "outputs": [
    {
     "data": {
      "text/plain": [
       "'JAIDEEP KUMAR'"
      ]
     },
     "execution_count": 158,
     "metadata": {},
     "output_type": "execute_result"
    }
   ],
   "source": [
    "name.upper()"
   ]
  },
  {
   "cell_type": "markdown",
   "id": "36e0b21a-a68e-42d3-9586-f148c289d734",
   "metadata": {},
   "source": [
    "**Output will not overwrite**\n",
    "-  when we apply the function\n",
    "- always apply shift + tab\n",
    "- Then if any arguments are there try to understand those arguments.\n",
    "- In that one argument, the name is called as **inplace**\n",
    "- inplace: True the result will be overwritten in the original variable.\n",
    "- if inplace was not available or inplace: False then the original output will not overwrite.\n",
    "- In the uppercase, there is no argument\n",
    "- so when we apply upper the output will not overwrite"
   ]
  },
  {
   "cell_type": "code",
   "execution_count": 161,
   "id": "47e3b152-7392-4604-add6-48557c5b8942",
   "metadata": {},
   "outputs": [
    {
     "data": {
      "text/plain": [
       "'jaideep kUmar'"
      ]
     },
     "execution_count": 161,
     "metadata": {},
     "output_type": "execute_result"
    }
   ],
   "source": [
    "name.translate(\"kumar\")"
   ]
  },
  {
   "cell_type": "code",
   "execution_count": 163,
   "id": "ccae42eb-a99b-460d-a7b2-6dabbd1ae0b9",
   "metadata": {},
   "outputs": [
    {
     "data": {
      "text/plain": [
       "'jaideep kumar'"
      ]
     },
     "execution_count": 163,
     "metadata": {},
     "output_type": "execute_result"
    }
   ],
   "source": [
    "name.lower()"
   ]
  },
  {
   "cell_type": "code",
   "execution_count": 165,
   "id": "7984ae17-ad70-4266-9ac6-47fd304e94a5",
   "metadata": {},
   "outputs": [
    {
     "data": {
      "text/plain": [
       "'jaideep kumar'"
      ]
     },
     "execution_count": 165,
     "metadata": {},
     "output_type": "execute_result"
    }
   ],
   "source": [
    "name.casefold()"
   ]
  },
  {
   "cell_type": "code",
   "execution_count": 175,
   "id": "ece20af4-303c-4c53-b6c2-81adc7fecf11",
   "metadata": {},
   "outputs": [
    {
     "name": "stdout",
     "output_type": "stream",
     "text": [
      "13\n"
     ]
    }
   ],
   "source": [
    "\n",
    "str1=name.center(7,\"*\")\n",
    "print(len(str1))\n"
   ]
  },
  {
   "cell_type": "code",
   "execution_count": 127,
   "id": "9429df25-4746-41ca-896a-3df78b4005f7",
   "metadata": {},
   "outputs": [
    {
     "data": {
      "text/plain": [
       "'Jaideep kumar'"
      ]
     },
     "execution_count": 127,
     "metadata": {},
     "output_type": "execute_result"
    }
   ],
   "source": [
    "name.capitalize()"
   ]
  },
  {
   "cell_type": "code",
   "execution_count": 129,
   "id": "0e6228a1-74ca-448e-ac41-0a0742c635cf",
   "metadata": {},
   "outputs": [
    {
     "data": {
      "text/plain": [
       "'Jaideep Kumar'"
      ]
     },
     "execution_count": 129,
     "metadata": {},
     "output_type": "execute_result"
    }
   ],
   "source": [
    "name.title()"
   ]
  },
  {
   "cell_type": "code",
   "execution_count": 135,
   "id": "3d949525-df22-40e9-8c9c-3b7ea636f1c6",
   "metadata": {},
   "outputs": [
    {
     "name": "stdout",
     "output_type": "stream",
     "text": [
      "TEDDY\n",
      "teddy\n",
      "teddy\n",
      "                                                                                                                                                                                                                                                       TEDDY                                                                                                                                                                                                                                                        \n",
      "Teddy\n"
     ]
    }
   ],
   "source": [
    "name='teddy'\n",
    "a=name.upper()\n",
    "print(a)\n",
    "print(a.lower())\n",
    "print(a.casefold())\n",
    "print(a.center(500))\n",
    "print(a.title())"
   ]
  },
  {
   "cell_type": "code",
   "execution_count": 148,
   "id": "742a6189-36dd-4ec9-9eeb-09618aeb3994",
   "metadata": {},
   "outputs": [
    {
     "name": "stdin",
     "output_type": "stream",
     "text": [
      "enter your name jaideep\n"
     ]
    },
    {
     "name": "stdout",
     "output_type": "stream",
     "text": [
      "Jaideep\n"
     ]
    }
   ],
   "source": [
    "name=input(\"enter your name\")\n",
    "print(name.capitalize())"
   ]
  },
  {
   "cell_type": "code",
   "execution_count": 150,
   "id": "f0e8009f-ea60-4387-9043-b2ab066a1a43",
   "metadata": {},
   "outputs": [
    {
     "data": {
      "text/plain": [
       "'Welcome'"
      ]
     },
     "execution_count": 150,
     "metadata": {},
     "output_type": "execute_result"
    }
   ],
   "source": [
    "'welcome'.title()"
   ]
  },
  {
   "cell_type": "code",
   "execution_count": 217,
   "id": "a5bb7336-92f9-4e15-b0fd-a347f2419253",
   "metadata": {},
   "outputs": [
    {
     "data": {
      "text/plain": [
       "'weLcome heLLo'"
      ]
     },
     "execution_count": 217,
     "metadata": {},
     "output_type": "execute_result"
    }
   ],
   "source": [
    "name=\"welcome hello\"\n",
    "name.replace(\"l\",\"L\",15)"
   ]
  },
  {
   "cell_type": "code",
   "execution_count": 219,
   "id": "b6de31ff-3adf-4c78-b644-ffa9bc4c7b5c",
   "metadata": {},
   "outputs": [
    {
     "data": {
      "text/plain": [
       "'welcome hello'"
      ]
     },
     "execution_count": 219,
     "metadata": {},
     "output_type": "execute_result"
    }
   ],
   "source": [
    "name.replace('z','Z')"
   ]
  },
  {
   "cell_type": "markdown",
   "id": "fcd15de5-b6f3-4d8a-b305-dbeabbebd7b3",
   "metadata": {},
   "source": [
    "**Index**"
   ]
  },
  {
   "cell_type": "code",
   "execution_count": 5,
   "id": "fc6e9a23-1aa0-4d48-9b21-162ac6410763",
   "metadata": {},
   "outputs": [
    {
     "data": {
      "text/plain": [
       "0"
      ]
     },
     "execution_count": 5,
     "metadata": {},
     "output_type": "execute_result"
    }
   ],
   "source": [
    "str1=\"hello heii how are you\"\n",
    "str1.index(\"h\")"
   ]
  },
  {
   "cell_type": "code",
   "execution_count": 7,
   "id": "b3c18a55-da6d-4a00-9a04-b58e7bf2aea2",
   "metadata": {},
   "outputs": [
    {
     "data": {
      "text/plain": [
       "(13, 4)"
      ]
     },
     "execution_count": 7,
     "metadata": {},
     "output_type": "execute_result"
    }
   ],
   "source": [
    "str1.index(\"w\"),str1.index(\"o\")"
   ]
  },
  {
   "cell_type": "code",
   "execution_count": 9,
   "id": "84fe7879-7de0-4960-ba3d-2b3e11bd5857",
   "metadata": {},
   "outputs": [
    {
     "data": {
      "text/plain": [
       "0"
      ]
     },
     "execution_count": 9,
     "metadata": {},
     "output_type": "execute_result"
    }
   ],
   "source": [
    "i1=str1.index(\"h\") # we are searching for \"h\" from i1+1(0+1=1) index onwards\n",
    "i1"
   ]
  },
  {
   "cell_type": "code",
   "execution_count": 13,
   "id": "acb5b489-1c2c-4527-aa37-339e9cf2ed3e",
   "metadata": {},
   "outputs": [
    {
     "data": {
      "text/plain": [
       "6"
      ]
     },
     "execution_count": 13,
     "metadata": {},
     "output_type": "execute_result"
    }
   ],
   "source": [
    "i2=str1.index(\"h\",i1+1)\n",
    "i2"
   ]
  },
  {
   "cell_type": "code",
   "execution_count": 15,
   "id": "b8c6fff3-4528-4c28-bdf3-c6cf14702a36",
   "metadata": {},
   "outputs": [
    {
     "data": {
      "text/plain": [
       "11"
      ]
     },
     "execution_count": 15,
     "metadata": {},
     "output_type": "execute_result"
    }
   ],
   "source": [
    "i3=str1.index(\"h\",i2+1)\n",
    "i3"
   ]
  },
  {
   "cell_type": "code",
   "execution_count": 17,
   "id": "89e628d6-21d6-4070-a9ed-e61eecfcd306",
   "metadata": {},
   "outputs": [
    {
     "ename": "ValueError",
     "evalue": "substring not found",
     "output_type": "error",
     "traceback": [
      "\u001b[1;31m---------------------------------------------------------------------------\u001b[0m",
      "\u001b[1;31mValueError\u001b[0m                                Traceback (most recent call last)",
      "Cell \u001b[1;32mIn[17], line 1\u001b[0m\n\u001b[1;32m----> 1\u001b[0m i4\u001b[38;5;241m=\u001b[39mstr1\u001b[38;5;241m.\u001b[39mindex(\u001b[38;5;124m\"\u001b[39m\u001b[38;5;124mh\u001b[39m\u001b[38;5;124m\"\u001b[39m,i3\u001b[38;5;241m+\u001b[39m\u001b[38;5;241m1\u001b[39m)\n\u001b[0;32m      2\u001b[0m i4\n",
      "\u001b[1;31mValueError\u001b[0m: substring not found"
     ]
    }
   ],
   "source": [
    "i4=str1.index(\"h\",i3+1)\n",
    "i4"
   ]
  },
  {
   "cell_type": "code",
   "execution_count": 12,
   "id": "3377bc73-9e55-458b-bc26-834a1d5ef588",
   "metadata": {},
   "outputs": [
    {
     "ename": "SyntaxError",
     "evalue": "unmatched ')' (2554340374.py, line 1)",
     "output_type": "error",
     "traceback": [
      "\u001b[1;36m  Cell \u001b[1;32mIn[12], line 1\u001b[1;36m\u001b[0m\n\u001b[1;33m    str1.index(\"h\",str1.index(\"h\",str1.index(\"h\")+1)+1))\u001b[0m\n\u001b[1;37m                                                       ^\u001b[0m\n\u001b[1;31mSyntaxError\u001b[0m\u001b[1;31m:\u001b[0m unmatched ')'\n"
     ]
    }
   ],
   "source": [
    "str1.index(\"h\",str1.index(\"h\",str1.index(\"h\")+1)+1)"
   ]
  },
  {
   "cell_type": "code",
   "execution_count": 6,
   "id": "b03eec0b-77ce-4448-98c5-a68d09b40394",
   "metadata": {},
   "outputs": [
    {
     "data": {
      "text/plain": [
       "'Resta$t RestartRestart Restar'"
      ]
     },
     "execution_count": 6,
     "metadata": {},
     "output_type": "execute_result"
    }
   ],
   "source": [
    "str1=\"Restart Restart\"\n",
    "i1=str1.index(\"r\")\n",
    "i2=str1.index(\"r\",i1+1)\n",
    "s1=str1[:i2+1]\n",
    "s2=str1[i2+1:]\n",
    "s3=str1.replace(\"r\",\"$\",1)\n",
    "s3+s1"
   ]
  },
  {
   "cell_type": "code",
   "execution_count": 61,
   "id": "e05da045-099c-4c37-873e-8597f145c624",
   "metadata": {},
   "outputs": [
    {
     "data": {
      "text/plain": [
       "-1"
      ]
     },
     "execution_count": 61,
     "metadata": {},
     "output_type": "execute_result"
    }
   ],
   "source": [
    "i3=str1.find(\"h\",i2+1)\n",
    "i3"
   ]
  },
  {
   "cell_type": "markdown",
   "id": "dce90ada-bbb6-46e2-985b-4eba247909b9",
   "metadata": {},
   "source": [
    "- index and find both are working for the same to find the index of the letter\n",
    "- if any substring is not found index will throw an error\n",
    "- but find method will give -1"
   ]
  },
  {
   "cell_type": "markdown",
   "id": "10f7d3f8-c8c5-4d5e-898a-0f4a9955451a",
   "metadata": {},
   "source": [
    "**Count method**"
   ]
  },
  {
   "cell_type": "code",
   "execution_count": 71,
   "id": "14956263-c877-452a-af4c-dc3ae44f196d",
   "metadata": {},
   "outputs": [
    {
     "data": {
      "text/plain": [
       "3"
      ]
     },
     "execution_count": 71,
     "metadata": {},
     "output_type": "execute_result"
    }
   ],
   "source": [
    "str1=\"hai hai hai\"\n",
    "str1.count(\"a\")"
   ]
  },
  {
   "cell_type": "code",
   "execution_count": 77,
   "id": "9770da09-ff3b-477d-9218-e8b5e6ef0e01",
   "metadata": {},
   "outputs": [
    {
     "data": {
      "text/plain": [
       "1"
      ]
     },
     "execution_count": 77,
     "metadata": {},
     "output_type": "execute_result"
    }
   ],
   "source": [
    "str1.count(\"a\",2,9)"
   ]
  },
  {
   "cell_type": "code",
   "execution_count": 97,
   "id": "43c15cf0-1a29-466e-9ac1-c7978230c1df",
   "metadata": {},
   "outputs": [
    {
     "name": "stdout",
     "output_type": "stream",
     "text": [
      "3\n"
     ]
    }
   ],
   "source": [
    "str1=\"hai hai hai\"\n",
    "count=0\n",
    "for i in str1:\n",
    "    if i == \"a\":\n",
    "        count+=1\n",
    "print(count)"
   ]
  },
  {
   "cell_type": "markdown",
   "id": "b65b98bd-7b10-49a7-9feb-fa1bd83f4e49",
   "metadata": {},
   "source": [
    "**sliding window approach**"
   ]
  },
  {
   "cell_type": "code",
   "execution_count": 4,
   "id": "f4be50f1-1a51-4658-97fd-9a932de3d006",
   "metadata": {},
   "outputs": [
    {
     "name": "stdout",
     "output_type": "stream",
     "text": [
      "3\n"
     ]
    }
   ],
   "source": [
    "str1=\"hai hai hai\"\n",
    "count=0\n",
    "for i in range(len(str1)):\n",
    "    if str1[i:i+3] == \"hai\":\n",
    "        count+=1\n",
    "print(count)\n",
    "\n",
    "#step:1- i=0 if str1[0:0+3]==>[0:3] : hai = hai (T)\n",
    "# step:2- i=1 if str1[1:4] : \"ai\" == \"hai\" (F)\n",
    "# step-3: i=2 if str1[2:5] : 'i h'== \"hai\" (F)"
   ]
  },
  {
   "cell_type": "code",
   "execution_count": 36,
   "id": "1399d75b-8faa-413c-bbf1-561cfff86ce3",
   "metadata": {},
   "outputs": [
    {
     "name": "stdout",
     "output_type": "stream",
     "text": [
      "first name:virat\n",
      "second name:kohli\n",
      "last name:rcb\n"
     ]
    }
   ],
   "source": [
    "str1=\"virat.kohli@rcb.com\"\n",
    "i1=str1.count(\".\")\n",
    "s1=str1.index(\".\")\n",
    "s2=str1[:s1]\n",
    "print(f\"first name:{s2}\")\n",
    "s3=str1.index(\".\",s1+1)\n",
    "s4=str1.index(\"@\")\n",
    "s5=str1[s1+1:s4]\n",
    "print(f\"second name:{s5}\")\n",
    "s6=str1[s4+1:s3]\n",
    "print(f\"last name:{s6}\")\n",
    "\n",
    "\n"
   ]
  },
  {
   "cell_type": "code",
   "execution_count": 44,
   "id": "475d743b-7450-433b-8473-9518ad774bfa",
   "metadata": {},
   "outputs": [
    {
     "name": "stdout",
     "output_type": "stream",
     "text": [
      "a b rcb\n"
     ]
    }
   ],
   "source": [
    "def extracation(str1):\n",
    "    first_dot=str1.index(\".\")\n",
    "    second_dot=str1.index(\".\",first_dot+1)\n",
    "    at_symbol=str1.index(\"@\")\n",
    "    fname=str1[:first_dot]\n",
    "    sname=str1[first_dot+1:at_symbol]\n",
    "    cname=str1[at_symbol+1:second_dot]\n",
    "    print(fname,sname,cname)\n",
    "    \n",
    "extracation(\"a.b@rcb.com\")\n"
   ]
  },
  {
   "cell_type": "markdown",
   "id": "57c78822-6362-44e2-a1b3-03e6e839a5ac",
   "metadata": {},
   "source": [
    "**lstrip-strip-rstrip\n",
    "- lstrip: we can remove some letters from the left side of a string\n",
    "- rstrip: we can remove some letters from the right side of a string\n",
    "- strip: we can remove  letters from both sides\n"
   ]
  },
  {
   "cell_type": "code",
   "execution_count": 2,
   "id": "933d0d94-3181-48f0-82d7-fa7de2c2f92a",
   "metadata": {},
   "outputs": [
    {
     "data": {
      "text/plain": [
       "('hai how are you', 'hai how are you', 'hai how are u')"
      ]
     },
     "execution_count": 2,
     "metadata": {},
     "output_type": "execute_result"
    }
   ],
   "source": [
    "s1=\"***hai how are you\"\n",
    "s2=\"hai how are you***\"\n",
    "s3=\"***hai how are u***\"\n",
    "s1.lstrip(\"*\"),s2.rstrip(\"*\"),s3.strip(\"*\")"
   ]
  },
  {
   "cell_type": "markdown",
   "id": "ed32509b-dd31-4f9b-8b06-825960814d36",
   "metadata": {},
   "source": [
    "**startswith-endswith**"
   ]
  },
  {
   "cell_type": "code",
   "execution_count": 183,
   "id": "01557cd0-3fd0-4160-bde9-2cc2127e21c9",
   "metadata": {},
   "outputs": [
    {
     "data": {
      "text/plain": [
       "True"
      ]
     },
     "execution_count": 183,
     "metadata": {},
     "output_type": "execute_result"
    }
   ],
   "source": [
    "str1=\"hai how are you\"\n",
    "str1.startswith(\"h\")"
   ]
  },
  {
   "cell_type": "code",
   "execution_count": 179,
   "id": "4addece1-5377-4541-9222-b0b5b7293105",
   "metadata": {},
   "outputs": [
    {
     "data": {
      "text/plain": [
       "True"
      ]
     },
     "execution_count": 179,
     "metadata": {},
     "output_type": "execute_result"
    }
   ],
   "source": [
    "str1=\"Hai how are you\"\n",
    "str1.endswith(\"are you\")"
   ]
  },
  {
   "cell_type": "markdown",
   "id": "337ffacf-5d4d-463f-be92-e24721c24d27",
   "metadata": {},
   "source": [
    "**split**"
   ]
  },
  {
   "cell_type": "code",
   "execution_count": 194,
   "id": "0169d7c9-6fe0-413a-898b-91fb9f66b6bc",
   "metadata": {},
   "outputs": [
    {
     "data": {
      "text/plain": [
       "['', 'ello ', 'ow are you']"
      ]
     },
     "execution_count": 194,
     "metadata": {},
     "output_type": "execute_result"
    }
   ],
   "source": [
    "str1=\"hello how are you\"\n",
    "str1.split(\"h\")"
   ]
  },
  {
   "cell_type": "code",
   "execution_count": null,
   "id": "ab88ba41-e462-484b-a431-a3acb5ff76db",
   "metadata": {},
   "outputs": [],
   "source": []
  }
 ],
 "metadata": {
  "kernelspec": {
   "display_name": "Python 3 (ipykernel)",
   "language": "python",
   "name": "python3"
  },
  "language_info": {
   "codemirror_mode": {
    "name": "ipython",
    "version": 3
   },
   "file_extension": ".py",
   "mimetype": "text/x-python",
   "name": "python",
   "nbconvert_exporter": "python",
   "pygments_lexer": "ipython3",
   "version": "3.11.7"
  }
 },
 "nbformat": 4,
 "nbformat_minor": 5
}
