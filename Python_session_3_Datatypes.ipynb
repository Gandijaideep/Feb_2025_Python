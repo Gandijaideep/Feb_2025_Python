{
 "cells": [
  {
   "cell_type": "markdown",
   "id": "8dc3d63f-2066-4460-aca2-8026c3d13f01",
   "metadata": {},
   "source": [
    "# Data Types"
   ]
  },
  {
   "cell_type": "markdown",
   "id": "bfb857e7-3091-412a-a30e-51f11c7f4a2e",
   "metadata": {},
   "source": [
    "- python can say data types of the value without intaializing\n",
    "- which mean the data type automatically consider\n",
    "- python has some inbuilt datatype structure\n",
    "- int : integer\n",
    "- float\n",
    "- str: string\n",
    "- bool: boolean\n",
    "- complex\n",
    "- list\n",
    "- tuple\n",
    "- dict: dictionary\n",
    "- set\n",
    "- forzenset\n",
    "- bytes\n",
    "- bytearray\n",
    "- memoryview"
   ]
  },
  {
   "cell_type": "markdown",
   "id": "b65fd210-bba3-433d-85f6-6cc4fe1a0726",
   "metadata": {},
   "source": [
    "# Integer"
   ]
  },
  {
   "cell_type": "code",
   "execution_count": 7,
   "id": "1fca3b6c-311f-4dfc-968d-79dbbda1c74e",
   "metadata": {},
   "outputs": [
    {
     "data": {
      "text/plain": [
       "int"
      ]
     },
     "execution_count": 7,
     "metadata": {},
     "output_type": "execute_result"
    }
   ],
   "source": [
    "num=100\n",
    "type(num)"
   ]
  },
  {
   "cell_type": "code",
   "execution_count": 9,
   "id": "7133631b-9b0b-47d3-8cf7-ae890ea513f3",
   "metadata": {},
   "outputs": [
    {
     "name": "stdout",
     "output_type": "stream",
     "text": [
      "100\n"
     ]
    }
   ],
   "source": [
    "print(num)"
   ]
  },
  {
   "cell_type": "markdown",
   "id": "0c25726c-97db-4ddd-a653-b4ddc77347d5",
   "metadata": {},
   "source": [
    "# Binary Number System"
   ]
  },
  {
   "cell_type": "markdown",
   "id": "2b38aad1-a2f8-4339-8bc7-763a8c089bc0",
   "metadata": {},
   "source": [
    "- numbers 0,1,2,3,4,5,6,7,8,9\n",
    "- Binary: bi means two : 0 and 1\n",
    "- representation is:0b001,0b111,0b1011,0B111\n",
    "- The wrong representation is: o,0b102"
   ]
  },
  {
   "cell_type": "code",
   "execution_count": 15,
   "id": "36a93757-d805-43ab-8887-80b938043792",
   "metadata": {},
   "outputs": [
    {
     "data": {
      "text/plain": [
       "7"
      ]
     },
     "execution_count": 15,
     "metadata": {},
     "output_type": "execute_result"
    }
   ],
   "source": [
    "0b111"
   ]
  },
  {
   "cell_type": "code",
   "execution_count": 17,
   "id": "436359a3-63af-46fe-873c-93fc94b62a06",
   "metadata": {},
   "outputs": [
    {
     "data": {
      "text/plain": [
       "21"
      ]
     },
     "execution_count": 17,
     "metadata": {},
     "output_type": "execute_result"
    }
   ],
   "source": [
    "0b10101"
   ]
  },
  {
   "cell_type": "code",
   "execution_count": 19,
   "id": "7d5d3149-1d7e-407f-93d7-1a5a7fa70f63",
   "metadata": {},
   "outputs": [
    {
     "data": {
      "text/plain": [
       "2748"
      ]
     },
     "execution_count": 19,
     "metadata": {},
     "output_type": "execute_result"
    }
   ],
   "source": [
    "0xabc"
   ]
  },
  {
   "cell_type": "markdown",
   "id": "08dfe11b-ccbf-46ad-bda0-35ec7effc739",
   "metadata": {},
   "source": [
    "# Refer notebook for conversation(Octal,Hexa,Binary,Decimal) "
   ]
  },
  {
   "cell_type": "markdown",
   "id": "f30830bd-4264-4aac-b198-0505d849305c",
   "metadata": {},
   "source": [
    "**Float**\n",
    "- float no means continues points\n",
    "- float no means having some decimals\n",
    "- integer number means discreate points."
   ]
  },
  {
   "cell_type": "code",
   "execution_count": 5,
   "id": "7723026a-302e-499f-949f-a38ae852fe1f",
   "metadata": {},
   "outputs": [
    {
     "data": {
      "text/plain": [
       "float"
      ]
     },
     "execution_count": 5,
     "metadata": {},
     "output_type": "execute_result"
    }
   ],
   "source": [
    "num =100.25\n",
    "type(num)"
   ]
  },
  {
   "cell_type": "markdown",
   "id": "de0730d8-2f74-4d3f-aea2-4a4063c0d0b2",
   "metadata": {},
   "source": [
    "- float points can represent as expoential fomarts  e"
   ]
  },
  {
   "cell_type": "code",
   "execution_count": 11,
   "id": "603ff2d2-fbd4-4090-a9db-327a5402dce6",
   "metadata": {},
   "outputs": [
    {
     "data": {
      "text/plain": [
       "(10.0, 100.0, 1000.0)"
      ]
     },
     "execution_count": 11,
     "metadata": {},
     "output_type": "execute_result"
    }
   ],
   "source": [
    "1e1 # 1*10\n",
    "1e2 # 1*100\n",
    "1e3 # 1*1000"
   ]
  },
  {
   "cell_type": "code",
   "execution_count": 13,
   "id": "29288987-7619-4ee9-9f17-0d7b17188e6f",
   "metadata": {},
   "outputs": [
    {
     "data": {
      "text/plain": [
       "200.0"
      ]
     },
     "execution_count": 13,
     "metadata": {},
     "output_type": "execute_result"
    }
   ],
   "source": [
    "2e2 "
   ]
  },
  {
   "cell_type": "code",
   "execution_count": 25,
   "id": "95366d6d-20a8-4449-ad4b-859e63d11a88",
   "metadata": {},
   "outputs": [
    {
     "name": "stdout",
     "output_type": "stream",
     "text": [
      "10.0\n",
      "100.0\n"
     ]
    },
    {
     "data": {
      "text/plain": [
       "1000.0"
      ]
     },
     "execution_count": 25,
     "metadata": {},
     "output_type": "execute_result"
    }
   ],
   "source": [
    "print(1e+1) # To get all values use print()\n",
    "print(1e+2)\n",
    "1e+3"
   ]
  },
  {
   "cell_type": "code",
   "execution_count": 27,
   "id": "d39e2b4f-c123-4098-bf26-d7db53c1c099",
   "metadata": {},
   "outputs": [
    {
     "data": {
      "text/plain": [
       "(0.1, 0.01)"
      ]
     },
     "execution_count": 27,
     "metadata": {},
     "output_type": "execute_result"
    }
   ],
   "source": [
    "1e-1,1e-2 # here '-' is division,'+' is multiplication."
   ]
  },
  {
   "cell_type": "markdown",
   "id": "603e5b3d-124d-4b99-b17f-b19a8ccb7a1f",
   "metadata": {},
   "source": [
    "# Strings"
   ]
  },
  {
   "cell_type": "markdown",
   "id": "b0bdf166-6896-49f2-9511-332e7cd2c884",
   "metadata": {},
   "source": [
    "- Strings means english characters.\n",
    "- denoted in \" \" or ' '"
   ]
  },
  {
   "cell_type": "code",
   "execution_count": 31,
   "id": "66f69d5a-c82b-47e8-bf84-ab13222a34a7",
   "metadata": {},
   "outputs": [
    {
     "data": {
      "text/plain": [
       "str"
      ]
     },
     "execution_count": 31,
     "metadata": {},
     "output_type": "execute_result"
    }
   ],
   "source": [
    "name=\"python\"\n",
    "type(name)"
   ]
  },
  {
   "cell_type": "code",
   "execution_count": 34,
   "id": "7db1ff20-809e-4ccc-9ff8-9b301f14f162",
   "metadata": {},
   "outputs": [
    {
     "data": {
      "text/plain": [
       "str"
      ]
     },
     "execution_count": 34,
     "metadata": {},
     "output_type": "execute_result"
    }
   ],
   "source": [
    "num='10'\n",
    "type(num)"
   ]
  },
  {
   "cell_type": "code",
   "execution_count": 36,
   "id": "7852a6d4-0b59-4027-9cf5-4e3244936cbc",
   "metadata": {},
   "outputs": [
    {
     "name": "stdout",
     "output_type": "stream",
     "text": [
      "hello i learn 'python'\n"
     ]
    }
   ],
   "source": [
    "sen1=\"hello i learn 'python'\"\n",
    "print(sen1)"
   ]
  },
  {
   "cell_type": "code",
   "execution_count": null,
   "id": "0113e3e9-e8e8-41e6-97c7-ebe2aaf1cc16",
   "metadata": {},
   "outputs": [],
   "source": [
    "- Entire sentence in single quotes, then use double to highlight quotes to highlight the word\n",
    "- Entire sentence in double quotes, then use single to highlight quotes to highlight the word"
   ]
  },
  {
   "cell_type": "code",
   "execution_count": 42,
   "id": "9d1fc1ee-d37a-471b-ba79-48a2bca6a2a1",
   "metadata": {},
   "outputs": [
    {
     "name": "stdout",
     "output_type": "stream",
     "text": [
      "hello GM\n",
      "class data types\n"
     ]
    }
   ],
   "source": [
    "stat1=\"hello GM\"\n",
    "stat2=\"class data types\"\n",
    "print(stat1)\n",
    "print(stat2)"
   ]
  },
  {
   "cell_type": "code",
   "execution_count": 55,
   "id": "78828ec0-4233-41ba-ab36-de005e94ee63",
   "metadata": {},
   "outputs": [
    {
     "name": "stdout",
     "output_type": "stream",
     "text": [
      "hi GM\n",
      "the class data type\n"
     ]
    }
   ],
   "source": [
    "statement=\"\"\"hi GM\n",
    "the class data type\"\"\"\n",
    "print(statement)\n"
   ]
  },
  {
   "cell_type": "markdown",
   "id": "8a1148b3-088c-4c53-bc76-5049da4bf4ae",
   "metadata": {},
   "source": [
    "**Doc string**\n"
   ]
  },
  {
   "cell_type": "markdown",
   "id": "2675102d-dd5d-48d8-a386-ea4a5c9cb7cc",
   "metadata": {},
   "source": [
    "- If we want to convey information to the user\n",
    "- we will write a statament before coding part\n",
    "- is called a DOC string\n",
    "- but in vs code we don't have markdown option\n"
   ]
  },
  {
   "cell_type": "markdown",
   "id": "5a525a9c-35d4-47a5-bf68-16aa019b6b36",
   "metadata": {},
   "source": [
    "# Boolean"
   ]
  },
  {
   "cell_type": "code",
   "execution_count": 59,
   "id": "b041692b-dbb7-451a-9cc3-150345d7dab9",
   "metadata": {},
   "outputs": [
    {
     "data": {
      "text/plain": [
       "bool"
      ]
     },
     "execution_count": 59,
     "metadata": {},
     "output_type": "execute_result"
    }
   ],
   "source": [
    "value=True\n",
    "type(value)"
   ]
  },
  {
   "cell_type": "code",
   "execution_count": 61,
   "id": "9aa6aa5e-ee51-400f-a43e-93e5bc618f02",
   "metadata": {},
   "outputs": [
    {
     "data": {
      "text/plain": [
       "int"
      ]
     },
     "execution_count": 61,
     "metadata": {},
     "output_type": "execute_result"
    }
   ],
   "source": [
    "value=1\n",
    "type(value)"
   ]
  },
  {
   "cell_type": "code",
   "execution_count": 63,
   "id": "0a5aba54-7fa4-41b5-b8a5-64d50b731dcd",
   "metadata": {},
   "outputs": [
    {
     "data": {
      "text/plain": [
       "bool"
      ]
     },
     "execution_count": 63,
     "metadata": {},
     "output_type": "execute_result"
    }
   ],
   "source": [
    "value=False\n",
    "type(value)"
   ]
  },
  {
   "cell_type": "code",
   "execution_count": null,
   "id": "1d7bf69c-41d5-4143-943f-9cae4033185f",
   "metadata": {},
   "outputs": [],
   "source": []
  }
 ],
 "metadata": {
  "kernelspec": {
   "display_name": "Python 3 (ipykernel)",
   "language": "python",
   "name": "python3"
  },
  "language_info": {
   "codemirror_mode": {
    "name": "ipython",
    "version": 3
   },
   "file_extension": ".py",
   "mimetype": "text/x-python",
   "name": "python",
   "nbconvert_exporter": "python",
   "pygments_lexer": "ipython3",
   "version": "3.11.7"
  }
 },
 "nbformat": 4,
 "nbformat_minor": 5
}
