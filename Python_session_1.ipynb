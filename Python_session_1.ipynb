{
 "cells": [
  {
   "cell_type": "code",
   "execution_count": 10,
   "id": "a2d44a29-01db-41f1-af3e-112310a137c6",
   "metadata": {},
   "outputs": [
    {
     "data": {
      "text/plain": [
       "10"
      ]
     },
     "execution_count": 10,
     "metadata": {},
     "output_type": "execute_result"
    }
   ],
   "source": [
    "a=10\n",
    "a"
   ]
  },
  {
   "cell_type": "code",
   "execution_count": 12,
   "id": "ff824fd8-4457-4a55-acc3-126c3c1dd446",
   "metadata": {},
   "outputs": [
    {
     "data": {
      "text/plain": [
       "30"
      ]
     },
     "execution_count": 12,
     "metadata": {},
     "output_type": "execute_result"
    }
   ],
   "source": [
    "a=10\n",
    "b=20\n",
    "a+b"
   ]
  },
  {
   "cell_type": "code",
   "execution_count": 14,
   "id": "189a32ee-b640-4984-bee2-f54890d58d5f",
   "metadata": {},
   "outputs": [
    {
     "name": "stdout",
     "output_type": "stream",
     "text": [
      "Jai\n"
     ]
    }
   ],
   "source": [
    "print('Jai')"
   ]
  },
  {
   "cell_type": "code",
   "execution_count": null,
   "id": "25be544f-e615-47a7-8c56-1f2040049c63",
   "metadata": {},
   "outputs": [],
   "source": [
    "#if u increase the range above, the kernal will be busy until it works on that output.\n",
    "for i in range(100000):\n",
    " print(i)"
   ]
  },
  {
   "cell_type": "code",
   "execution_count": 20,
   "id": "2f2e15b7-9967-4397-a5db-93f8771ff457",
   "metadata": {},
   "outputs": [
    {
     "data": {
      "text/plain": [
       "110"
      ]
     },
     "execution_count": 20,
     "metadata": {},
     "output_type": "execute_result"
    }
   ],
   "source": [
    "#if u run the a+c it will give the error and later run the c=100 and again run the a+c it gives the outputs which means python is the step by step process.\n",
    "a=10\n",
    "a+c"
   ]
  },
  {
   "cell_type": "code",
   "execution_count": 18,
   "id": "e7816dc4-253d-44ef-8795-b512dd9a010b",
   "metadata": {},
   "outputs": [],
   "source": [
    "c=100"
   ]
  },
  {
   "cell_type": "markdown",
   "id": "18c9eb21-1b4f-4bc3-98bb-253456c9a6fc",
   "metadata": {},
   "source": [
    "im learning python.\n",
    "im in code mode\n",
    "I need to change to markdowmn mode\n",
    "select the particular cell\n",
    "then in top"
   ]
  },
  {
   "cell_type": "markdown",
   "id": "45b2973a-667c-448b-9057-0a672e60807a",
   "metadata": {},
   "source": [
    "- i like python #click esc+m to get to markdown mode\n",
    "\n",
    "- esc+y markdown mode to code mode\n",
    "\n",
    "- when we are in markdown mode square brackets will not apper\n",
    "\n",
    "- Blue color bar indicates the corresponding cell is selected.\n"
   ]
  },
  {
   "cell_type": "markdown",
   "id": "d10ffbf7-831d-4d30-9a2a-3e0d4c6fa9ff",
   "metadata": {},
   "source": [
    "# In Python ===> # means comments\n",
    "\n",
    "- in markdown modes in creates as titile\n",
    "\n",
    "- if u increases hashes in title size will be decreased"
   ]
  },
  {
   "cell_type": "markdown",
   "id": "ec9429c7-f619-48c4-8c35-d68fc7190f40",
   "metadata": {},
   "source": [
    "- Now we will start the impute image\n",
    "\n",
    "- Go for any image then click on that image convert it into html and copy the image path and paste."
   ]
  },
  {
   "cell_type": "code",
   "execution_count": 26,
   "id": "cbaa5d09-d813-4e87-82b9-7113db5b322f",
   "metadata": {},
   "outputs": [
    {
     "name": "stdout",
     "output_type": "stream",
     "text": [
      "0\n",
      "1\n",
      "2\n",
      "3\n",
      "4\n",
      "5\n",
      "6\n",
      "7\n",
      "8\n",
      "9\n"
     ]
    }
   ],
   "source": [
    "for i in range(0,10):\n",
    " print(i)\n"
   ]
  },
  {
   "cell_type": "markdown",
   "id": "48b70f83-4133-48d3-aba4-ccb41381b100",
   "metadata": {},
   "source": [
    "- start the Python language from today.\n",
    "- go to sleep early"
   ]
  },
  {
   "cell_type": "markdown",
   "id": "0131a01c-4d3e-479f-82db-a89e71c2f66f",
   "metadata": {},
   "source": [
    "<img src=\"https://staticg.sportskeeda.com/editor/2022/08/53e15-16596004347246.png?w=640\" jsaction=\"\" class=\"sFlh5c FyHeAf iPVvYb\" style=\"max-width: 640px; height: 197px; margin: 0px; width: 351px;\" alt=\"Who is Naruto Uzumaki?\" jsname=\"kn3ccd\" aria-hidden=\"false\">"
   ]
  },
  {
   "cell_type": "code",
   "execution_count": 3,
   "id": "7f912702-1b6d-4960-b715-c22958611e91",
   "metadata": {},
   "outputs": [
    {
     "data": {
      "text/plain": [
       "'C:\\\\Users\\\\LENOVO\\\\NareshIT\\\\Python_Sessions'"
      ]
     },
     "execution_count": 3,
     "metadata": {},
     "output_type": "execute_result"
    }
   ],
   "source": [
    "# To get the location of where we are saving\n",
    "# get Current Working Directory (cwd)\n",
    "import os\n",
    "os.getcwd()"
   ]
  },
  {
   "cell_type": "markdown",
   "id": "fd730773-fa41-4303-8f1b-37172e1b6d7a",
   "metadata": {},
   "source": [
    "## Variables"
   ]
  },
  {
   "cell_type": "markdown",
   "id": "6cdd2dae-5d75-4b02-978b-9b54377a8ef0",
   "metadata": {},
   "source": [
    "Variables are used to store the values, and the variables can be change."
   ]
  },
  {
   "cell_type": "code",
   "execution_count": 16,
   "id": "883b0990-e538-425d-8a9e-81c9ffe99b5d",
   "metadata": {},
   "outputs": [
    {
     "name": "stdout",
     "output_type": "stream",
     "text": [
      "100\n"
     ]
    }
   ],
   "source": [
    "num=100\n",
    "#value 100 Stored in a variable called:num\n",
    "print(num)"
   ]
  },
  {
   "cell_type": "code",
   "execution_count": 18,
   "id": "4ebf532a-6d8b-4d7a-b2f9-daa0bb2e8c1b",
   "metadata": {},
   "outputs": [
    {
     "data": {
      "text/plain": [
       "300"
      ]
     },
     "execution_count": 18,
     "metadata": {},
     "output_type": "execute_result"
    }
   ],
   "source": [
    "number=300\n",
    "number"
   ]
  },
  {
   "cell_type": "code",
   "execution_count": 20,
   "id": "e9fe94be-72ce-4d68-b0f9-be92db3fe410",
   "metadata": {},
   "outputs": [
    {
     "data": {
      "text/plain": [
       "200"
      ]
     },
     "execution_count": 20,
     "metadata": {},
     "output_type": "execute_result"
    }
   ],
   "source": [
    "NUMBER=200\n",
    "NUMBER"
   ]
  },
  {
   "cell_type": "code",
   "execution_count": 22,
   "id": "5f281095-150f-4c57-8aa6-d2e831cee7e5",
   "metadata": {},
   "outputs": [
    {
     "data": {
      "text/plain": [
       "(300, 200)"
      ]
     },
     "execution_count": 22,
     "metadata": {},
     "output_type": "execute_result"
    }
   ],
   "source": [
    "number,NUMBER"
   ]
  },
  {
   "cell_type": "code",
   "execution_count": 24,
   "id": "cd8aa599-7e4c-42be-8cb1-5802899fed46",
   "metadata": {},
   "outputs": [
    {
     "ename": "SyntaxError",
     "evalue": "invalid decimal literal (4012223506.py, line 3)",
     "output_type": "error",
     "traceback": [
      "\u001b[1;36m  Cell \u001b[1;32mIn[24], line 3\u001b[1;36m\u001b[0m\n\u001b[1;33m    123number # Doesn't work\u001b[0m\n\u001b[1;37m      ^\u001b[0m\n\u001b[1;31mSyntaxError\u001b[0m\u001b[1;31m:\u001b[0m invalid decimal literal\n"
     ]
    }
   ],
   "source": [
    "number # works\n",
    "NUMBER # works\n",
    "123number # Doesn't work\n",
    "number123 # works"
   ]
  },
  {
   "cell_type": "code",
   "execution_count": 34,
   "id": "fe0c77f0-6794-42f4-9dfe-b001a224cd59",
   "metadata": {},
   "outputs": [
    {
     "data": {
      "text/plain": [
       "10"
      ]
     },
     "execution_count": 34,
     "metadata": {},
     "output_type": "execute_result"
    }
   ],
   "source": [
    "Number_one=(10) #Exception\n",
    "Number_one"
   ]
  },
  {
   "cell_type": "code",
   "execution_count": 30,
   "id": "194ed1b1-f3e7-4496-8fc5-8c9165f47035",
   "metadata": {},
   "outputs": [
    {
     "ename": "SyntaxError",
     "evalue": "incomplete input (826236144.py, line 2)",
     "output_type": "error",
     "traceback": [
      "\u001b[1;36m  Cell \u001b[1;32mIn[30], line 2\u001b[1;36m\u001b[0m\n\u001b[1;33m    Number\u001b[0m\n\u001b[1;37m            ^\u001b[0m\n\u001b[1;31mSyntaxError\u001b[0m\u001b[1;31m:\u001b[0m incomplete input\n"
     ]
    }
   ],
   "source": [
    "Number  =200 ## space also a special character\n",
    "Number  \n"
   ]
  },
  {
   "cell_type": "markdown",
   "id": "462b050d-e378-4f83-bc43-0cf7d8d19657",
   "metadata": {},
   "source": [
    "- variables can be a capital letters\n",
    "- variables can be a small letters\n",
    "- variables can be a mix of both cap and small \n",
    "- variables can be a mix of letters and numbers as **Suffix**\n",
    "- variables cannot be a mix of letters and numbers as **prefix**\n",
    "- keywords can not be a variable (if, else, true,false, while,do)\n",
    "\n"
   ]
  },
  {
   "cell_type": "code",
   "execution_count": 37,
   "id": "8add4860-431b-48d1-bd05-038b54455b2d",
   "metadata": {},
   "outputs": [
    {
     "data": {
      "text/plain": [
       "100"
      ]
     },
     "execution_count": 37,
     "metadata": {},
     "output_type": "execute_result"
    }
   ],
   "source": [
    "_=100 # If we give only underscore it will work\n",
    "_"
   ]
  },
  {
   "cell_type": "code",
   "execution_count": 2,
   "id": "4c25bf67-1cb7-4f17-bde9-0f2bccfbaf51",
   "metadata": {},
   "outputs": [
    {
     "name": "stdout",
     "output_type": "stream",
     "text": [
      "5\n"
     ]
    }
   ],
   "source": [
    "x = eval(\"2 + 3\")\n",
    "print(x) ### we can do (\" _+ _\") in eval  "
   ]
  },
  {
   "cell_type": "code",
   "execution_count": 4,
   "id": "bbd5faec-28e3-49fc-815c-6948f4a800f6",
   "metadata": {},
   "outputs": [
    {
     "name": "stdout",
     "output_type": "stream",
     "text": [
      "hello\n"
     ]
    }
   ],
   "source": [
    "x=eval(\"print('hello')\")"
   ]
  },
  {
   "cell_type": "code",
   "execution_count": null,
   "id": "5940c717-0d13-4131-88e4-6617c7f551d5",
   "metadata": {},
   "outputs": [],
   "source": []
  }
 ],
 "metadata": {
  "kernelspec": {
   "display_name": "Python 3 (ipykernel)",
   "language": "python",
   "name": "python3"
  },
  "language_info": {
   "codemirror_mode": {
    "name": "ipython",
    "version": 3
   },
   "file_extension": ".py",
   "mimetype": "text/x-python",
   "name": "python",
   "nbconvert_exporter": "python",
   "pygments_lexer": "ipython3",
   "version": "3.11.7"
  }
 },
 "nbformat": 4,
 "nbformat_minor": 5
}
